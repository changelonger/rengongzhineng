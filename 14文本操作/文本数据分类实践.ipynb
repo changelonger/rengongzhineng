{
 "cells": [
  {
   "cell_type": "markdown",
   "metadata": {},
   "source": [
    "# 中文文本分词"
   ]
  },
  {
   "cell_type": "markdown",
   "metadata": {},
   "source": [
    "文本分类是人们日常工作中经常遇到的问题，也是机器学习和自然语言处理的重要研究内容。通常意义下的文本分类，实际上仅是符号化的标记（即自然数），并没有额外的过程性或说明性的知识，也没有元数据（如中图法分类号），只能从文档的内容本身提取信息来对文档进行分类。当然，对于特定的应用，使用外部知识或元数据可提高分类器的泛化能力。"
   ]
  },
  {
   "cell_type": "markdown",
   "metadata": {},
   "source": [
    "那么，对于一个文本分类问题，我们一般采用如下流程进行处理："
   ]
  },
  {
   "attachments": {
    "image.png": {
     "image/png": "[encoded data removed]"
    }
   },
   "cell_type": "markdown",
   "metadata": {},
   "source": [
    "![image.png](attachment:image.png)"
   ]
  },
  {
   "cell_type": "markdown",
   "metadata": {},
   "source": [
    "语言理解中，词是最小的能够独立活动的有意义的粒度。由词到句，由句成文。因此，文本分词一般都是自然语言处理的第一步。将句子分词之后，依旧无法进行分类，原因是机器并无法理解人类能使用的自然语言。所以，接下来就需要将词处理成能输入到算法中的向量，而不同的向量化和预处理方法也被统称为特征提取的过程。最后，基于文本特征建立机器学习分类模型，就能完成文本分类了。\n",
    "\n",
    "中文分词这个概念自提出以来，经过多年的发展，主要可以分为三个方法：机械分词方法，统计分词方法，以及两种结合起来的分词。\n",
    "\n",
    "其中，机械分词方法又叫做基于规则的分词方法。这种分词方法按照一定的规则将待处理的字符串与一个词表词典中的词进行逐一匹配，若在词典中找到某个字符串，则切分，否则不切分。机械分词方法按照匹配规则的方式，又可以分为：正向最大匹配法，逆向最大匹配法和双向匹配法三种。"
   ]
  },
  {
   "cell_type": "markdown",
   "metadata": {},
   "source": [
    "**正向最大匹配法**\n"
   ]
  },
  {
   "cell_type": "markdown",
   "metadata": {},
   "source": [
    "正向最大匹配法（Maximum Match Method，简称：MM）是指从左向右按最大原则与词典里面的词进行匹配。假设词典中最长词是  个字，那么从待切分文本的最左边取$m$个字符与词典进行匹配，如果匹配成功，则分词。如果匹配不成功，那么取$m-1$个字符与词典匹配，一直取直到成功匹配为止。"
   ]
  },
  {
   "cell_type": "markdown",
   "metadata": {},
   "source": [
    "下来，我们用一个简单的例子来讲一下正向最大匹配法的过程。假设我们有如下所示的句子和字典。\n",
    "\n",
    "- 句子：中华民族从此站起来了\n",
    "- 词典：**中华，民族，从此，站起来了**\n",
    "\n",
    "接下来，开始实施正向最大匹配法：\n",
    "\n",
    "- 第一步：词典中最长是 4 个字，所以我们将 **中华民族** 取出来与词典进行匹配，匹配失败。\n",
    "- 第二步：于是，去掉 **族**，以 **中华民** 进行匹配，匹配失败。\n",
    "- 第三步：去掉 **中华民** 中的 **民**，以 **中华** 进行匹配，匹配成功。\n",
    "- 第四步：在带切分句子中去掉匹配成功的词，待切分句子变成 **民族从此站起来了。**\n",
    "- 第五步：重复上面的第 1-4 步骤\n",
    "- 第六步：若最后一个词语匹配成功，结束。\n",
    "- 最终句子被分成：**中华 / 民族 / 从此 / 站起来了。**"
   ]
  },
  {
   "cell_type": "markdown",
   "metadata": {},
   "source": [
    "**逆向最大匹配法**"
   ]
  },
  {
   "cell_type": "markdown",
   "metadata": {},
   "source": [
    "逆向最大匹配法（Reverse Maximum Match Method，简称：RMM）的原理与正向法基本相同，唯一不同的就是切分的方向与正向最大匹配法相反。逆向法从文本末端开始匹配，每次用末端的最长词长度个字符进行匹配。\n",
    "\n",
    "因为基本原理与正向最大匹配法一样，反向来进行匹配就行。所以这里对算法不再赘述。由于汉语言存在偏正短语，因此逆向匹配法相比与正向匹配的精确度会高一些。"
   ]
  },
  {
   "cell_type": "markdown",
   "metadata": {},
   "source": [
    "**双向最大匹配法**"
   ]
  },
  {
   "cell_type": "markdown",
   "metadata": {},
   "source": [
    "双向最大匹配法（Bi-direction Matching Method，简称：BMM）则是将正向匹配法得到的分词结果与逆向匹配法得到的分词结果进行比较，然后按照最大匹配原则，选取次数切分最少的作为结果。\n",
    "\n",
    "接下来，我们以正向最大匹配法为例来实现其分词过程。首先，给出示例句子和词典。"
   ]
  },
  {
   "cell_type": "code",
   "execution_count": 35,
   "metadata": {},
   "outputs": [],
   "source": [
    "t = '我们是共产主义的接班人'\n",
    "d = ('我们', '是', '共产主义', '的', '接班', '人', '你', '我', '社会', '主义')"
   ]
  },
  {
   "cell_type": "code",
   "execution_count": 36,
   "metadata": {},
   "outputs": [
    {
     "data": {
      "text/plain": [
       "4"
      ]
     },
     "execution_count": 36,
     "metadata": {},
     "output_type": "execute_result"
    }
   ],
   "source": [
    "def get_max_len(d):\n",
    "    max_len_word = 0\n",
    "    for key in d:\n",
    "        if (len(key)>max_len_word):\n",
    "            max_len_word = len(key)\n",
    "    return max_len_word\n",
    "get_max_len(d)\n"
   ]
  },
  {
   "cell_type": "code",
   "execution_count": 37,
   "metadata": {},
   "outputs": [],
   "source": [
    "# 接下来，我们按照上方给出的正向最大匹配法伪代码来构建正向最大匹配分词函数。\n",
    "\n",
    "def mm(t,d): # t应该是字符串,d应该是词典\n",
    "    words = [] # 存放结果\n",
    "    while len(t)>0: \n",
    "        word_len = get_max_len(d)\n",
    "        for i in range(0,word_len): # 这里的i纯粹是用来计数的\n",
    "            word = t[0:word_len]\n",
    "            if word not in d:\n",
    "                word_len-=1\n",
    "                word = []\n",
    "            else:\n",
    "                t = t[word_len:] # 更新位置\n",
    "                words.append(word)\n",
    "                word = []\n",
    "    return words\n",
    "\n"
   ]
  },
  {
   "cell_type": "code",
   "execution_count": 38,
   "metadata": {},
   "outputs": [
    {
     "data": {
      "text/plain": [
       "['我们', '是', '共产主义', '的', '接班', '人']"
      ]
     },
     "execution_count": 38,
     "metadata": {},
     "output_type": "execute_result"
    }
   ],
   "source": [
    "mm(t, d)  # 运行测试"
   ]
  },
  {
   "cell_type": "markdown",
   "metadata": {},
   "source": [
    "可以看到，原句子以成功按照给出的字典进行了分词。\n",
    "\n",
    "通过上面这段代码，虽然可以分词的目的，但也有明显的缺点。首先，这需要一个准备好的词典，而分词算法对于词典中不存在的词是无分辨能力的。其次，算法需要执行多个循环判断，时间复杂度高，不适用于大量文本分词。所以，更多情况下，我们会选择基于统计规则的中文分词方法。\n",
    "\n",
    "随着语料库的大规模化，以及统计机器学习的蓬勃发展，基于统计规则的中文分词算法逐渐成为现在的主流分词方法。其特点是在给定大量已经分词的文本的前提下，利用统计机器学习模型学习词语切分的规律。\n",
    "\n",
    "简单来讲，假设我们已经有一个由很多个文本组成的的语料库 D，现在需要对 **我有一个苹果** 进行分词。其中，两个相连的字 **苹** 和 **果** 在不同的文本中连续出现的次数越多，就说明这两个相连字很可能构成 **苹果**。\n",
    "\n",
    "与此同时，**个** 和 **苹** 这两个相连的词在别的文本中连续出现的次数很少，就说明这两个相连的字不太可能构成 **个苹**。所以，可以利用统计规则来反应字与字成词的可信度。当字连续组合的概率高过一个临界值时，就认为该组合构成了一个词语。\n",
    "\n",
    "基于统计的分词，一般情况下首先需要建立统计语言模型。然后再对句子进行单词划分，并对划分结果进行概率计算。最终，获得概率最大的分词方式。这里，我们一般会用到隐马可夫，条件随机场等方法。"
   ]
  },
  {
   "cell_type": "markdown",
   "metadata": {},
   "source": [
    "**结巴中文分词**\n"
   ]
  },
  {
   "cell_type": "markdown",
   "metadata": {},
   "source": [
    "**结巴中文分词** 就是一款基于统计的分词工具，其基于隐马可夫模型设计，并使用了 Viterbi 动态规划算法。由于结巴非常好用，分词效率很高，在中文分词领域有举足轻重的地位。\n",
    "\n",
    "接下来，我们就来学习结巴分词的使用方法。结巴分词支持三种分词模式：\n",
    "\n",
    "- 精确模式：试图将句子最精确地切开，适合文本分析。\n",
    "- 全模式：把句子中所有的可以成词的词语都扫描出来，速度非常快，但是不能解决歧义。\n",
    "- 搜索引擎模式：在精确模式的基础上，对长词再次切分，提高召回率，适合用于搜索引擎分词。\n",
    "结巴的使用方法非常简单，cut 方法默认为精确模式，并对文本进行分词。"
   ]
  },
  {
   "cell_type": "code",
   "execution_count": 39,
   "metadata": {},
   "outputs": [],
   "source": [
    "import jieba\n",
    "\n",
    "seg = \"蓝桥云课楼 + 深度学习实战是一门培养机器学习初级工程师的课程\"\n",
    "seg_list = jieba.cut(seg)\n",
    "# seg_list\n",
    "# print(type(seg_list))\n",
    "word2idx = {word:idx for word,idx in enumerate(seg_list)}\n",
    "# print(word2idx)\n",
    "# seq = [word2idx.get(word, 0) for word in seg_list]  # 使用get方法获取索引，不存在的词使用0表示\n",
    "# seq\n",
    "for word in seg_list:\n",
    "    print(word)\n",
    "# jieba 返回的迭代器只能迭代一次哦"
   ]
  },
  {
   "cell_type": "code",
   "execution_count": 40,
   "metadata": {},
   "outputs": [
    {
     "name": "stdout",
     "output_type": "stream",
     "text": [
      "1\n",
      "CPU times: total: 0 ns\n",
      "Wall time: 510 µs\n"
     ]
    },
    {
     "data": {
      "text/plain": [
       "''"
      ]
     },
     "execution_count": 40,
     "metadata": {},
     "output_type": "execute_result"
    }
   ],
   "source": [
    "%%time\n",
    "print(\" \".join('1'))\n",
    "\", \".join(seg_list)"
   ]
  },
  {
   "cell_type": "code",
   "execution_count": 41,
   "metadata": {},
   "outputs": [
    {
     "name": "stdout",
     "output_type": "stream",
     "text": [
      "CPU times: total: 0 ns\n",
      "Wall time: 1 ms\n"
     ]
    },
    {
     "data": {
      "text/plain": [
       "'蓝桥, 云, 课, 楼, ,  , , +, ,  , , 深度, 学习, 实战, 是, 一门, 培养, 机器, 学习, 初级, 初级工, 工程, 工程师, 的, 课程'"
      ]
     },
     "execution_count": 41,
     "metadata": {},
     "output_type": "execute_result"
    }
   ],
   "source": [
    "%%time\n",
    "\", \".join(jieba.cut(seg, cut_all=True))"
   ]
  },
  {
   "cell_type": "code",
   "execution_count": 42,
   "metadata": {},
   "outputs": [
    {
     "name": "stdout",
     "output_type": "stream",
     "text": [
      "CPU times: total: 0 ns\n",
      "Wall time: 0 ns\n"
     ]
    },
    {
     "data": {
      "text/plain": [
       "'蓝桥, 云, 课楼,  , +,  , 深度, 学习, 实战, 是, 一门, 培养, 机器, 学习, 初级, 工程, 工程师, 的, 课程'"
      ]
     },
     "execution_count": 42,
     "metadata": {},
     "output_type": "execute_result"
    }
   ],
   "source": [
    "%%time\n",
    "\", \".join(jieba.cut_for_search(seg))"
   ]
  },
  {
   "cell_type": "markdown",
   "metadata": {},
   "source": [
    "你可以对比三种模式的分词区别。这里，我们通过 %%time Jupyter Notebook 魔术方法打印出三段代码执行的时长，全模式的确速度最快。\n",
    "\n",
    "对于上面的示例语句，实际上这里的「机器学习」应该被看作一个专有名词，而不应该被分为一般情形下的「机器」和「学习」。结巴分词支持自定义词典，从而可以避免上面这类情况。\n",
    "\n",
    "如果只需要添加零星的几个自定义词汇，可以直接使用 jieba.add_word。当然，如果生产环境需要识别大量的专业词汇，可以参考  官方示例 制作用户词典。"
   ]
  },
  {
   "cell_type": "markdown",
   "metadata": {},
   "source": [
    "# 英文文本分词"
   ]
  },
  {
   "cell_type": "markdown",
   "metadata": {},
   "source": [
    "相比于中文文本，英文文本分词要简单很多。原因在于，英文文本词与词之间本来就有空格或者标点符号进行分割。所以，英文文本分词不需要依靠算法或暴力拆分，直接通过空格或者标点来将文本进行分开就可以完成。"
   ]
  },
  {
   "cell_type": "code",
   "execution_count": 43,
   "metadata": {},
   "outputs": [
    {
     "data": {
      "text/plain": [
       "['i', 'have', 'a', 'pen']"
      ]
     },
     "execution_count": 43,
     "metadata": {},
     "output_type": "execute_result"
    }
   ],
   "source": [
    "'i have a pen'.split()  # split 方法默认将字符串按空格拆分"
   ]
  },
  {
   "cell_type": "markdown",
   "metadata": {},
   "source": [
    "当然，对于日常的英文文本分词，我们可以采用下面的代码。例如，string.punctuation 提供了常用英文标点符号。"
   ]
  },
  {
   "cell_type": "code",
   "execution_count": 44,
   "metadata": {},
   "outputs": [
    {
     "data": {
      "text/plain": [
       "'!\"#$%&\\'()*+,-./:;<=>?@[\\\\]^_`{|}~'"
      ]
     },
     "execution_count": 44,
     "metadata": {},
     "output_type": "execute_result"
    }
   ],
   "source": [
    "import string\n",
    "string.punctuation"
   ]
  },
  {
   "cell_type": "markdown",
   "metadata": {},
   "source": [
    "接下来，删除句子中的标点符号。这里，可以使用 Python 提供了一个名为 translate()  的函数，它可以将一组字符映射到另一组字符。我们可以使用函数 maketrans()  来创建映射表。我们可以创建一个空的映射表，maketrans() 函数的第三个参数允许我们列出在 translate 过程中要删除的所有字符。代码如下"
   ]
  },
  {
   "cell_type": "code",
   "execution_count": 45,
   "metadata": {},
   "outputs": [],
   "source": [
    "text = \"\"\"\n",
    "[English] is a West Germanic language that was first spoken in early\n",
    "medieval England and eventually became a global lingua franca.\n",
    "It is named after the <Angles>, one of the Germanic tribes that\n",
    "migrated to the area of Great Britain that later took their name,\n",
    "as England.\n",
    "\"\"\""
   ]
  },
  {
   "cell_type": "code",
   "execution_count": 46,
   "metadata": {},
   "outputs": [
    {
     "name": "stdout",
     "output_type": "stream",
     "text": [
      "['English', 'is', 'a', 'West', 'Germanic', 'language', 'that', 'was', 'first', 'spoken', 'in', 'early', 'medieval', 'England', 'and', 'eventually', 'became', 'a', 'global', 'lingua', 'franca', 'It', 'is', 'named', 'after', 'the', 'Angles', 'one', 'of', 'the', 'Germanic', 'tribes', 'that', 'migrated', 'to', 'the', 'area', 'of', 'Great', 'Britain', 'that', 'later', 'took', 'their', 'name', 'as', 'England']\n"
     ]
    }
   ],
   "source": [
    "words = text.split()\n",
    "table = str.maketrans('','',string.punctuation)\n",
    "\n",
    "stripped = [w.translate(table) for w in words]\n",
    "print(stripped)"
   ]
  },
  {
   "cell_type": "markdown",
   "metadata": {},
   "source": [
    "# 文本特征提取\n"
   ]
  },
  {
   "cell_type": "markdown",
   "metadata": {},
   "source": [
    "分词之后的语料数据是无法直接用于分类的，还需要我们从中提取特征，并将这些文本特征变换为数值特征。只有向量化后的数值才能够传入到分类器中训练文本分类模型。"
   ]
  },
  {
   "cell_type": "markdown",
   "metadata": {},
   "source": [
    "文本特征提取的方法有很多，这里我们介绍比较有代表性，同时较为常用的几个。\n",
    "\n"
   ]
  },
  {
   "cell_type": "markdown",
   "metadata": {},
   "source": [
    "**词袋模型**"
   ]
  },
  {
   "cell_type": "markdown",
   "metadata": {},
   "source": [
    " 词袋模型（英语：Bag-of-words model，简称：BoW）是最最基础的一类特征提取方法，其主要思路是忽略掉了文本的语法和语序，用一组无序的单词序列来表达一段文字或者一个文档。可以这样理解，我们把整个文档集的所有出现的词都丢进袋子里面，去重后无序排列。这样，就可以按照词语出现的次数来表示文档。"
   ]
  },
  {
   "cell_type": "markdown",
   "metadata": {},
   "source": [
    "下面，我们来演示词袋模型的步骤。对于如下图所示的 3 个英文句子（中文同理）。\n",
    "\n"
   ]
  },
  {
   "cell_type": "markdown",
   "metadata": {},
   "source": [
    "**\"The elephant sneezed at the sight of potatoes.\"**   \n",
    "**\"Bats can see via echolocation. See the bat sight sneeze!\"**   \n",
    "**\"Wondering, she opened the door to the studio.\"**"
   ]
  },
  {
   "cell_type": "markdown",
   "metadata": {},
   "source": [
    "首先，完成分词 → 去除多余标点字符 → 去除重复，得到如下图横排的单词，即为词袋。英文中，单复数，时态往往只保留单词原型。"
   ]
  },
  {
   "attachments": {
    "image.png": {
     "image/png": "[encoded data removed]"
    }
   },
   "cell_type": "markdown",
   "metadata": {},
   "source": [
    "![image.png](attachment:image.png)"
   ]
  },
  {
   "cell_type": "markdown",
   "metadata": {},
   "source": [
    "词袋模型的表示方法为，对照词袋，统计原句子中某个单词出现的次数。这样，无论句子的长度如何，均可用等长度的词袋向量进行表示。例如，对于句子 \"Bats can see via echolocation. See the bat sight sneeze!\"，其可以转换为向量$[0,2,1,...,0,1,0]。$"
   ]
  },
  {
   "attachments": {
    "image.png": {
     "image/png": "[encoded data removed]"
    }
   },
   "cell_type": "markdown",
   "metadata": {},
   "source": [
    "![image.png](attachment:image.png)"
   ]
  },
  {
   "cell_type": "markdown",
   "metadata": {},
   "source": [
    "我们可以使用 scikit-learn 提供的 sklearn.feature_extraction.text.CountVectorizer  来构建词袋模型。方法很简单，通过下面的例子就能看明白了。"
   ]
  },
  {
   "cell_type": "code",
   "execution_count": 47,
   "metadata": {},
   "outputs": [
    {
     "name": "stdout",
     "output_type": "stream",
     "text": [
      "['at' 'bat' 'can' 'door' 'echolocation' 'elephant' 'of' 'open' 'potato'\n",
      " 'see' 'she' 'sight' 'sneeze' 'studio' 'the' 'to' 'via' 'wonder']\n"
     ]
    },
    {
     "data": {
      "text/plain": [
       "array([[1, 0, 0, 0, 0, 1, 1, 0, 1, 0, 0, 1, 1, 0, 2, 0, 0, 0],\n",
       "       [0, 2, 1, 0, 1, 0, 0, 0, 0, 2, 0, 1, 1, 0, 1, 0, 1, 0],\n",
       "       [0, 0, 0, 1, 0, 0, 0, 1, 0, 0, 1, 0, 0, 1, 2, 1, 0, 1]],\n",
       "      dtype=int64)"
      ]
     },
     "execution_count": 47,
     "metadata": {},
     "output_type": "execute_result"
    }
   ],
   "source": [
    "from sklearn .feature_extraction.text import CountVectorizer\n",
    "\n",
    "corpus = [\n",
    "    \"The elephant sneeze at the sight of potato.\",\n",
    "    \"Bat can see via echolocation. See the bat sight sneeze!\",\n",
    "    \"Wonder, she open the door to the studio.\",\n",
    "]\n",
    "vectorizer = CountVectorizer()\n",
    "vectors = vectorizer.fit_transform(corpus)\n",
    "\n",
    "print(vectorizer.get_feature_names_out())\n",
    "\n",
    "vectors.toarray()"
   ]
  },
  {
   "cell_type": "markdown",
   "metadata": {},
   "source": [
    "上面的例子中，我们在制作 corpus 时已手动对英语单词中单复数和时态词汇做了处理，全部变为原型。这个过程在实际应用时，可以通过预处理代码来完成。\n",
    "\n",
    "词袋模型的另一个小变种就是不以单词实际出现的次数表示，而是采取类似独热编码的方式。单词出现即置为 1，未出现即为 0。"
   ]
  },
  {
   "attachments": {
    "image.png": {
     "image/png": "[encoded data removed]"
    }
   },
   "cell_type": "markdown",
   "metadata": {},
   "source": [
    "![image.png](attachment:image.png)"
   ]
  },
  {
   "cell_type": "markdown",
   "metadata": {},
   "source": [
    "这个过程同样可以使用 scikit-learn 来完成。这里用到了 sklearn.preprocessing.Binarizer  对上面 CountVectorizer 处理结果进行独热编码转换。"
   ]
  },
  {
   "cell_type": "code",
   "execution_count": 48,
   "metadata": {},
   "outputs": [
    {
     "data": {
      "text/plain": [
       "array([[1, 0, 0, 0, 0, 1, 1, 0, 1, 0, 0, 1, 1, 0, 1, 0, 0, 0],\n",
       "       [0, 1, 1, 0, 1, 0, 0, 0, 0, 1, 0, 1, 1, 0, 1, 0, 1, 0],\n",
       "       [0, 0, 0, 1, 0, 0, 0, 1, 0, 0, 1, 0, 0, 1, 1, 1, 0, 1]],\n",
       "      dtype=int64)"
      ]
     },
     "execution_count": 48,
     "metadata": {},
     "output_type": "execute_result"
    }
   ],
   "source": [
    "from sklearn.preprocessing import Binarizer\n",
    "\n",
    "from sklearn.preprocessing import Binarizer\n",
    "freq = CountVectorizer()\n",
    "corpus_ = freq.fit_transform(corpus)\n",
    "\n",
    "onehot = Binarizer()\n",
    "onehot.fit_transform(corpus_.toarray())\n"
   ]
  },
  {
   "cell_type": "markdown",
   "metadata": {},
   "source": [
    "**TF-IDF 模型**"
   ]
  },
  {
   "cell_type": "markdown",
   "metadata": {},
   "source": [
    "TF-IDF 模型（英语：Term frequency–inverse document frequency）是一种用于信息检索与文本挖掘的常用加权技术。TF-IDF 是一种统计方法，用以评估一字词对于一个文件集或一个语料库中的其中一份文件的重要程度。\n",
    "TF-IDF 由 TF（Term frequency，词频）和 IDF（Inverse document frequency，逆文档频率）两部分组成。计算公式为："
   ]
  },
  {
   "cell_type": "markdown",
   "metadata": {},
   "source": [
    "$$\n",
    "tf_{ij} = \\frac{n_{ij}}{\\sum_k n_{kj}}\n",
    "$$"
   ]
  },
  {
   "cell_type": "code",
   "execution_count": 49,
   "metadata": {},
   "outputs": [
    {
     "data": {
      "text/plain": [
       "array([[0.39066946, 0.        , 0.        , 0.        , 0.        ,\n",
       "        0.39066946, 0.39066946, 0.        , 0.39066946, 0.        ,\n",
       "        0.        , 0.29711419, 0.29711419, 0.        , 0.46147135,\n",
       "        0.        , 0.        , 0.        ],\n",
       "       [0.        , 0.56555816, 0.28277908, 0.        , 0.28277908,\n",
       "        0.        , 0.        , 0.        , 0.        , 0.56555816,\n",
       "        0.        , 0.21506078, 0.21506078, 0.        , 0.16701388,\n",
       "        0.        , 0.28277908, 0.        ],\n",
       "       [0.        , 0.        , 0.        , 0.36772387, 0.        ,\n",
       "        0.        , 0.        , 0.36772387, 0.        , 0.        ,\n",
       "        0.36772387, 0.        , 0.        , 0.36772387, 0.43436728,\n",
       "        0.36772387, 0.        , 0.36772387]])"
      ]
     },
     "execution_count": 49,
     "metadata": {},
     "output_type": "execute_result"
    }
   ],
   "source": [
    "from sklearn.feature_extraction.text import TfidfVectorizer\n",
    "\n",
    "vectorizer = TfidfVectorizer()\n",
    "tfidf = vectorizer.fit_transform(corpus)\n",
    "tfidf.toarray()"
   ]
  },
  {
   "cell_type": "code",
   "execution_count": 60,
   "metadata": {},
   "outputs": [
    {
     "name": "stdout",
     "output_type": "stream",
     "text": [
      "{'常国龙': 0, '是': 1, '我': 2, '的': 3, '男神': 4}\n",
      "\n"
     ]
    }
   ],
   "source": [
    "tex = '常国龙是我男神'\n",
    "words = jieba.cut(text)\n",
    "# 先遍历吧\n",
    "l = {word:idx for idx,word in enumerate(words)}\n",
    "print(l)\n",
    "s = \" \".join(words)\n",
    "print(s)"
   ]
  },
  {
   "cell_type": "markdown",
   "metadata": {},
   "source": [
    "**Word2Vec 模型**"
   ]
  },
  {
   "cell_type": "markdown",
   "metadata": {},
   "source": [
    " Word2Vec 模型 是 Google 团队于 2015 年提出来的一种字词的向量表示法，又被称为「词嵌入」。\n",
    "\n",
    "无论是词袋模型，还是 TF-IDF 模型，它们均是使用离散化的向量值来表示文本。这些编码是任意的，并未提供有关字词之间可能存在的相关性。将字词表示为唯一的离散值还会导致数据稀疏性，并且通常意味着我们可能需要更多数据才能成功训练统计模型。\n",
    "\n",
    "向量空间模型 在连续向量空间中表示（嵌入）字词，其中语义相似的字词会映射到附近的点（在彼此附近嵌入）。向量空间模型在 NLP 方面有着悠久而丰富的历史，但所有方法均以某种方式依赖于分布假设，这种假设指明在相同上下文中显示的字词语义相同。"
   ]
  },
  {
   "attachments": {
    "image.png": {
     "image/png": "[encoded data removed]"
    }
   },
   "cell_type": "markdown",
   "metadata": {},
   "source": [
    "![image.png](attachment:image.png)"
   ]
  },
  {
   "cell_type": "markdown",
   "metadata": {},
   "source": [
    "Word2Vec 是一种计算效率特别高的预测模型，用于学习原始文本中的字词嵌入。它分为两种类型：连续词袋模型（CBOW）和 Skip-Gram 模型。从算法上看，两种模型比较相似，只是 CBOW 从源上下文字词（the cat sits on the）中预测目标字词（例如 mat），而 Skip-Gram 则逆向而行，从目标字词中预测源上下文字词。"
   ]
  },
  {
   "cell_type": "markdown",
   "metadata": {},
   "source": [
    "根据论文观点，统计学上有助于 CBOW 整理很多分布信息。在大多数情况下，这对于小型数据集来说是很有用的。但是，Skip-Gram 将每个上下文 - 目标对视为一个新的观察对象，当我们使用大型数据集时，Skip-Gram 似乎能发挥更好的效果。关于 Word2Vec 的具体原理解释比较复杂，大家可以阅读  论文原文 或  其他相关资料。本次实验，我们重点来学习如何使用 Word2Vec。"
   ]
  },
  {
   "cell_type": "markdown",
   "metadata": {},
   "source": [
    "Word2Vec 词嵌入过程一般常用  Gensim 库来处理。Gensim 是自然语言处理过程中一个比较常用的工具，其提供了封装好的高效 Word2Vec 处理类 gensim.modelsWord2Vec()。其常用参数有："
   ]
  },
  {
   "cell_type": "markdown",
   "metadata": {},
   "source": [
    "- size: 词嵌入的维数，表示每个单词嵌入后的向量长度。\n",
    "- window: 目标字与目标字周围的字之间的最大距离。\n",
    "- min_count: 训练模型时要考虑的最小字数，出现小于此计数的单词将被忽略。\n",
    "- sg: 训练算法，CBOW(0) 或 Skip-Gram(1)"
   ]
  },
  {
   "cell_type": "code",
   "execution_count": 16,
   "metadata": {},
   "outputs": [
    {
     "name": "stdout",
     "output_type": "stream",
     "text": [
      "['the', 'bat', 'sneeze', 'sight', 'see', 'elephant', 'at', 'of', 'potato', 'studio', 'to', 'via', 'echolocation', 'wonder', 'she', 'open', 'door', 'can']\n"
     ]
    },
    {
     "data": {
      "text/plain": [
       "array([-0.04309844,  0.01832869,  0.02594942,  0.02870969,  0.03733459,\n",
       "       -0.03083838,  0.00552807,  0.03023641, -0.01420025, -0.03086761,\n",
       "       -0.00205112, -0.04184474, -0.02800006,  0.03552269,  0.0167627 ,\n",
       "        0.03612835,  0.03400124,  0.03765371, -0.01894577, -0.00280903],\n",
       "      dtype=float32)"
      ]
     },
     "execution_count": 16,
     "metadata": {},
     "output_type": "execute_result"
    }
   ],
   "source": [
    "# 使用 Word2Vec 对前面的示例文本进行词嵌入操作。\n",
    "from gensim.models import Word2Vec\n",
    "# 分词之后的示例文本\n",
    "sentences = [['the', 'elephant', 'sneeze', 'at', 'the', 'sight', 'of', 'potato'],\n",
    "             ['bat', 'can', 'see', 'via', 'echolocation', 'see', 'the', 'bat', 'sight', 'sneeze'],\n",
    "             ['wonder', 'she', 'open', 'the', 'door', 'to', 'the', 'studio']]\n",
    "\n",
    "# 训练\n",
    "\n",
    "model = Word2Vec(sentences,vector_size=20,min_count=1)\n",
    "# 输出该语料库独立不重复词\n",
    "print(list(model.wv.index_to_key))\n",
    "model.wv['elephant']\n",
    "\n"
   ]
  },
  {
   "cell_type": "markdown",
   "metadata": {},
   "source": [
    "下面，我们可以把 Word2Vec 嵌入后的词在空间中绘制处理。由于上面模型设置了 size=20，所以需要使用 PCA 降维把嵌入后的向量降维为二维才能够在平面中可视化出来。"
   ]
  },
  {
   "cell_type": "code",
   "execution_count": 17,
   "metadata": {},
   "outputs": [
    {
     "data": {
      "image/png": "[encoded data removed]",
      "text/plain": [
       "<Figure size 640x480 with 1 Axes>"
      ]
     },
     "metadata": {},
     "output_type": "display_data"
    }
   ],
   "source": [
    "from sklearn.decomposition import PCA\n",
    "from matplotlib import pyplot as plt\n",
    "%matplotlib inline\n",
    "\n",
    "# PCA降维\n",
    "X = model.wv[model.wv.key_to_index]\n",
    "pca = PCA(n_components=2)\n",
    "result = pca.fit_transform(X)\n",
    "\n",
    "plt.scatter(result[:, 0], result[:, 1])\n",
    "words = list(model.wv.key_to_index)\n",
    "for i, word in enumerate(words):\n",
    "    plt.annotate(word, xy=(result[i, 0], result[i, 1]))"
   ]
  },
  {
   "cell_type": "markdown",
   "metadata": {},
   "source": [
    "由于我们的语料库较小，其实字词直接的相关性不太明显。如果语料库足够大，你就可以明显看出部分意义相关的词空间距离更近。\n",
    "\n",
    "训练 Word2Vec 模型往往需要大量的语料和时间，所以在有些时候我们会使用预训练的词嵌入模型。例如，Google 在  Word2Vec Project 上发布了一个预先训练过的 Word2Vec 模型。该模型使用谷歌新闻数据（约 1000 亿字）进行训练，其包含了 300 万个单词和短语，并且使用 300 维词向量表示。由于该预训练词嵌入模型大小为 3.4 GB，这里就不再演示了。你可以在  本地下载 下来，并通过以下代码加载模型。"
   ]
  },
  {
   "cell_type": "markdown",
   "metadata": {},
   "source": [
    "# 假新闻分类任务\n"
   ]
  },
  {
   "cell_type": "markdown",
   "metadata": {},
   "source": [
    "WSDM - Fake News Classification 假新闻分类大赛是 Kaggle 上面的一个比赛。本次实验我们使用其提供的数据集来完成一次文本分类任务。首先，下载实验提供的数据集。"
   ]
  },
  {
   "cell_type": "code",
   "execution_count": 18,
   "metadata": {},
   "outputs": [
    {
     "name": "stderr",
     "output_type": "stream",
     "text": [
      "File 'wsdm_mini.csv' already there; not retrieving.\n",
      "\n"
     ]
    }
   ],
   "source": [
    "!wget -nc \"http://labfile.oss.aliyuncs.com/courses/1233/wsdm_mini.csv\""
   ]
  },
  {
   "cell_type": "code",
   "execution_count": 19,
   "metadata": {},
   "outputs": [
    {
     "data": {
      "application/vnd.microsoft.datawrangler.viewer.v0+json": {
       "columns": [
        {
         "name": "index",
         "rawType": "int64",
         "type": "integer"
        },
        {
         "name": "title1_zh",
         "rawType": "object",
         "type": "string"
        },
        {
         "name": "title2_zh",
         "rawType": "object",
         "type": "string"
        },
        {
         "name": "label",
         "rawType": "object",
         "type": "string"
        }
       ],
       "conversionMethod": "pd.DataFrame",
       "ref": "703502e9-5920-4684-afd0-9a53d2a72af6",
       "rows": [
        [
         "0",
         "千叶湖八岁孩子不想去学英语，跳楼了",
         "「辟谣」千叶湖八岁孩子跳楼了为谣言信息",
         "disagreed"
        ],
        [
         "1",
         "喝酸奶真的能补充益生菌吗？",
         "喝酸奶来补充益生菌，靠谱么？",
         "agreed"
        ],
        [
         "2",
         "刚刚马云终于出手了！房价要跌，扬言房地产中介都要失业了",
         "最新消息马云终于出手了！扬言房地产中介都要失业！6",
         "agreed"
        ],
        [
         "3",
         "直击“冯乡长”李正春追悼会：赵本山全程操办，赵四刘能现场祭奠",
         "昆明会议直击“活摘”谣言",
         "unrelated"
        ],
        [
         "4",
         "李雨桐爆薛之谦离婚内幕，说到底就是网红之间的恩怨情仇嘛",
         "薛之谦前女友李雨桐再次发微博爆料，薛之谦工作室发声明辟谣",
         "disagreed"
        ],
        [
         "5",
         "苹果打蜡致癌",
         "一种农村超级顽固的杂草，居然能治疗风湿关节痛",
         "unrelated"
        ],
        [
         "6",
         "GJSAY光晶说：普洱茶含黄曲霉素？容易致癌？是真的吗",
         "普洱茶致癌？2017年舌尖上的谣言你免疫了吗？",
         "unrelated"
        ],
        [
         "7",
         "伊利董事长潘刚疑似被带走？？？是真是假？",
         "伊利：造谣董事长被带走调查的一名涉案人员已被捕归案",
         "disagreed"
        ],
        [
         "8",
         "一个月根治糖尿病，协和医院密不外传的方子",
         "根治糖尿病！不用几万，用这个方子在家轻松治降血糖（建议收藏）",
         "agreed"
        ],
        [
         "9",
         "刘明炜高考准考证丢失",
         "高考临近准考证丢失谣言再现翻版 警方：别拨电话",
         "disagreed"
        ],
        [
         "10",
         "刚公布赵丽颖恋情，卓伟就曝光了赵丽颖不雅照这是洗不白了？",
         "赵丽颖大方公开恋情 竟然是他？",
         "agreed"
        ],
        [
         "11",
         "央视都播了！60岁以下逮捕罚款，今天起全国严查棋牌室？",
         "全国严查棋牌室，60岁以下一律逮捕？谣言！",
         "disagreed"
        ],
        [
         "12",
         "快速戒烟的小妙招",
         "戒烟是一件很困难的事情，今天教你一个小妙招",
         "agreed"
        ],
        [
         "13",
         "能减肥还能缓解疲劳 就是香蕉了",
         "香蕉切片这样做，肚子小两圈，减肥瘦身治便秘",
         "agreed"
        ],
        [
         "14",
         "李天一竟提前六年出狱？网友调侃：李双江夫妇人脉关系很强大！",
         "北京监狱声明：强奸犯李天一被提前6年出狱并已出国实属谣言",
         "disagreed"
        ],
        [
         "15",
         "交警提醒：驾驶证“替人销分”17新规出台，驾驶证代扣已成为过去",
         "辟谣？你是否相信这些谣言？2018驾驶证消分出新规？驾照代扣分扣留6个月？还得拘留15天？",
         "unrelated"
        ],
        [
         "16",
         "微信隐藏的逆天功能，输入这串代码，你的位置立即就能定位",
         "微信实用小技巧！发送这串代码，便可以快速定位自己的位置！",
         "agreed"
        ],
        [
         "17",
         "《写给未来的你》，值得所有孩子一看",
         "余光中：写给未来的你｜这不是对生命最大的辜负！",
         "unrelated"
        ],
        [
         "18",
         "签字版“袁大头”到底有多值钱？百万宝马都换不来！",
         "擦肩而过的百万珍品——签字版袁大头",
         "agreed"
        ],
        [
         "19",
         "四川省南充市嘉陵区四中学生打死人",
         "杨颖赵丽颖参加节目同框比美, 网友: 整容和非整容一眼就看出",
         "unrelated"
        ],
        [
         "20",
         "不认识这几种摄像头,就算你有3本驾照都不够扣分!",
         "提示：2018年起新交规实行，不认识这5种摄像头，100分也不够扣！",
         "agreed"
        ],
        [
         "21",
         "卓伟报鹿晗隐婚生子，鹿晗回应：再胡说把你嘴巴上锁",
         "鹿晗被爆隐婚生子，回应卓伟：再胡说就给你嘴巴上锁",
         "agreed"
        ],
        [
         "22",
         "微信号可以修改了！有奇葩微信号的朋友可以一雪前耻了！",
         "微信一年只能修改5次用户资料是谣言。",
         "disagreed"
        ],
        [
         "23",
         "王源被疑整容，范冰冰发微博力挺王源，李晨也不忘秀恩爱",
         "华信系首次回应“上海国盛接管”传言：未收到通知 请投资者“不轻信网络不实传言”",
         "unrelated"
        ],
        [
         "24",
         "腾蛟有人赌球输了跳楼",
         "「热点关注」成都男子赌球输了跳楼？谣言！天台上的，警方请你们下来聊聊",
         "unrelated"
        ],
        [
         "25",
         "中国华北上空出现不明飞行物 神秘物体似UFO",
         "谢霆锋妈妈想见孙子，不知张柏芝怎么想，是否同意孩子回父亲家",
         "unrelated"
        ],
        [
         "26",
         "网友怀疑杨幂整容，她和老同学的回答吓到众人",
         "马伊琍当考官坚决表态拒绝整容脸 杨幂郑爽都是新生代可惜的例子",
         "unrelated"
        ],
        [
         "27",
         "农民朋友请注意：不参与土地确权，这四项权益你可能都享受不到！",
         "好事将近？范冰冰李晨同回老家  那被爆分手又是怎么回事？",
         "unrelated"
        ],
        [
         "28",
         "空腹吃这些食物等于慢性自杀，第一个就常吃！",
         "空腹吃这些食物等于慢性自杀？击穿空腹吃喝的那些谣言！",
         "disagreed"
        ],
        [
         "29",
         "彭于晏出轨？出柜？！小仙女们要哭了！",
         "彭于晏被爆“出柜”？工作室火速辟谣！“男女通吃”怪我咯？",
         "disagreed"
        ],
        [
         "30",
         "彭于晏出柜了？对方叫张磊，没想到是这样的霸道总裁！",
         "出柜不可怕，真爱最伟大？韩红发声明斥责网络谣言，否认谣言！",
         "unrelated"
        ],
        [
         "31",
         "淮南人朋友圈热传“飞机撒药治白蛾？”",
         "飞机撒药治白蛾又开始了？且慢！我两年前就见过这条谣言",
         "disagreed"
        ],
        [
         "32",
         "女主播夜宿故宫直播慈禧床榻？",
         "确定是假的！漳州虎踪视频涉嫌散布谣言，有关部门正在调查！",
         "unrelated"
        ],
        [
         "33",
         "华为制造高颜值威马汽车来了！融资达200亿，下半年完成生产",
         "华为入股的汽车即将上市，与360合作开发车载防护，各种黑科技",
         "unrelated"
        ],
        [
         "34",
         "5月1日起公交成为全国失联儿童安全守护点",
         "辟谣丨“5月1日起全国公交成失联儿童守护点”假的！",
         "disagreed"
        ],
        [
         "35",
         "娱乐圈再现“塑料姐妹花”是怎么回事？网友：拿唐嫣打脸杨幂？",
         "唐嫣杨幂渐行渐远",
         "unrelated"
        ],
        [
         "36",
         "片酬从6000万降到10万可能吗？范冰冰宣布退出娱乐圈",
         "范冰冰宣布退出娱乐圈？片酬从6000万降到10万！",
         "agreed"
        ],
        [
         "37",
         "李天一提前6年出狱？李双江夫妻心情大好，网友：对受害人公平吗",
         "“李天一获减刑提前出狱”？谣言！",
         "disagreed"
        ],
        [
         "38",
         "妻子成植物人3年，突然怀孕丈夫却哭成泪人，咋回事？",
         "没想到：丈夫成植物人，卧床3年后，妻子怀孕了",
         "unrelated"
        ],
        [
         "39",
         "广西13人吃西瓜感染病毒死亡",
         "在群中传谣称13人吃西瓜感染病毒死亡 女子被警方传唤并口头警告",
         "disagreed"
        ],
        [
         "40",
         "张柏芝10月巴黎结婚，男朋友是比她小11岁的小鲜肉，谢霆锋回应！",
         "张柏芝将与小鲜肉结婚，彻底告别谢霆锋，男方人格魅力不输谢霆锋",
         "agreed"
        ],
        [
         "41",
         "乡下偏方：枸杞+洋葱+蜂蜜，前列腺问题半个月除根，从此不再反复",
         "洋葱：前列腺的天敌，只花不到2块钱，6天断根，一用一个准！",
         "agreed"
        ],
        [
         "42",
         "苏打绿解散",
         "阿龚澄清苏打绿解散传言:青峰单飞消息不属实",
         "disagreed"
        ],
        [
         "43",
         "抽烟戒不掉？多吃这4种食物就可以清肺排烟毒！真的不试试？",
         "抽烟熬夜，你是否经常痰多咳嗽胸闷？6种清肺润肺食物助你排烟毒",
         "agreed"
        ],
        [
         "44",
         "张继科已向景甜求婚？见完父母后景甜已戴上戒指，网友：好事将近",
         "景甜、张继科好事将近？“景甜方辟谣”成热搜！",
         "disagreed"
        ],
        [
         "45",
         "成龙私生女正面近照曝光，网友：开始有女人味了！",
         "成龙私生女近照曝光，和关晓彤一样无忧无虑！",
         "agreed"
        ],
        [
         "46",
         "怎么查询微信历史聊天记录，恢复以前删除的记录",
         "微信聊天记录删除了怎么恢复？查看苹果手机微信记录",
         "unrelated"
        ],
        [
         "47",
         "第六套新版人民币即将发行？新华社这样说",
         "溆浦讯｜“今天溆浦又出大事了”短视频系谣言！",
         "unrelated"
        ],
        [
         "48",
         "315曝光企业完整名单！香精饮料！食物相克表！这些你要注意啦！",
         "315晚会说了，食物相克的谣言不存在",
         "disagreed"
        ],
        [
         "49",
         "「网信宜昌」飞机撒药灭白蛾、吃柚子会感染bp5病毒？",
         "OMG｜多吃一定胖？前夫哥雷佳音决定还击谣言捍卫吃货",
         "unrelated"
        ]
       ],
       "shape": {
        "columns": 3,
        "rows": 15000
       }
      },
      "text/html": [
       "<div>\n",
       "<style scoped>\n",
       "    .dataframe tbody tr th:only-of-type {\n",
       "        vertical-align: middle;\n",
       "    }\n",
       "\n",
       "    .dataframe tbody tr th {\n",
       "        vertical-align: top;\n",
       "    }\n",
       "\n",
       "    .dataframe thead th {\n",
       "        text-align: right;\n",
       "    }\n",
       "</style>\n",
       "<table border=\"1\" class=\"dataframe\">\n",
       "  <thead>\n",
       "    <tr style=\"text-align: right;\">\n",
       "      <th></th>\n",
       "      <th>title1_zh</th>\n",
       "      <th>title2_zh</th>\n",
       "      <th>label</th>\n",
       "    </tr>\n",
       "  </thead>\n",
       "  <tbody>\n",
       "    <tr>\n",
       "      <th>0</th>\n",
       "      <td>千叶湖八岁孩子不想去学英语，跳楼了</td>\n",
       "      <td>「辟谣」千叶湖八岁孩子跳楼了为谣言信息</td>\n",
       "      <td>disagreed</td>\n",
       "    </tr>\n",
       "    <tr>\n",
       "      <th>1</th>\n",
       "      <td>喝酸奶真的能补充益生菌吗？</td>\n",
       "      <td>喝酸奶来补充益生菌，靠谱么？</td>\n",
       "      <td>agreed</td>\n",
       "    </tr>\n",
       "    <tr>\n",
       "      <th>2</th>\n",
       "      <td>刚刚马云终于出手了！房价要跌，扬言房地产中介都要失业了</td>\n",
       "      <td>最新消息马云终于出手了！扬言房地产中介都要失业！6</td>\n",
       "      <td>agreed</td>\n",
       "    </tr>\n",
       "    <tr>\n",
       "      <th>3</th>\n",
       "      <td>直击“冯乡长”李正春追悼会：赵本山全程操办，赵四刘能现场祭奠</td>\n",
       "      <td>昆明会议直击“活摘”谣言</td>\n",
       "      <td>unrelated</td>\n",
       "    </tr>\n",
       "    <tr>\n",
       "      <th>4</th>\n",
       "      <td>李雨桐爆薛之谦离婚内幕，说到底就是网红之间的恩怨情仇嘛</td>\n",
       "      <td>薛之谦前女友李雨桐再次发微博爆料，薛之谦工作室发声明辟谣</td>\n",
       "      <td>disagreed</td>\n",
       "    </tr>\n",
       "    <tr>\n",
       "      <th>...</th>\n",
       "      <td>...</td>\n",
       "      <td>...</td>\n",
       "      <td>...</td>\n",
       "    </tr>\n",
       "    <tr>\n",
       "      <th>14995</th>\n",
       "      <td>脸上长了斑点不要急，教你2个祛斑的小妙招，让肌肤更显细腻白皙</td>\n",
       "      <td>脸上“老年斑”，睡前轻轻脸上抹一次，7天斑点不见了</td>\n",
       "      <td>agreed</td>\n",
       "    </tr>\n",
       "    <tr>\n",
       "      <th>14996</th>\n",
       "      <td>提高免疫力✌️</td>\n",
       "      <td>保健品能提高免疫力吗？</td>\n",
       "      <td>unrelated</td>\n",
       "    </tr>\n",
       "    <tr>\n",
       "      <th>14997</th>\n",
       "      <td>紧急寻找两位丢失身份证和高考准考证的学生</td>\n",
       "      <td>「辟谣」临近高考，“刘明炜”丢失准考证的谣言又开始刷屏了</td>\n",
       "      <td>disagreed</td>\n",
       "    </tr>\n",
       "    <tr>\n",
       "      <th>14998</th>\n",
       "      <td>《跑男》天津录制“霸占”学生图书馆！大学生怒了：滚出我们校园！</td>\n",
       "      <td>天大学生让跑男滚出天津是谣言？一切都是无良媒体的恶意炒作？！</td>\n",
       "      <td>disagreed</td>\n",
       "    </tr>\n",
       "    <tr>\n",
       "      <th>14999</th>\n",
       "      <td>好消息！独生子女6大补贴累计近万元，二胎也有份</td>\n",
       "      <td>高圣远与周迅：离婚or分居！盘点周迅与8任前男友的悲欢离合</td>\n",
       "      <td>unrelated</td>\n",
       "    </tr>\n",
       "  </tbody>\n",
       "</table>\n",
       "<p>15000 rows × 3 columns</p>\n",
       "</div>"
      ],
      "text/plain": [
       "                             title1_zh                       title2_zh  \\\n",
       "0                    千叶湖八岁孩子不想去学英语，跳楼了             「辟谣」千叶湖八岁孩子跳楼了为谣言信息   \n",
       "1                        喝酸奶真的能补充益生菌吗？                  喝酸奶来补充益生菌，靠谱么？   \n",
       "2          刚刚马云终于出手了！房价要跌，扬言房地产中介都要失业了       最新消息马云终于出手了！扬言房地产中介都要失业！6   \n",
       "3       直击“冯乡长”李正春追悼会：赵本山全程操办，赵四刘能现场祭奠                    昆明会议直击“活摘”谣言   \n",
       "4          李雨桐爆薛之谦离婚内幕，说到底就是网红之间的恩怨情仇嘛    薛之谦前女友李雨桐再次发微博爆料，薛之谦工作室发声明辟谣   \n",
       "...                                ...                             ...   \n",
       "14995   脸上长了斑点不要急，教你2个祛斑的小妙招，让肌肤更显细腻白皙       脸上“老年斑”，睡前轻轻脸上抹一次，7天斑点不见了   \n",
       "14996                          提高免疫力✌️                     保健品能提高免疫力吗？   \n",
       "14997             紧急寻找两位丢失身份证和高考准考证的学生    「辟谣」临近高考，“刘明炜”丢失准考证的谣言又开始刷屏了   \n",
       "14998  《跑男》天津录制“霸占”学生图书馆！大学生怒了：滚出我们校园！  天大学生让跑男滚出天津是谣言？一切都是无良媒体的恶意炒作？！   \n",
       "14999          好消息！独生子女6大补贴累计近万元，二胎也有份   高圣远与周迅：离婚or分居！盘点周迅与8任前男友的悲欢离合   \n",
       "\n",
       "           label  \n",
       "0      disagreed  \n",
       "1         agreed  \n",
       "2         agreed  \n",
       "3      unrelated  \n",
       "4      disagreed  \n",
       "...          ...  \n",
       "14995     agreed  \n",
       "14996  unrelated  \n",
       "14997  disagreed  \n",
       "14998  disagreed  \n",
       "14999  unrelated  \n",
       "\n",
       "[15000 rows x 3 columns]"
      ]
     },
     "execution_count": 19,
     "metadata": {},
     "output_type": "execute_result"
    }
   ],
   "source": [
    "import pandas as pd\n",
    "\n",
    "df = pd.read_csv('wsdm_mini.csv')\n",
    "df"
   ]
  },
  {
   "cell_type": "markdown",
   "metadata": {},
   "source": [
    "该数据集使用了原比赛提供的训练集，仅保留了中文字段并抽样其中 1.5 万条数据。数据集包含两列特征 title1_zh 和 title2_zh，这是两个新闻标题。而目标值 label 则表示这两则新闻的关系，其中：\n",
    "\n",
    "- agreed：B 谈到与 A 相同的假新闻。\n",
    "- disagreed：B 驳斥 A 中的假新闻。\n",
    "- unrelated：B 与 A 无关。"
   ]
  },
  {
   "cell_type": "markdown",
   "metadata": {},
   "source": [
    "3 个标签的数据各有 5000 条。\n",
    "按照上文中的思路，首先我们需要对文本进行分词处理。在分词之前，首先将 title1_zh 和 title2_zh 合并为一个字段 title_zh\n"
   ]
  },
  {
   "cell_type": "code",
   "execution_count": 20,
   "metadata": {},
   "outputs": [
    {
     "data": {
      "application/vnd.microsoft.datawrangler.viewer.v0+json": {
       "columns": [
        {
         "name": "index",
         "rawType": "int64",
         "type": "integer"
        },
        {
         "name": "label",
         "rawType": "object",
         "type": "string"
        },
        {
         "name": "title_zh",
         "rawType": "object",
         "type": "string"
        }
       ],
       "conversionMethod": "pd.DataFrame",
       "ref": "34c9c40b-d2ea-4371-9e70-e8e8a50d1c95",
       "rows": [
        [
         "0",
         "disagreed",
         "千叶湖八岁孩子不想去学英语，跳楼了「辟谣」千叶湖八岁孩子跳楼了为谣言信息"
        ],
        [
         "1",
         "agreed",
         "喝酸奶真的能补充益生菌吗？喝酸奶来补充益生菌，靠谱么？"
        ],
        [
         "2",
         "agreed",
         "刚刚马云终于出手了！房价要跌，扬言房地产中介都要失业了最新消息马云终于出手了！扬言房地产中介都要失业！6"
        ],
        [
         "3",
         "unrelated",
         "直击“冯乡长”李正春追悼会：赵本山全程操办，赵四刘能现场祭奠昆明会议直击“活摘”谣言"
        ],
        [
         "4",
         "disagreed",
         "李雨桐爆薛之谦离婚内幕，说到底就是网红之间的恩怨情仇嘛薛之谦前女友李雨桐再次发微博爆料，薛之谦工作室发声明辟谣"
        ],
        [
         "5",
         "unrelated",
         "苹果打蜡致癌一种农村超级顽固的杂草，居然能治疗风湿关节痛"
        ],
        [
         "6",
         "unrelated",
         "GJSAY光晶说：普洱茶含黄曲霉素？容易致癌？是真的吗普洱茶致癌？2017年舌尖上的谣言你免疫了吗？"
        ],
        [
         "7",
         "disagreed",
         "伊利董事长潘刚疑似被带走？？？是真是假？伊利：造谣董事长被带走调查的一名涉案人员已被捕归案"
        ],
        [
         "8",
         "agreed",
         "一个月根治糖尿病，协和医院密不外传的方子根治糖尿病！不用几万，用这个方子在家轻松治降血糖（建议收藏）"
        ],
        [
         "9",
         "disagreed",
         "刘明炜高考准考证丢失高考临近准考证丢失谣言再现翻版 警方：别拨电话"
        ],
        [
         "10",
         "agreed",
         "刚公布赵丽颖恋情，卓伟就曝光了赵丽颖不雅照这是洗不白了？赵丽颖大方公开恋情 竟然是他？"
        ],
        [
         "11",
         "disagreed",
         "央视都播了！60岁以下逮捕罚款，今天起全国严查棋牌室？全国严查棋牌室，60岁以下一律逮捕？谣言！"
        ],
        [
         "12",
         "agreed",
         "快速戒烟的小妙招戒烟是一件很困难的事情，今天教你一个小妙招"
        ],
        [
         "13",
         "agreed",
         "能减肥还能缓解疲劳 就是香蕉了香蕉切片这样做，肚子小两圈，减肥瘦身治便秘"
        ],
        [
         "14",
         "disagreed",
         "李天一竟提前六年出狱？网友调侃：李双江夫妇人脉关系很强大！北京监狱声明：强奸犯李天一被提前6年出狱并已出国实属谣言"
        ],
        [
         "15",
         "unrelated",
         "交警提醒：驾驶证“替人销分”17新规出台，驾驶证代扣已成为过去辟谣？你是否相信这些谣言？2018驾驶证消分出新规？驾照代扣分扣留6个月？还得拘留15天？"
        ],
        [
         "16",
         "agreed",
         "微信隐藏的逆天功能，输入这串代码，你的位置立即就能定位微信实用小技巧！发送这串代码，便可以快速定位自己的位置！"
        ],
        [
         "17",
         "unrelated",
         "《写给未来的你》，值得所有孩子一看余光中：写给未来的你｜这不是对生命最大的辜负！"
        ],
        [
         "18",
         "agreed",
         "签字版“袁大头”到底有多值钱？百万宝马都换不来！擦肩而过的百万珍品——签字版袁大头"
        ],
        [
         "19",
         "unrelated",
         "四川省南充市嘉陵区四中学生打死人杨颖赵丽颖参加节目同框比美, 网友: 整容和非整容一眼就看出"
        ],
        [
         "20",
         "agreed",
         "不认识这几种摄像头,就算你有3本驾照都不够扣分!提示：2018年起新交规实行，不认识这5种摄像头，100分也不够扣！"
        ],
        [
         "21",
         "agreed",
         "卓伟报鹿晗隐婚生子，鹿晗回应：再胡说把你嘴巴上锁鹿晗被爆隐婚生子，回应卓伟：再胡说就给你嘴巴上锁"
        ],
        [
         "22",
         "disagreed",
         "微信号可以修改了！有奇葩微信号的朋友可以一雪前耻了！微信一年只能修改5次用户资料是谣言。"
        ],
        [
         "23",
         "unrelated",
         "王源被疑整容，范冰冰发微博力挺王源，李晨也不忘秀恩爱华信系首次回应“上海国盛接管”传言：未收到通知 请投资者“不轻信网络不实传言”"
        ],
        [
         "24",
         "unrelated",
         "腾蛟有人赌球输了跳楼「热点关注」成都男子赌球输了跳楼？谣言！天台上的，警方请你们下来聊聊"
        ],
        [
         "25",
         "unrelated",
         "中国华北上空出现不明飞行物 神秘物体似UFO谢霆锋妈妈想见孙子，不知张柏芝怎么想，是否同意孩子回父亲家"
        ],
        [
         "26",
         "unrelated",
         "网友怀疑杨幂整容，她和老同学的回答吓到众人马伊琍当考官坚决表态拒绝整容脸 杨幂郑爽都是新生代可惜的例子"
        ],
        [
         "27",
         "unrelated",
         "农民朋友请注意：不参与土地确权，这四项权益你可能都享受不到！好事将近？范冰冰李晨同回老家  那被爆分手又是怎么回事？"
        ],
        [
         "28",
         "disagreed",
         "空腹吃这些食物等于慢性自杀，第一个就常吃！空腹吃这些食物等于慢性自杀？击穿空腹吃喝的那些谣言！"
        ],
        [
         "29",
         "disagreed",
         "彭于晏出轨？出柜？！小仙女们要哭了！彭于晏被爆“出柜”？工作室火速辟谣！“男女通吃”怪我咯？"
        ],
        [
         "30",
         "unrelated",
         "彭于晏出柜了？对方叫张磊，没想到是这样的霸道总裁！出柜不可怕，真爱最伟大？韩红发声明斥责网络谣言，否认谣言！"
        ],
        [
         "31",
         "disagreed",
         "淮南人朋友圈热传“飞机撒药治白蛾？”飞机撒药治白蛾又开始了？且慢！我两年前就见过这条谣言"
        ],
        [
         "32",
         "unrelated",
         "女主播夜宿故宫直播慈禧床榻？确定是假的！漳州虎踪视频涉嫌散布谣言，有关部门正在调查！"
        ],
        [
         "33",
         "unrelated",
         "华为制造高颜值威马汽车来了！融资达200亿，下半年完成生产华为入股的汽车即将上市，与360合作开发车载防护，各种黑科技"
        ],
        [
         "34",
         "disagreed",
         "5月1日起公交成为全国失联儿童安全守护点辟谣丨“5月1日起全国公交成失联儿童守护点”假的！"
        ],
        [
         "35",
         "unrelated",
         "娱乐圈再现“塑料姐妹花”是怎么回事？网友：拿唐嫣打脸杨幂？唐嫣杨幂渐行渐远"
        ],
        [
         "36",
         "agreed",
         "片酬从6000万降到10万可能吗？范冰冰宣布退出娱乐圈范冰冰宣布退出娱乐圈？片酬从6000万降到10万！"
        ],
        [
         "37",
         "disagreed",
         "李天一提前6年出狱？李双江夫妻心情大好，网友：对受害人公平吗“李天一获减刑提前出狱”？谣言！"
        ],
        [
         "38",
         "unrelated",
         "妻子成植物人3年，突然怀孕丈夫却哭成泪人，咋回事？没想到：丈夫成植物人，卧床3年后，妻子怀孕了"
        ],
        [
         "39",
         "disagreed",
         "广西13人吃西瓜感染病毒死亡在群中传谣称13人吃西瓜感染病毒死亡 女子被警方传唤并口头警告"
        ],
        [
         "40",
         "agreed",
         "张柏芝10月巴黎结婚，男朋友是比她小11岁的小鲜肉，谢霆锋回应！张柏芝将与小鲜肉结婚，彻底告别谢霆锋，男方人格魅力不输谢霆锋"
        ],
        [
         "41",
         "agreed",
         "乡下偏方：枸杞+洋葱+蜂蜜，前列腺问题半个月除根，从此不再反复洋葱：前列腺的天敌，只花不到2块钱，6天断根，一用一个准！"
        ],
        [
         "42",
         "disagreed",
         "苏打绿解散阿龚澄清苏打绿解散传言:青峰单飞消息不属实"
        ],
        [
         "43",
         "agreed",
         "抽烟戒不掉？多吃这4种食物就可以清肺排烟毒！真的不试试？抽烟熬夜，你是否经常痰多咳嗽胸闷？6种清肺润肺食物助你排烟毒"
        ],
        [
         "44",
         "disagreed",
         "张继科已向景甜求婚？见完父母后景甜已戴上戒指，网友：好事将近景甜、张继科好事将近？“景甜方辟谣”成热搜！"
        ],
        [
         "45",
         "agreed",
         "成龙私生女正面近照曝光，网友：开始有女人味了！成龙私生女近照曝光，和关晓彤一样无忧无虑！"
        ],
        [
         "46",
         "unrelated",
         "怎么查询微信历史聊天记录，恢复以前删除的记录微信聊天记录删除了怎么恢复？查看苹果手机微信记录"
        ],
        [
         "47",
         "unrelated",
         "第六套新版人民币即将发行？新华社这样说溆浦讯｜“今天溆浦又出大事了”短视频系谣言！"
        ],
        [
         "48",
         "disagreed",
         "315曝光企业完整名单！香精饮料！食物相克表！这些你要注意啦！315晚会说了，食物相克的谣言不存在"
        ],
        [
         "49",
         "unrelated",
         "「网信宜昌」飞机撒药灭白蛾、吃柚子会感染bp5病毒？OMG｜多吃一定胖？前夫哥雷佳音决定还击谣言捍卫吃货"
        ]
       ],
       "shape": {
        "columns": 2,
        "rows": 15000
       }
      },
      "text/html": [
       "<div>\n",
       "<style scoped>\n",
       "    .dataframe tbody tr th:only-of-type {\n",
       "        vertical-align: middle;\n",
       "    }\n",
       "\n",
       "    .dataframe tbody tr th {\n",
       "        vertical-align: top;\n",
       "    }\n",
       "\n",
       "    .dataframe thead th {\n",
       "        text-align: right;\n",
       "    }\n",
       "</style>\n",
       "<table border=\"1\" class=\"dataframe\">\n",
       "  <thead>\n",
       "    <tr style=\"text-align: right;\">\n",
       "      <th></th>\n",
       "      <th>label</th>\n",
       "      <th>title_zh</th>\n",
       "    </tr>\n",
       "  </thead>\n",
       "  <tbody>\n",
       "    <tr>\n",
       "      <th>0</th>\n",
       "      <td>disagreed</td>\n",
       "      <td>千叶湖八岁孩子不想去学英语，跳楼了「辟谣」千叶湖八岁孩子跳楼了为谣言信息</td>\n",
       "    </tr>\n",
       "    <tr>\n",
       "      <th>1</th>\n",
       "      <td>agreed</td>\n",
       "      <td>喝酸奶真的能补充益生菌吗？喝酸奶来补充益生菌，靠谱么？</td>\n",
       "    </tr>\n",
       "    <tr>\n",
       "      <th>2</th>\n",
       "      <td>agreed</td>\n",
       "      <td>刚刚马云终于出手了！房价要跌，扬言房地产中介都要失业了最新消息马云终于出手了！扬言房地产中介...</td>\n",
       "    </tr>\n",
       "    <tr>\n",
       "      <th>3</th>\n",
       "      <td>unrelated</td>\n",
       "      <td>直击“冯乡长”李正春追悼会：赵本山全程操办，赵四刘能现场祭奠昆明会议直击“活摘”谣言</td>\n",
       "    </tr>\n",
       "    <tr>\n",
       "      <th>4</th>\n",
       "      <td>disagreed</td>\n",
       "      <td>李雨桐爆薛之谦离婚内幕，说到底就是网红之间的恩怨情仇嘛薛之谦前女友李雨桐再次发微博爆料，薛之...</td>\n",
       "    </tr>\n",
       "    <tr>\n",
       "      <th>...</th>\n",
       "      <td>...</td>\n",
       "      <td>...</td>\n",
       "    </tr>\n",
       "    <tr>\n",
       "      <th>14995</th>\n",
       "      <td>agreed</td>\n",
       "      <td>脸上长了斑点不要急，教你2个祛斑的小妙招，让肌肤更显细腻白皙脸上“老年斑”，睡前轻轻脸上抹一...</td>\n",
       "    </tr>\n",
       "    <tr>\n",
       "      <th>14996</th>\n",
       "      <td>unrelated</td>\n",
       "      <td>提高免疫力✌️保健品能提高免疫力吗？</td>\n",
       "    </tr>\n",
       "    <tr>\n",
       "      <th>14997</th>\n",
       "      <td>disagreed</td>\n",
       "      <td>紧急寻找两位丢失身份证和高考准考证的学生「辟谣」临近高考，“刘明炜”丢失准考证的谣言又开始刷屏了</td>\n",
       "    </tr>\n",
       "    <tr>\n",
       "      <th>14998</th>\n",
       "      <td>disagreed</td>\n",
       "      <td>《跑男》天津录制“霸占”学生图书馆！大学生怒了：滚出我们校园！天大学生让跑男滚出天津是谣言？...</td>\n",
       "    </tr>\n",
       "    <tr>\n",
       "      <th>14999</th>\n",
       "      <td>unrelated</td>\n",
       "      <td>好消息！独生子女6大补贴累计近万元，二胎也有份高圣远与周迅：离婚or分居！盘点周迅与8任前男...</td>\n",
       "    </tr>\n",
       "  </tbody>\n",
       "</table>\n",
       "<p>15000 rows × 2 columns</p>\n",
       "</div>"
      ],
      "text/plain": [
       "           label                                           title_zh\n",
       "0      disagreed               千叶湖八岁孩子不想去学英语，跳楼了「辟谣」千叶湖八岁孩子跳楼了为谣言信息\n",
       "1         agreed                        喝酸奶真的能补充益生菌吗？喝酸奶来补充益生菌，靠谱么？\n",
       "2         agreed  刚刚马云终于出手了！房价要跌，扬言房地产中介都要失业了最新消息马云终于出手了！扬言房地产中介...\n",
       "3      unrelated         直击“冯乡长”李正春追悼会：赵本山全程操办，赵四刘能现场祭奠昆明会议直击“活摘”谣言\n",
       "4      disagreed  李雨桐爆薛之谦离婚内幕，说到底就是网红之间的恩怨情仇嘛薛之谦前女友李雨桐再次发微博爆料，薛之...\n",
       "...          ...                                                ...\n",
       "14995     agreed  脸上长了斑点不要急，教你2个祛斑的小妙招，让肌肤更显细腻白皙脸上“老年斑”，睡前轻轻脸上抹一...\n",
       "14996  unrelated                                 提高免疫力✌️保健品能提高免疫力吗？\n",
       "14997  disagreed   紧急寻找两位丢失身份证和高考准考证的学生「辟谣」临近高考，“刘明炜”丢失准考证的谣言又开始刷屏了\n",
       "14998  disagreed  《跑男》天津录制“霸占”学生图书馆！大学生怒了：滚出我们校园！天大学生让跑男滚出天津是谣言？...\n",
       "14999  unrelated  好消息！独生子女6大补贴累计近万元，二胎也有份高圣远与周迅：离婚or分居！盘点周迅与8任前男...\n",
       "\n",
       "[15000 rows x 2 columns]"
      ]
     },
     "execution_count": 20,
     "metadata": {},
     "output_type": "execute_result"
    }
   ],
   "source": [
    "df['title_zh'] = df[['title1_zh','title2_zh']].apply(lambda x:\"\".join(x),axis = 1)\n",
    "\n",
    "df_merge = df.drop(df.columns[[0,1]],axis = 1)  # 删除第0列到第一列\n",
    "\n",
    "df_merge"
   ]
  },
  {
   "cell_type": "markdown",
   "metadata": {},
   "source": [
    "接下来，对 title_zh 执行分词操作。分词过程中另一个比较重要的步骤是「删除停用词」。通常意义上， 停用词 大致分为两类。一类是人类语言中包含的功能词，这些功能词极其普遍，与其他词相比，功能词没有什么实际含义，比如英文中的 the、is、at、which、on，以及中文中的 的、得 等。另一类词包括词汇词，比如大规模语料中的高频词，很多高频词只能带来非常少量的语义信息。删除停用词可以提高后续文本特征提取和分类的性能"
   ]
  },
  {
   "cell_type": "code",
   "execution_count": 21,
   "metadata": {},
   "outputs": [
    {
     "name": "stderr",
     "output_type": "stream",
     "text": [
      "File 'stopwords.txt' already there; not retrieving.\n",
      "\n",
      "http://#: Invalid host name.\n",
      "--2025-04-16 12:43:00--  http://xn--eyqw0ar44fs6sa/\n",
      "Resolving xn--eyqw0ar44fs6sa (xn--eyqw0ar44fs6sa)... failed: ��֪�������������� .\n",
      "wget: unable to resolve host address 'xn--eyqw0ar44fs6sa'\n"
     ]
    }
   ],
   "source": [
    "!wget -nc \"http://labfile.oss.aliyuncs.com/courses/1176/stopwords.txt\" # 停用词词典"
   ]
  },
  {
   "cell_type": "code",
   "execution_count": 22,
   "metadata": {},
   "outputs": [
    {
     "data": {
      "text/plain": [
       "['!',\n",
       " '\"',\n",
       " '#',\n",
       " '$',\n",
       " '%',\n",
       " '&',\n",
       " \"'\",\n",
       " '(',\n",
       " ')',\n",
       " '*',\n",
       " '+',\n",
       " ',',\n",
       " '-',\n",
       " '--',\n",
       " '.',\n",
       " '..',\n",
       " '...',\n",
       " '......',\n",
       " '...................',\n",
       " './',\n",
       " '.一',\n",
       " '.数',\n",
       " '.日',\n",
       " '/',\n",
       " '//',\n",
       " '0',\n",
       " '1',\n",
       " '2',\n",
       " '3',\n",
       " '4',\n",
       " '5',\n",
       " '6',\n",
       " '7',\n",
       " '8',\n",
       " '9',\n",
       " ':',\n",
       " '://',\n",
       " '::',\n",
       " ';',\n",
       " '<',\n",
       " '=',\n",
       " '>',\n",
       " '>>',\n",
       " '?',\n",
       " '@',\n",
       " 'A',\n",
       " 'Lex',\n",
       " '[',\n",
       " '\\\\',\n",
       " ']',\n",
       " '^',\n",
       " '_',\n",
       " '`',\n",
       " 'exp',\n",
       " 'sub',\n",
       " 'sup',\n",
       " '|',\n",
       " '}',\n",
       " '~',\n",
       " '~~~~',\n",
       " '·',\n",
       " '×',\n",
       " '×××',\n",
       " 'Δ',\n",
       " 'Ψ',\n",
       " 'γ',\n",
       " 'μ',\n",
       " 'φ',\n",
       " 'φ．',\n",
       " 'В',\n",
       " '—',\n",
       " '——',\n",
       " '———',\n",
       " '‘',\n",
       " '’',\n",
       " '’‘',\n",
       " '“',\n",
       " '”',\n",
       " '”，',\n",
       " '…',\n",
       " '……',\n",
       " '…………………………………………………③',\n",
       " '′∈',\n",
       " '′｜',\n",
       " '℃',\n",
       " 'Ⅲ',\n",
       " '↑',\n",
       " '→',\n",
       " '∈［',\n",
       " '∪φ∈',\n",
       " '≈',\n",
       " '①',\n",
       " '②',\n",
       " '②ｃ',\n",
       " '③',\n",
       " '③］',\n",
       " '④',\n",
       " '⑤',\n",
       " '⑥',\n",
       " '⑦',\n",
       " '⑧',\n",
       " '⑨',\n",
       " '⑩',\n",
       " '──',\n",
       " '■',\n",
       " '▲',\n",
       " '\\u3000',\n",
       " '、',\n",
       " '。',\n",
       " '〈',\n",
       " '〉',\n",
       " '《',\n",
       " '》',\n",
       " '》），',\n",
       " '」',\n",
       " '『',\n",
       " '』',\n",
       " '【',\n",
       " '】',\n",
       " '〔',\n",
       " '〕',\n",
       " '〕〔',\n",
       " '㈧',\n",
       " '一',\n",
       " '一.',\n",
       " '一一',\n",
       " '一下',\n",
       " '一个',\n",
       " '一些',\n",
       " '一何',\n",
       " '一切',\n",
       " '一则',\n",
       " '一则通过',\n",
       " '一天',\n",
       " '一定',\n",
       " '一方面',\n",
       " '一旦',\n",
       " '一时',\n",
       " '一来',\n",
       " '一样',\n",
       " '一次',\n",
       " '一片',\n",
       " '一番',\n",
       " '一直',\n",
       " '一致',\n",
       " '一般',\n",
       " '一起',\n",
       " '一转眼',\n",
       " '一边',\n",
       " '一面',\n",
       " '七',\n",
       " '万一',\n",
       " '三',\n",
       " '三天两头',\n",
       " '三番两次',\n",
       " '三番五次',\n",
       " '上',\n",
       " '上下',\n",
       " '上升',\n",
       " '上去',\n",
       " '上来',\n",
       " '上述',\n",
       " '上面',\n",
       " '下',\n",
       " '下列',\n",
       " '下去',\n",
       " '下来',\n",
       " '下面',\n",
       " '不',\n",
       " '不一',\n",
       " '不下',\n",
       " '不久',\n",
       " '不了',\n",
       " '不亦乐乎',\n",
       " '不仅',\n",
       " '不仅...而且',\n",
       " '不仅仅',\n",
       " '不仅仅是',\n",
       " '不会',\n",
       " '不但',\n",
       " '不但...而且',\n",
       " '不光',\n",
       " '不免',\n",
       " '不再',\n",
       " '不力',\n",
       " '不单',\n",
       " '不变',\n",
       " '不只',\n",
       " '不可',\n",
       " '不可开交',\n",
       " '不可抗拒',\n",
       " '不同',\n",
       " '不外',\n",
       " '不外乎',\n",
       " '不够',\n",
       " '不大',\n",
       " '不如',\n",
       " '不妨',\n",
       " '不定',\n",
       " '不对',\n",
       " '不少',\n",
       " '不尽',\n",
       " '不尽然',\n",
       " '不巧',\n",
       " '不已',\n",
       " '不常',\n",
       " '不得',\n",
       " '不得不',\n",
       " '不得了',\n",
       " '不得已',\n",
       " '不必',\n",
       " '不怎么',\n",
       " '不怕',\n",
       " '不惟',\n",
       " '不成',\n",
       " '不拘',\n",
       " '不择手段',\n",
       " '不敢',\n",
       " '不料',\n",
       " '不断',\n",
       " '不日',\n",
       " '不时',\n",
       " '不是',\n",
       " '不曾',\n",
       " '不止',\n",
       " '不止一次',\n",
       " '不比',\n",
       " '不消',\n",
       " '不满',\n",
       " '不然',\n",
       " '不然的话',\n",
       " '不特',\n",
       " '不独',\n",
       " '不由得',\n",
       " '不知不觉',\n",
       " '不管',\n",
       " '不管怎样',\n",
       " '不经意',\n",
       " '不胜',\n",
       " '不能',\n",
       " '不能不',\n",
       " '不至于',\n",
       " '不若',\n",
       " '不要',\n",
       " '不论',\n",
       " '不起',\n",
       " '不足',\n",
       " '不过',\n",
       " '不迭',\n",
       " '不问',\n",
       " '不限',\n",
       " '与',\n",
       " '与其',\n",
       " '与其说',\n",
       " '与否',\n",
       " '与此同时',\n",
       " '专门',\n",
       " '且',\n",
       " '且不说',\n",
       " '且说',\n",
       " '两者',\n",
       " '严格',\n",
       " '严重',\n",
       " '个',\n",
       " '个人',\n",
       " '个别',\n",
       " '中小',\n",
       " '中间',\n",
       " '丰富',\n",
       " '串行',\n",
       " '临',\n",
       " '临到',\n",
       " '为',\n",
       " '为主',\n",
       " '为了',\n",
       " '为什么',\n",
       " '为什麽',\n",
       " '为何',\n",
       " '为止',\n",
       " '为此',\n",
       " '为着',\n",
       " '主张',\n",
       " '主要',\n",
       " '举凡',\n",
       " '举行',\n",
       " '乃',\n",
       " '乃至',\n",
       " '乃至于',\n",
       " '么',\n",
       " '之',\n",
       " '之一',\n",
       " '之前',\n",
       " '之后',\n",
       " '之後',\n",
       " '之所以',\n",
       " '之类',\n",
       " '乌乎',\n",
       " '乎',\n",
       " '乒',\n",
       " '乘',\n",
       " '乘势',\n",
       " '乘机',\n",
       " '乘胜',\n",
       " '乘虚',\n",
       " '乘隙',\n",
       " '九',\n",
       " '也',\n",
       " '也好',\n",
       " '也就是说',\n",
       " '也是',\n",
       " '也罢',\n",
       " '了',\n",
       " '了解',\n",
       " '争取',\n",
       " '二',\n",
       " '二来',\n",
       " '二话不说',\n",
       " '二话没说',\n",
       " '于',\n",
       " '于是',\n",
       " '于是乎',\n",
       " '云云',\n",
       " '云尔',\n",
       " '互',\n",
       " '互相',\n",
       " '五',\n",
       " '些',\n",
       " '交口',\n",
       " '亦',\n",
       " '产生',\n",
       " '亲口',\n",
       " '亲手',\n",
       " '亲眼',\n",
       " '亲自',\n",
       " '亲身',\n",
       " '人',\n",
       " '人人',\n",
       " '人们',\n",
       " '人家',\n",
       " '人民',\n",
       " '什么',\n",
       " '什么样',\n",
       " '什麽',\n",
       " '仅',\n",
       " '仅仅',\n",
       " '今',\n",
       " '今后',\n",
       " '今天',\n",
       " '今年',\n",
       " '今後',\n",
       " '介于',\n",
       " '仍',\n",
       " '仍旧',\n",
       " '仍然',\n",
       " '从',\n",
       " '从不',\n",
       " '从严',\n",
       " '从中',\n",
       " '从事',\n",
       " '从今以后',\n",
       " '从优',\n",
       " '从古到今',\n",
       " '从古至今',\n",
       " '从头',\n",
       " '从宽',\n",
       " '从小',\n",
       " '从新',\n",
       " '从无到有',\n",
       " '从早到晚',\n",
       " '从未',\n",
       " '从来',\n",
       " '从此',\n",
       " '从此以后',\n",
       " '从而',\n",
       " '从轻',\n",
       " '从速',\n",
       " '从重',\n",
       " '他',\n",
       " '他人',\n",
       " '他们',\n",
       " '他是',\n",
       " '他的',\n",
       " '代替',\n",
       " '以',\n",
       " '以上',\n",
       " '以下',\n",
       " '以为',\n",
       " '以便',\n",
       " '以免',\n",
       " '以前',\n",
       " '以及',\n",
       " '以后',\n",
       " '以外',\n",
       " '以後',\n",
       " '以故',\n",
       " '以期',\n",
       " '以来',\n",
       " '以至',\n",
       " '以至于',\n",
       " '以致',\n",
       " '们',\n",
       " '任',\n",
       " '任何',\n",
       " '任凭',\n",
       " '任务',\n",
       " '企图',\n",
       " '伙同',\n",
       " '会',\n",
       " '伟大',\n",
       " '传',\n",
       " '传说',\n",
       " '传闻',\n",
       " '似乎',\n",
       " '似的',\n",
       " '但',\n",
       " '但凡',\n",
       " '但愿',\n",
       " '但是',\n",
       " '何',\n",
       " '何乐而不为',\n",
       " '何以',\n",
       " '何况',\n",
       " '何处',\n",
       " '何妨',\n",
       " '何尝',\n",
       " '何必',\n",
       " '何时',\n",
       " '何止',\n",
       " '何苦',\n",
       " '何须',\n",
       " '余外',\n",
       " '作为',\n",
       " '你',\n",
       " '你们',\n",
       " '你是',\n",
       " '你的',\n",
       " '使',\n",
       " '使得',\n",
       " '使用',\n",
       " '例如',\n",
       " '依',\n",
       " '依据',\n",
       " '依照',\n",
       " '依靠',\n",
       " '便',\n",
       " '便于',\n",
       " '促进',\n",
       " '保持',\n",
       " '保管',\n",
       " '保险',\n",
       " '俺',\n",
       " '俺们',\n",
       " '倍加',\n",
       " '倍感',\n",
       " '倒不如',\n",
       " '倒不如说',\n",
       " '倒是',\n",
       " '倘',\n",
       " '倘使',\n",
       " '倘或',\n",
       " '倘然',\n",
       " '倘若',\n",
       " '借',\n",
       " '借以',\n",
       " '借此',\n",
       " '假使',\n",
       " '假如',\n",
       " '假若',\n",
       " '偏偏',\n",
       " '做到',\n",
       " '偶尔',\n",
       " '偶而',\n",
       " '傥然',\n",
       " '像',\n",
       " '儿',\n",
       " '允许',\n",
       " '元／吨',\n",
       " '充其极',\n",
       " '充其量',\n",
       " '充分',\n",
       " '先不先',\n",
       " '先后',\n",
       " '先後',\n",
       " '先生',\n",
       " '光',\n",
       " '光是',\n",
       " '全体',\n",
       " '全力',\n",
       " '全年',\n",
       " '全然',\n",
       " '全身心',\n",
       " '全部',\n",
       " '全都',\n",
       " '全面',\n",
       " '八',\n",
       " '八成',\n",
       " '公然',\n",
       " '六',\n",
       " '兮',\n",
       " '共',\n",
       " '共同',\n",
       " '共总',\n",
       " '关于',\n",
       " '其',\n",
       " '其一',\n",
       " '其中',\n",
       " '其二',\n",
       " '其他',\n",
       " '其余',\n",
       " '其后',\n",
       " '其它',\n",
       " '其实',\n",
       " '其次',\n",
       " '具体',\n",
       " '具体地说',\n",
       " '具体来说',\n",
       " '具体说来',\n",
       " '具有',\n",
       " '兼之',\n",
       " '内',\n",
       " '再',\n",
       " '再其次',\n",
       " '再则',\n",
       " '再有',\n",
       " '再次',\n",
       " '再者',\n",
       " '再者说',\n",
       " '再说',\n",
       " '冒',\n",
       " '冲',\n",
       " '决不',\n",
       " '决定',\n",
       " '决非',\n",
       " '况且',\n",
       " '准备',\n",
       " '凑巧',\n",
       " '凝神',\n",
       " '几',\n",
       " '几乎',\n",
       " '几度',\n",
       " '几时',\n",
       " '几番',\n",
       " '几经',\n",
       " '凡',\n",
       " '凡是',\n",
       " '凭',\n",
       " '凭借',\n",
       " '出',\n",
       " '出于',\n",
       " '出去',\n",
       " '出来',\n",
       " '出现',\n",
       " '分别',\n",
       " '分头',\n",
       " '分期',\n",
       " '分期分批',\n",
       " '切',\n",
       " '切不可',\n",
       " '切切',\n",
       " '切勿',\n",
       " '切莫',\n",
       " '则',\n",
       " '则甚',\n",
       " '刚',\n",
       " '刚好',\n",
       " '刚巧',\n",
       " '刚才',\n",
       " '初',\n",
       " '别',\n",
       " '别人',\n",
       " '别处',\n",
       " '别是',\n",
       " '别的',\n",
       " '别管',\n",
       " '别说',\n",
       " '到',\n",
       " '到了儿',\n",
       " '到处',\n",
       " '到头',\n",
       " '到头来',\n",
       " '到底',\n",
       " '到目前为止',\n",
       " '前后',\n",
       " '前此',\n",
       " '前者',\n",
       " '前进',\n",
       " '前面',\n",
       " '加上',\n",
       " '加之',\n",
       " '加以',\n",
       " '加入',\n",
       " '加强',\n",
       " '动不动',\n",
       " '动辄',\n",
       " '勃然',\n",
       " '匆匆',\n",
       " '十分',\n",
       " '千',\n",
       " '千万',\n",
       " '千万千万',\n",
       " '半',\n",
       " '单',\n",
       " '单单',\n",
       " '单纯',\n",
       " '即',\n",
       " '即令',\n",
       " '即使',\n",
       " '即便',\n",
       " '即刻',\n",
       " '即如',\n",
       " '即将',\n",
       " '即或',\n",
       " '即是说',\n",
       " '即若',\n",
       " '却',\n",
       " '却不',\n",
       " '历',\n",
       " '原来',\n",
       " '去',\n",
       " '又',\n",
       " '又及',\n",
       " '及',\n",
       " '及其',\n",
       " '及时',\n",
       " '及至',\n",
       " '双方',\n",
       " '反之',\n",
       " '反之亦然',\n",
       " '反之则',\n",
       " '反倒',\n",
       " '反倒是',\n",
       " '反应',\n",
       " '反手',\n",
       " '反映',\n",
       " '反而',\n",
       " '反过来',\n",
       " '反过来说',\n",
       " '取得',\n",
       " '取道',\n",
       " '受到',\n",
       " '变成',\n",
       " '古来',\n",
       " '另',\n",
       " '另一个',\n",
       " '另一方面',\n",
       " '另外',\n",
       " '另悉',\n",
       " '另方面',\n",
       " '另行',\n",
       " '只',\n",
       " '只当',\n",
       " '只怕',\n",
       " '只是',\n",
       " '只有',\n",
       " '只消',\n",
       " '只要',\n",
       " '只限',\n",
       " '叫',\n",
       " '叫做',\n",
       " '召开',\n",
       " '叮咚',\n",
       " '叮当',\n",
       " '可',\n",
       " '可以',\n",
       " '可好',\n",
       " '可是',\n",
       " '可能',\n",
       " '可见',\n",
       " '各',\n",
       " '各个',\n",
       " '各人',\n",
       " '各位',\n",
       " '各地',\n",
       " '各式',\n",
       " '各种',\n",
       " '各级',\n",
       " '各自',\n",
       " '合理',\n",
       " '同',\n",
       " '同一',\n",
       " '同时',\n",
       " '同样',\n",
       " '后',\n",
       " '后来',\n",
       " '后者',\n",
       " '后面',\n",
       " '向',\n",
       " '向使',\n",
       " '向着',\n",
       " '吓',\n",
       " '吗',\n",
       " '否则',\n",
       " '吧',\n",
       " '吧哒',\n",
       " '吱',\n",
       " '呀',\n",
       " '呃',\n",
       " '呆呆地',\n",
       " '呐',\n",
       " '呕',\n",
       " '呗',\n",
       " '呜',\n",
       " '呜呼',\n",
       " '呢',\n",
       " '周围',\n",
       " '呵',\n",
       " '呵呵',\n",
       " '呸',\n",
       " '呼哧',\n",
       " '呼啦',\n",
       " '咋',\n",
       " '和',\n",
       " '咚',\n",
       " '咦',\n",
       " '咧',\n",
       " '咱',\n",
       " '咱们',\n",
       " '咳',\n",
       " '哇',\n",
       " '哈',\n",
       " '哈哈',\n",
       " '哉',\n",
       " '哎',\n",
       " '哎呀',\n",
       " '哎哟',\n",
       " '哗',\n",
       " '哗啦',\n",
       " '哟',\n",
       " '哦',\n",
       " '哩',\n",
       " '哪',\n",
       " '哪个',\n",
       " '哪些',\n",
       " '哪儿',\n",
       " '哪天',\n",
       " '哪年',\n",
       " '哪怕',\n",
       " '哪样',\n",
       " '哪边',\n",
       " '哪里',\n",
       " '哼',\n",
       " '哼唷',\n",
       " '唉',\n",
       " '唯有',\n",
       " '啊',\n",
       " '啊呀',\n",
       " '啊哈',\n",
       " '啊哟',\n",
       " '啐',\n",
       " '啥',\n",
       " '啦',\n",
       " '啪达',\n",
       " '啷当',\n",
       " '喀',\n",
       " '喂',\n",
       " '喏',\n",
       " '喔唷',\n",
       " '喽',\n",
       " '嗡',\n",
       " '嗡嗡',\n",
       " '嗬',\n",
       " '嗯',\n",
       " '嗳',\n",
       " '嘎',\n",
       " '嘎嘎',\n",
       " '嘎登',\n",
       " '嘘',\n",
       " '嘛',\n",
       " '嘻',\n",
       " '嘿',\n",
       " '嘿嘿',\n",
       " '四',\n",
       " '因',\n",
       " '因为',\n",
       " '因了',\n",
       " '因此',\n",
       " '因着',\n",
       " '因而',\n",
       " '固',\n",
       " '固然',\n",
       " '在',\n",
       " '在下',\n",
       " '在于',\n",
       " '地',\n",
       " '均',\n",
       " '坚决',\n",
       " '坚持',\n",
       " '基于',\n",
       " '基本',\n",
       " '基本上',\n",
       " '处在',\n",
       " '处处',\n",
       " '处理',\n",
       " '复杂',\n",
       " '多',\n",
       " '多么',\n",
       " '多亏',\n",
       " '多多',\n",
       " '多多少少',\n",
       " '多多益善',\n",
       " '多少',\n",
       " '多年前',\n",
       " '多年来',\n",
       " '多数',\n",
       " '多次',\n",
       " '够瞧的',\n",
       " '大',\n",
       " '大不了',\n",
       " '大举',\n",
       " '大事',\n",
       " '大体',\n",
       " '大体上',\n",
       " '大凡',\n",
       " '大力',\n",
       " '大多',\n",
       " '大多数',\n",
       " '大大',\n",
       " '大家',\n",
       " '大张旗鼓',\n",
       " '大批',\n",
       " '大抵',\n",
       " '大概',\n",
       " '大略',\n",
       " '大约',\n",
       " '大致',\n",
       " '大都',\n",
       " '大量',\n",
       " '大面儿上',\n",
       " '失去',\n",
       " '奇',\n",
       " '奈',\n",
       " '奋勇',\n",
       " '她',\n",
       " '她们',\n",
       " '她是',\n",
       " '她的',\n",
       " '好',\n",
       " '好在',\n",
       " '好的',\n",
       " '好象',\n",
       " '如',\n",
       " '如上',\n",
       " '如上所述',\n",
       " '如下',\n",
       " '如今',\n",
       " '如何',\n",
       " '如其',\n",
       " '如前所述',\n",
       " '如同',\n",
       " '如常',\n",
       " '如是',\n",
       " '如期',\n",
       " '如果',\n",
       " '如次',\n",
       " '如此',\n",
       " '如此等等',\n",
       " '如若',\n",
       " '始而',\n",
       " '姑且',\n",
       " '存在',\n",
       " '存心',\n",
       " '孰料',\n",
       " '孰知',\n",
       " '宁',\n",
       " '宁可',\n",
       " '宁愿',\n",
       " '宁肯',\n",
       " '它',\n",
       " '它们',\n",
       " '它们的',\n",
       " '它是',\n",
       " '它的',\n",
       " '安全',\n",
       " '完全',\n",
       " '完成',\n",
       " '定',\n",
       " '实现',\n",
       " '实际',\n",
       " '宣布',\n",
       " '容易',\n",
       " '密切',\n",
       " '对',\n",
       " '对于',\n",
       " '对应',\n",
       " '对待',\n",
       " '对方',\n",
       " '对比',\n",
       " '将',\n",
       " '将才',\n",
       " '将要',\n",
       " '将近',\n",
       " '小',\n",
       " '少数',\n",
       " '尔',\n",
       " '尔后',\n",
       " '尔尔',\n",
       " '尔等',\n",
       " '尚且',\n",
       " '尤其',\n",
       " '就',\n",
       " '就地',\n",
       " '就是',\n",
       " '就是了',\n",
       " '就是说',\n",
       " '就此',\n",
       " '就算',\n",
       " '就要',\n",
       " '尽',\n",
       " '尽可能',\n",
       " '尽如人意',\n",
       " '尽心尽力',\n",
       " '尽心竭力',\n",
       " '尽快',\n",
       " '尽早',\n",
       " '尽然',\n",
       " '尽管',\n",
       " '尽管如此',\n",
       " '尽量',\n",
       " '局外',\n",
       " '居然',\n",
       " '届时',\n",
       " '属于',\n",
       " '屡',\n",
       " '屡屡',\n",
       " '屡次',\n",
       " '屡次三番',\n",
       " '岂',\n",
       " '岂但',\n",
       " '岂止',\n",
       " '岂非',\n",
       " '川流不息',\n",
       " '左右',\n",
       " '巨大',\n",
       " '巩固',\n",
       " '差一点',\n",
       " '差不多',\n",
       " '己',\n",
       " '已',\n",
       " '已矣',\n",
       " '已经',\n",
       " '巴',\n",
       " '巴巴',\n",
       " '带',\n",
       " '帮助',\n",
       " '常',\n",
       " '常常',\n",
       " '常言说',\n",
       " '常言说得好',\n",
       " '常言道',\n",
       " '平素',\n",
       " '年复一年',\n",
       " '并',\n",
       " '并不',\n",
       " '并不是',\n",
       " '并且',\n",
       " '并排',\n",
       " '并无',\n",
       " '并没',\n",
       " '并没有',\n",
       " '并肩',\n",
       " '并非',\n",
       " '广大',\n",
       " '广泛',\n",
       " '应当',\n",
       " '应用',\n",
       " '应该',\n",
       " '庶乎',\n",
       " '庶几',\n",
       " '开外',\n",
       " '开始',\n",
       " '开展',\n",
       " '引起',\n",
       " '弗',\n",
       " '弹指之间',\n",
       " '强烈',\n",
       " '强调',\n",
       " '归',\n",
       " '归根到底',\n",
       " '归根结底',\n",
       " '归齐',\n",
       " '当',\n",
       " '当下',\n",
       " '当中',\n",
       " '当儿',\n",
       " '当前',\n",
       " '当即',\n",
       " '当口儿',\n",
       " '当地',\n",
       " '当场',\n",
       " '当头',\n",
       " '当庭',\n",
       " '当时',\n",
       " '当然',\n",
       " '当真',\n",
       " '当着',\n",
       " '形成',\n",
       " '彻夜',\n",
       " '彻底',\n",
       " '彼',\n",
       " '彼时',\n",
       " ...]"
      ]
     },
     "execution_count": 22,
     "metadata": {},
     "output_type": "execute_result"
    }
   ],
   "source": [
    "# 定义一个函数来加载停用词文件中的数据。\n",
    "\n",
    "def load_stopwords(file_path):\n",
    "    with open(file_path,'r') as f:\n",
    "        stopwords = [line.strip('\\n') for line in f.readlines()]\n",
    "    return stopwords\n",
    "stopwords = load_stopwords('stopwords.txt')\n",
    "\n",
    "stopwords"
   ]
  },
  {
   "cell_type": "code",
   "execution_count": 23,
   "metadata": {},
   "outputs": [
    {
     "name": "stderr",
     "output_type": "stream",
     "text": [
      "100%|██████████| 15000/15000 [00:11<00:00, 1338.36it/s]\n"
     ]
    }
   ],
   "source": [
    "# 分词和删除停用词\n",
    "\n",
    "from tqdm import tqdm\n",
    "import jieba\n",
    "corpus = []\n",
    "for line in tqdm(df['title_zh']):\n",
    "    words = []\n",
    "    seg_list = list(jieba.cut(line))\n",
    "    for word in seg_list:\n",
    "        if word in stopwords:\n",
    "            continue\n",
    "        words.append(word)\n",
    "        corpus.append(words)"
   ]
  },
  {
   "cell_type": "markdown",
   "metadata": {},
   "source": [
    "接下来，我们对词语进行 Word2Vec 嵌入，同时将每条数据各单词的向量相加，作为该句子最终的向量表示。"
   ]
  },
  {
   "cell_type": "code",
   "execution_count": null,
   "metadata": {},
   "outputs": [
    {
     "name": "stdout",
     "output_type": "stream",
     "text": [
      "(263769, 100) (15000,)\n"
     ]
    }
   ],
   "source": [
    "from sklearn.model_selection import train_test_split\n",
    "from sklearn.ensemble import RandomForestClassifier\n",
    "y = df.label.shape\n",
    "print(X.shape,Y)\n",
    "# X_train, X_test, y_train, y_test = train_test_split(X, df.label, test_size=0.2)\n",
    "# clf = RandomForestClassifier()\n",
    "# clf.fit(X_train, y_train)\n",
    "# clf.score(X_test, y_test)"
   ]
  }
 ],
 "metadata": {
  "kernelspec": {
   "display_name": "lanqiao",
   "language": "python",
   "name": "python3"
  },
  "language_info": {
   "codemirror_mode": {
    "name": "ipython",
    "version": 3
   },
   "file_extension": ".py",
   "mimetype": "text/x-python",
   "name": "python",
   "nbconvert_exporter": "python",
   "pygments_lexer": "ipython3",
   "version": "3.8.20"
  }
 },
 "nbformat": 4,
 "nbformat_minor": 2
}
