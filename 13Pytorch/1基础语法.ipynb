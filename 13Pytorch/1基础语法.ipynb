{
 "cells": [
  {
   "cell_type": "markdown",
   "metadata": {},
   "source": [
    "# 概览"
   ]
  },
  {
   "cell_type": "markdown",
   "metadata": {},
   "source": [
    "| Package (包)          | Description (描述)                                                                 |\n",
    "|-----------------------|-----------------------------------------------------------------------------------|\n",
    "| torch                 | 张量计算组件，兼容 NumPy 数组，且具备强大的 GPU 加速支持                             |\n",
    "| torch.autograd        | 自动微分组件，是 PyTorch 的核心特点，支持 torch 中所有可微分的张量操作               |\n",
    "| torch.nn              | 深度神经网络组件，用于灵活构建不同架构的深度神经网络                                 |\n",
    "| torch.optim           | 优化计算组件，囊括了 SGD、RMSProp、LBFGS、Adam 等常用的参数优化方法                   |\n",
    "| torch.multiprocessing | 多进程管理组件，方便实现相同数据的不同进程中共享视图                                   |\n",
    "| torch.utils           | 工具函数组件，包含数据加载、训练等常用函数                                           |\n",
    "| torch.legacy(.nn/.optim) | 向后兼容组件，包含移植的旧代码                                                     |"
   ]
  },
  {
   "cell_type": "markdown",
   "metadata": {},
   "source": [
    "# 张量类型和定义"
   ]
  },
  {
   "cell_type": "markdown",
   "metadata": {},
   "source": [
    "| 数据类型 dtype          | CPU 张量               | GPU 张量                     |\n",
    "|------------------------|-----------------------|-----------------------------|\n",
    "| 32-bit 浮点            | torch.FloatTensor     | torch.cuda.FloatTensor      |\n",
    "| 64-bit 浮点            | torch.DoubleTensor    | torch.cuda.DoubleTensor     |\n",
    "| 16-bit 半精度浮点      | N/A                   | torch.cuda.HalfTensor       |\n",
    "| 8-bit 无符号整形 (0~255) | torch.ByteTensor      | torch.cuda.ByteTensor       |\n",
    "| 8-bit 有符号整形 (-128~127) | torch.CharTensor    | torch.cuda.CharTensor       |\n",
    "| 16-bit 有符号整形      | torch.ShortTensor     | torch.cuda.ShortTensor      |\n",
    "| 32-bit 有符号整形      | torch.IntTensor       | torch.cuda.IntTensor        |\n",
    "| 64-bit 有符号整形      | torch.LongTensor      | torch.cuda.LongTensor       |"
   ]
  },
  {
   "cell_type": "markdown",
   "metadata": {},
   "source": [
    "其中，默认的 torch.Tensor 类型为 32-bit 浮点，也就是 torch.FloatTensor。"
   ]
  },
  {
   "cell_type": "code",
   "execution_count": 1,
   "metadata": {},
   "outputs": [
    {
     "data": {
      "text/plain": [
       "torch.float32"
      ]
     },
     "execution_count": 1,
     "metadata": {},
     "output_type": "execute_result"
    }
   ],
   "source": [
    "import torch as t\n",
    "t.Tensor().dtype"
   ]
  },
  {
   "cell_type": "code",
   "execution_count": 2,
   "metadata": {},
   "outputs": [
    {
     "data": {
      "text/plain": [
       "torch.float64"
      ]
     },
     "execution_count": 2,
     "metadata": {},
     "output_type": "execute_result"
    }
   ],
   "source": [
    "t.set_default_tensor_type('torch.DoubleTensor')\n",
    "t.Tensor().dtype"
   ]
  },
  {
   "cell_type": "code",
   "execution_count": 3,
   "metadata": {},
   "outputs": [
    {
     "data": {
      "text/plain": [
       "torch.float32"
      ]
     },
     "execution_count": 3,
     "metadata": {},
     "output_type": "execute_result"
    }
   ],
   "source": [
    "t.set_default_tensor_type('torch.FloatTensor')\n",
    "t.Tensor().dtype"
   ]
  },
  {
   "cell_type": "code",
   "execution_count": 4,
   "metadata": {},
   "outputs": [
    {
     "data": {
      "text/plain": [
       "tensor([1., 2., 3.])"
      ]
     },
     "execution_count": 4,
     "metadata": {},
     "output_type": "execute_result"
    }
   ],
   "source": [
    "# 传列表创建张量\n",
    "t.Tensor([1,2,3])"
   ]
  },
  {
   "cell_type": "code",
   "execution_count": 5,
   "metadata": {},
   "outputs": [
    {
     "data": {
      "text/plain": [
       "tensor([-0.2650, -0.2116, -1.0728])"
      ]
     },
     "execution_count": 5,
     "metadata": {},
     "output_type": "execute_result"
    }
   ],
   "source": [
    "# 通过numpy来\n",
    "import numpy as np\n",
    "t.Tensor(np.random.randn(3))"
   ]
  },
  {
   "cell_type": "code",
   "execution_count": 7,
   "metadata": {},
   "outputs": [
    {
     "data": {
      "text/plain": [
       "torch.Size([3, 2])"
      ]
     },
     "execution_count": 7,
     "metadata": {},
     "output_type": "execute_result"
    }
   ],
   "source": [
    "# 与 Numpy 一致，可以通过 shape 查看 Tensor 的形状：\n",
    "t.Tensor([[1, 2], [3, 4], [5, 6]]).shape"
   ]
  },
  {
   "cell_type": "markdown",
   "metadata": {},
   "source": [
    "| 方法                     | 描述                                      |\n",
    "|--------------------------|-------------------------------------------|\n",
    "| ones(*sizes)             | 创建全为 1 的 Tensor                       |\n",
    "| zeros(*sizes)            | 创建全为 0 的 Tensor                       |\n",
    "| eye(*sizes)              | 创建对角线为 1，其他为 0 的 Tensor           |\n",
    "| arange(s, e, step)       | 创建从 s 到 e，步长为 step 的 Tensor         |\n",
    "| linspace(s, e, steps)    | 创建从 s 到 e，均匀切分成 steps 份的 Tensor  |\n",
    "| rand/randn(*sizes)       | 创建均匀/标准分布的 Tensor                  |\n",
    "| normal(mean, std)        | 创建正态分布分布的 Tensor                   |\n",
    "| randperm(m)              | 创建随机排列的 Tensor                       |"
   ]
  },
  {
   "cell_type": "markdown",
   "metadata": {},
   "source": [
    "# 数学运算\n"
   ]
  },
  {
   "cell_type": "code",
   "execution_count": 10,
   "metadata": {},
   "outputs": [
    {
     "name": "stdout",
     "output_type": "stream",
     "text": [
      "tensor([[ 6.,  8.],\n",
      "        [10., 12.]])\n",
      "tensor([[-4., -4.],\n",
      "        [-4., -4.]])\n"
     ]
    }
   ],
   "source": [
    "a = t.Tensor([[1, 2], [3, 4]])\n",
    "b = t.Tensor([[5, 6], [7, 8]])\n",
    "# 形状要一样的\n",
    "print(a + b)\n",
    "print(a - b)"
   ]
  },
  {
   "cell_type": "markdown",
   "metadata": {},
   "source": [
    "| 方法                     | 描述                  |\n",
    "|--------------------------|-----------------------|\n",
    "| mean / sum / median / mode | 均值 / 和 / 中位数 / 众数 |\n",
    "| norm / dist              | 范数 / 距离            |\n",
    "| std / var                | 标准差 / 方差          |\n",
    "| cumsum / cumprod         | 累加 / 累乘            |"
   ]
  },
  {
   "cell_type": "markdown",
   "metadata": {},
   "source": [
    "| 方法                     | 描述                                      |\n",
    "|--------------------------|-------------------------------------------|\n",
    "| abs / sqrt / div / exp / fmod / log / pow | 绝对值 / 平方根 / 除法 / 指数 / 求余 / 自然对数 / 求幂 |\n",
    "| cos / sin / asin / atan2 / cosh | 余弦 / 正弦 / 反正弦 / 反正切 / 双曲余弦 |\n",
    "| ceil / round / floor / trunc | 上取整 / 四舍五入 / 下取整 / 只保留整数部分 |\n",
    "| clamp(input, min, max)   | 超过 min 和 max 部分截断                   |\n",
    "| sigmoid / tanh           | 常用激活函数                               |"
   ]
  },
  {
   "cell_type": "markdown",
   "metadata": {},
   "source": [
    "# 线性代数"
   ]
  },
  {
   "cell_type": "markdown",
   "metadata": {},
   "source": [
    "| 方法       | 描述                  |\n",
    "|------------|-----------------------|\n",
    "| trace      | 对角线元素之和         |\n",
    "| diag       | 对角线元素             |\n",
    "| triu / tril| 上三角 / 下三角矩阵     |\n",
    "| matmul         | 矩阵乘法               |\n",
    "| t          | 转置                   |\n",
    "| inverse    | 求逆矩阵               |\n",
    "| svd        | 奇异值分解             |"
   ]
  },
  {
   "cell_type": "markdown",
   "metadata": {},
   "source": [
    "对应，reshape()，resize() 和 view()，三者直接的区别在于：resize() 和 view() 执行变换时和原 Tensor 共享内存，即修改一个，另外一个也会跟着改变。而 reshape() 则会复制到新的内存区块上。"
   ]
  },
  {
   "cell_type": "markdown",
   "metadata": {},
   "source": [
    "# 自动微分"
   ]
  },
  {
   "cell_type": "markdown",
   "metadata": {},
   "source": [
    "我们通过传入一个 Tensor 去构造 Variable，同时可以指定 2 个参数：\n",
    "\n",
    "- requires_grad (bool)：决定是否对 Variable 微分，如果 requires_grad=True，计算过程将被追踪，此变量的梯度将累积到 .grad 属性中。\n",
    "- volatile (bool)：直译为「挥发」，如果 volatile=True，则构建在该 Variable 之上的图都不会微分，此参数为模型推理阶段设计。"
   ]
  },
  {
   "cell_type": "code",
   "execution_count": 12,
   "metadata": {},
   "outputs": [
    {
     "data": {
      "text/plain": [
       "tensor([[1., 1., 1., 1.],\n",
       "        [1., 1., 1., 1.],\n",
       "        [1., 1., 1., 1.]], requires_grad=True)"
      ]
     },
     "execution_count": 12,
     "metadata": {},
     "output_type": "execute_result"
    }
   ],
   "source": [
    "from torch.autograd import Variable\n",
    "\n",
    "x = Variable(t.ones(3, 4), requires_grad=True)\n",
    "x"
   ]
  },
  {
   "cell_type": "code",
   "execution_count": 13,
   "metadata": {},
   "outputs": [
    {
     "data": {
      "text/plain": [
       "tensor([[1., 1., 1., 1.],\n",
       "        [1., 1., 1., 1.],\n",
       "        [1., 1., 1., 1.]], requires_grad=True)"
      ]
     },
     "execution_count": 13,
     "metadata": {},
     "output_type": "execute_result"
    }
   ],
   "source": [
    "x = t.ones(3, 4, requires_grad=True)\n",
    "x"
   ]
  },
  {
   "cell_type": "code",
   "execution_count": 14,
   "metadata": {},
   "outputs": [
    {
     "name": "stdout",
     "output_type": "stream",
     "text": [
      "tensor([[1., 1., 1., 1.],\n",
      "        [1., 1., 1., 1.],\n",
      "        [1., 1., 1., 1.]])\n",
      "None\n",
      "None\n"
     ]
    }
   ],
   "source": [
    "print(x.data)\n",
    "print(x.grad)\n",
    "print(x.grad_fn)"
   ]
  },
  {
   "cell_type": "markdown",
   "metadata": {},
   "source": [
    "因为这里没有计算过程，所以 grad 和 grad_fn 都是 None。我们可以对 x 执行一次运算："
   ]
  },
  {
   "cell_type": "code",
   "execution_count": 22,
   "metadata": {},
   "outputs": [
    {
     "name": "stdout",
     "output_type": "stream",
     "text": [
      "tensor([[3., 3., 3., 3.],\n",
      "        [3., 3., 3., 3.],\n",
      "        [3., 3., 3., 3.]], grad_fn=<AddBackward0>)\n"
     ]
    },
    {
     "data": {
      "text/plain": [
       "<AddBackward0 at 0x1308a62c340>"
      ]
     },
     "execution_count": 22,
     "metadata": {},
     "output_type": "execute_result"
    }
   ],
   "source": [
    "%matplotlib inline\n",
    "y = x*x + 2\n",
    "print(y)\n",
    "y.grad_fn\n"
   ]
  },
  {
   "attachments": {
    "image.png": {
     "image/png": "[encoded data removed]"
    }
   },
   "cell_type": "markdown",
   "metadata": {},
   "source": [
    "![image.png](attachment:image.png)"
   ]
  },
  {
   "cell_type": "code",
   "execution_count": 23,
   "metadata": {},
   "outputs": [
    {
     "name": "stdout",
     "output_type": "stream",
     "text": [
      "tensor(27., grad_fn=<MeanBackward0>)\n"
     ]
    },
    {
     "data": {
      "text/plain": [
       "<MeanBackward0 at 0x1308a67cca0>"
      ]
     },
     "execution_count": 23,
     "metadata": {},
     "output_type": "execute_result"
    }
   ],
   "source": [
    "# 复杂点\n",
    "z = t.mean(y.pow(3))\n",
    "print(z)\n",
    "z.grad_fn"
   ]
  },
  {
   "attachments": {
    "image.png": {
     "image/png": "[encoded data removed]"
    }
   },
   "cell_type": "markdown",
   "metadata": {},
   "source": [
    "![image.png](attachment:image.png)"
   ]
  },
  {
   "cell_type": "markdown",
   "metadata": {},
   "source": [
    "此时，你可以使用 backward 进行反向传播，并计算所有叶子节点的导数（梯度）。注意，Z 和 Y 都不是叶子节点，所以都没有梯度信息。\n",
    "\n"
   ]
  },
  {
   "cell_type": "code",
   "execution_count": 24,
   "metadata": {},
   "outputs": [
    {
     "name": "stdout",
     "output_type": "stream",
     "text": [
      "False False True\n",
      "None\n",
      "None\n",
      "tensor([[4.5000, 4.5000, 4.5000, 4.5000],\n",
      "        [4.5000, 4.5000, 4.5000, 4.5000],\n",
      "        [4.5000, 4.5000, 4.5000, 4.5000]])\n"
     ]
    },
    {
     "name": "stderr",
     "output_type": "stream",
     "text": [
      "C:\\Users\\change longer\\AppData\\Local\\Temp\\ipykernel_26808\\15812736.py:3: UserWarning: The .grad attribute of a Tensor that is not a leaf Tensor is being accessed. Its .grad attribute won't be populated during autograd.backward(). If you indeed want the .grad field to be populated for a non-leaf Tensor, use .retain_grad() on the non-leaf Tensor. If you access the non-leaf Tensor by mistake, make sure you access the leaf Tensor instead. See github.com/pytorch/pytorch/pull/30531 for more informations. (Triggered internally at C:\\cb\\pytorch_1000000000000\\work\\build\\aten\\src\\ATen/core/TensorBody.h:491.)\n",
      "  print(z.grad)\n",
      "C:\\Users\\change longer\\AppData\\Local\\Temp\\ipykernel_26808\\15812736.py:4: UserWarning: The .grad attribute of a Tensor that is not a leaf Tensor is being accessed. Its .grad attribute won't be populated during autograd.backward(). If you indeed want the .grad field to be populated for a non-leaf Tensor, use .retain_grad() on the non-leaf Tensor. If you access the non-leaf Tensor by mistake, make sure you access the leaf Tensor instead. See github.com/pytorch/pytorch/pull/30531 for more informations. (Triggered internally at C:\\cb\\pytorch_1000000000000\\work\\build\\aten\\src\\ATen/core/TensorBody.h:491.)\n",
      "  print(y.grad)\n"
     ]
    }
   ],
   "source": [
    "z.backward()\n",
    "print(z.is_leaf, y.is_leaf, x.is_leaf)\n",
    "print(z.grad)\n",
    "print(y.grad)\n",
    "print(x.grad)"
   ]
  },
  {
   "cell_type": "markdown",
   "metadata": {},
   "source": [
    "注意，由于梯度是会累计的，所以重复运行计算 Z 的代码就相当于修改了计算图，相应的梯度值也会发生变化。除此之外，如果你重复运行 backward() 会报错，原因是前向传递过程之后将所需数值保存为 buffer，当计算完梯度之后会自动清空。如果想要多次反向传播，那就需要通过 backward(retain_graph=True) 参数来保证 buffer 的持久性。"
   ]
  },
  {
   "cell_type": "markdown",
   "metadata": {},
   "source": [
    "下面，我们再通过一个例子对比 Autograd 的自动求导和手动求导数的过程。首先，创建一个随机 Tensor，并开启 requires_grad=True：\n",
    "\n"
   ]
  },
  {
   "cell_type": "code",
   "execution_count": 26,
   "metadata": {},
   "outputs": [
    {
     "data": {
      "text/plain": [
       "tensor([[-0.2719,  0.2375,  1.1766,  0.0424],\n",
       "        [ 0.7384, -0.1945, -0.9695,  1.3192],\n",
       "        [-0.8805, -0.9884, -0.2491, -0.3691]], requires_grad=True)"
      ]
     },
     "execution_count": 26,
     "metadata": {},
     "output_type": "execute_result"
    }
   ],
   "source": [
    "x = t.randn(3,4,requires_grad=True)\n",
    "x"
   ]
  },
  {
   "cell_type": "code",
   "execution_count": 27,
   "metadata": {},
   "outputs": [
    {
     "data": {
      "text/plain": [
       "tensor([[0.4324, 0.5591, 0.7643, 0.5106],\n",
       "        [0.6766, 0.4515, 0.2750, 0.7890],\n",
       "        [0.2931, 0.2712, 0.4380, 0.4087]], grad_fn=<SigmoidBackward0>)"
      ]
     },
     "execution_count": 27,
     "metadata": {},
     "output_type": "execute_result"
    }
   ],
   "source": [
    "y = t.sigmoid(x)\n",
    "y"
   ]
  },
  {
   "cell_type": "markdown",
   "metadata": {},
   "source": [
    "然后，我们可以通过 Autograd 机制得到导数计算结果。这里需要使用到 backward，并传入一个形状与 y 一致的 gradient：\n",
    "\n"
   ]
  },
  {
   "cell_type": "code",
   "execution_count": 28,
   "metadata": {},
   "outputs": [
    {
     "data": {
      "text/plain": [
       "tensor([[0.2454, 0.2465, 0.1801, 0.2499],\n",
       "        [0.2188, 0.2477, 0.1994, 0.1665],\n",
       "        [0.2072, 0.1977, 0.2462, 0.2417]])"
      ]
     },
     "execution_count": 28,
     "metadata": {},
     "output_type": "execute_result"
    }
   ],
   "source": [
    "y.backward(gradient=t.ones(y.size()))\n",
    "x.grad"
   ]
  },
  {
   "cell_type": "code",
   "execution_count": null,
   "metadata": {},
   "outputs": [],
   "source": []
  }
 ],
 "metadata": {
  "kernelspec": {
   "display_name": "lanqiao",
   "language": "python",
   "name": "python3"
  },
  "language_info": {
   "codemirror_mode": {
    "name": "ipython",
    "version": 3
   },
   "file_extension": ".py",
   "mimetype": "text/x-python",
   "name": "python",
   "nbconvert_exporter": "python",
   "pygments_lexer": "ipython3",
   "version": "3.8.20"
  }
 },
 "nbformat": 4,
 "nbformat_minor": 2
}
