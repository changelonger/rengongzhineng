{
 "cells": [
  {
   "cell_type": "code",
   "execution_count": 26,
   "metadata": {},
   "outputs": [],
   "source": [
    "import numpy as np"
   ]
  },
  {
   "cell_type": "code",
   "execution_count": 27,
   "metadata": {},
   "outputs": [
    {
     "name": "stdout",
     "output_type": "stream",
     "text": [
      "[[73 22 78  2]\n",
      " [77 56 73 64]\n",
      " [83 17 93 23]]\n"
     ]
    }
   ],
   "source": [
    "a = np.random.randint(0,100,size=(3,4))\n",
    "print(a)"
   ]
  },
  {
   "cell_type": "code",
   "execution_count": 28,
   "metadata": {},
   "outputs": [],
   "source": [
    "# 保存csv文件\n",
    "np.savetxt(\"score.csv\",a,delimiter=\",\",header=\"English,Math\",comments=\"\",fmt=\"%d\")"
   ]
  },
  {
   "cell_type": "code",
   "execution_count": 29,
   "metadata": {},
   "outputs": [
    {
     "name": "stdout",
     "output_type": "stream",
     "text": [
      "[[73 22 78  2]\n",
      " [77 56 73 64]\n",
      " [83 17 93 23]]\n"
     ]
    }
   ],
   "source": [
    "# 读取csv\n",
    "b = np.loadtxt(\"score.csv\",dtype=np.int64,delimiter=\",\",skiprows = 1)\n",
    "print(b)\n",
    "# skiprow跳过多少行"
   ]
  },
  {
   "cell_type": "markdown",
   "metadata": {},
   "source": [
    "#### numpy独有的保存方式\n",
    "np.save 和np.load,可以储存多维，另外就是两维"
   ]
  },
  {
   "cell_type": "code",
   "execution_count": 30,
   "metadata": {},
   "outputs": [
    {
     "name": "stdout",
     "output_type": "stream",
     "text": [
      "[[26 83]\n",
      " [85 52]\n",
      " [35 10]\n",
      " [64 86]\n",
      " [97 66]]\n"
     ]
    }
   ],
   "source": [
    "c = np.random.randint(0,100,size=(5,2))\n",
    "print(c)"
   ]
  },
  {
   "cell_type": "code",
   "execution_count": 31,
   "metadata": {},
   "outputs": [],
   "source": [
    "# numpy.save(frame,array)\n",
    "np.save(\"c\",c) # 保存"
   ]
  },
  {
   "cell_type": "code",
   "execution_count": 32,
   "metadata": {},
   "outputs": [
    {
     "name": "stdout",
     "output_type": "stream",
     "text": [
      "[[26 83]\n",
      " [85 52]\n",
      " [35 10]\n",
      " [64 86]\n",
      " [97 66]]\n"
     ]
    }
   ],
   "source": [
    "# 读取\n",
    "c1 = np.load(\"c.npy\")\n",
    "print(c1)"
   ]
  },
  {
   "cell_type": "code",
   "execution_count": null,
   "metadata": {},
   "outputs": [],
   "source": []
  }
 ],
 "metadata": {
  "kernelspec": {
   "display_name": "lanqiao",
   "language": "python",
   "name": "python3"
  },
  "language_info": {
   "codemirror_mode": {
    "name": "ipython",
    "version": 3
   },
   "file_extension": ".py",
   "mimetype": "text/x-python",
   "name": "python",
   "nbconvert_exporter": "python",
   "pygments_lexer": "ipython3",
   "version": "3.8.20"
  }
 },
 "nbformat": 4,
 "nbformat_minor": 2
}
