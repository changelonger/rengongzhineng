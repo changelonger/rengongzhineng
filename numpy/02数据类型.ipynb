{
 "cells": [
  {
   "cell_type": "markdown",
   "metadata": {},
   "source": [
    "## 02元素数据类型\n"
   ]
  },
  {
   "cell_type": "markdown",
   "metadata": {},
   "source": [
    "| 序号 | 数据类型及描述 | \n",
    "|------|----------------|\n",
    "| 1    | `bool_` 存储为一个字节的布尔值（真或假） |\n",
    "| 2    | `int_` 默认整数，相当于 C 的 `long`，通常为 `int32` 或 `int64` |\n",
    "| 3    | `intc` 相当于 C 的 `int`，通常为 `int32` 或 `int64` |\n",
    "| 4    | `intp` 用于索引的整数，相当于 C 的 `size_t`，通常为 `int32` 或 `int64` |\n",
    "| 5    | `int8` 字节（-128 ~ 127） |\n",
    "| 6    | `int16` 16 位整数（-32768 ~ 32767） |\n",
    "| 7    | `int32` 32 位整数（-2147483648 ~ 2147483647） |\n",
    "| 8    | `int64` 64 位整数（-9223372036854775808 ~ 9223372036854775807） |\n",
    "| 9    | `uint8` 8 位无符号整数（0 ~ 255） |\n",
    "| 10   | `uint16` 16 位无符号整数（0 ~ 65535） |\n",
    "| 11   | `uint32` 32 位无符号整数（0 ~ 4294967295） |\n",
    "| 12   | `uint64` 64 位无符号整数（0 ~ 18446744073709551615） |\n",
    "| 13   | `float_` `float64` 的简写 |\n",
    "| 14   | `float16` 半精度浮点：符号位，5 位指数，10 位尾数 |\n",
    "| 15   | `float32` 单精度浮点：符号位，8 位指数，23 位尾数 |\n",
    "| 16   | `float64` 双精度浮点：符号位，11 位指数，52 位尾数 |\n",
    "| 17   | `complex_` `complex128` 的简写 |\n",
    "| 18   | `complex64` 复数，由两个 32 位浮点表示（实部和虚部） |\n",
    "| 19   | `complex128` 复数，由两个 64 位浮点表示（实部和虚部） |\n"
   ]
  },
  {
   "cell_type": "code",
   "execution_count": 1,
   "metadata": {},
   "outputs": [],
   "source": [
    "import numpy as np"
   ]
  },
  {
   "cell_type": "code",
   "execution_count": 2,
   "metadata": {},
   "outputs": [
    {
     "name": "stdout",
     "output_type": "stream",
     "text": [
      "[1 2 3 4 5]\n",
      "int8\n"
     ]
    }
   ],
   "source": [
    "# 整形\n",
    "b = np.array([1,2,3,4,5],dtype = np.int8)\n",
    "print(b)\n",
    "print(b.dtype)"
   ]
  },
  {
   "cell_type": "code",
   "execution_count": 3,
   "metadata": {},
   "outputs": [
    {
     "name": "stdout",
     "output_type": "stream",
     "text": [
      "[1. 2. 3. 4. 5.]\n",
      "float16\n"
     ]
    }
   ],
   "source": [
    "# 浮点型\n",
    "c = np.array([1,2,3,4,5],dtype = np.float16)\n",
    "print(c)\n",
    "print(c.dtype)"
   ]
  },
  {
   "cell_type": "code",
   "execution_count": 4,
   "metadata": {},
   "outputs": [
    {
     "name": "stdout",
     "output_type": "stream",
     "text": [
      "[<__main__.Preson object at 0x000001EAEA652430>\n",
      " <__main__.Preson object at 0x000001EAEA652460>]\n",
      "object\n"
     ]
    }
   ],
   "source": [
    "# python 对象\n",
    "class Preson:\n",
    "    def __init__(self,name,age):\n",
    "        self.name = name\n",
    "        self.age = age\n",
    "d = np.array([Preson('小红',18),Preson('小明',20)])\n",
    "print(d)\n",
    "print(d.dtype)       "
   ]
  },
  {
   "cell_type": "code",
   "execution_count": 5,
   "metadata": {},
   "outputs": [
    {
     "name": "stdout",
     "output_type": "stream",
     "text": [
      "[b'a' b'b']\n",
      "|S1\n"
     ]
    }
   ],
   "source": [
    "# 字符串\n",
    "f = np.array(['a','b'],dtype='S')\n",
    "print(f)\n",
    "print(f.dtype)\n"
   ]
  },
  {
   "cell_type": "code",
   "execution_count": 6,
   "metadata": {},
   "outputs": [
    {
     "name": "stdout",
     "output_type": "stream",
     "text": [
      "['a' 'b']\n",
      "<U1\n"
     ]
    }
   ],
   "source": [
    "e = np.array(['a','b'],dtype='U')\n",
    "print(e)\n",
    "print(e.dtype)\n"
   ]
  },
  {
   "cell_type": "code",
   "execution_count": 7,
   "metadata": {},
   "outputs": [
    {
     "name": "stdout",
     "output_type": "stream",
     "text": [
      "['a' 'b']\n",
      "<U1\n"
     ]
    }
   ],
   "source": [
    "# 修改数据类型,ndarrty.astype,不修改原来的数据类型\n",
    "uf = f.astype('U')\n",
    "print(uf)\n",
    "print(uf.dtype)"
   ]
  },
  {
   "cell_type": "markdown",
   "metadata": {},
   "source": []
  }
 ],
 "metadata": {
  "kernelspec": {
   "display_name": "lanqiao",
   "language": "python",
   "name": "python3"
  },
  "language_info": {
   "codemirror_mode": {
    "name": "ipython",
    "version": 3
   },
   "file_extension": ".py",
   "mimetype": "text/x-python",
   "name": "python",
   "nbconvert_exporter": "python",
   "pygments_lexer": "ipython3",
   "version": "3.8.20"
  }
 },
 "nbformat": 4,
 "nbformat_minor": 2
}
