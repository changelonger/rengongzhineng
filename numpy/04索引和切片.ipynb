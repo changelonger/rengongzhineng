{
 "cells": [
  {
   "cell_type": "markdown",
   "metadata": {},
   "source": [
    "## 05索引和切片"
   ]
  },
  {
   "cell_type": "code",
   "execution_count": 31,
   "metadata": {},
   "outputs": [],
   "source": [
    "import numpy as np"
   ]
  },
  {
   "cell_type": "code",
   "execution_count": 32,
   "metadata": {},
   "outputs": [
    {
     "name": "stdout",
     "output_type": "stream",
     "text": [
      "4\n",
      "[4 5]\n",
      "[0 2 4 6 8]\n",
      "9\n"
     ]
    }
   ],
   "source": [
    "# 1、一维数组的切片和索引\n",
    "a1 = np.arange(10)\n",
    "# 索引操作\n",
    "print(a1[4])\n",
    "# 切片\n",
    "print(a1[4:6])\n",
    "# 使用步长\n",
    "print(a1[:-1:2]) # 或者a1[::2]\n",
    "# 使用负数\n",
    "print(a1[-1])\n",
    "# 操作和列表类似"
   ]
  },
  {
   "cell_type": "code",
   "execution_count": 33,
   "metadata": {},
   "outputs": [
    {
     "name": "stdout",
     "output_type": "stream",
     "text": [
      "[[0 2 9 1 7 9]\n",
      " [7 7 7 6 3 9]\n",
      " [2 7 9 8 0 2]\n",
      " [9 0 9 1 2 5]]\n"
     ]
    }
   ],
   "source": [
    "# 2、多维数组\n",
    "# 也是用中括号，用逗号分隔，逗号前面是行。后面是列\n",
    "# 如果只有一个值，那就是行\n",
    "a2 = np.random.randint(0,10,size=(4,6))\n",
    "print(a2)"
   ]
  },
  {
   "cell_type": "code",
   "execution_count": 34,
   "metadata": {},
   "outputs": [
    {
     "name": "stdout",
     "output_type": "stream",
     "text": [
      "[0 2 9 1 7 9]\n",
      "[[7 7 7 6 3 9]\n",
      " [2 7 9 8 0 2]]\n",
      "[[0 2 9 1 7 9]\n",
      " [2 7 9 8 0 2]\n",
      " [9 0 9 1 2 5]]\n"
     ]
    }
   ],
   "source": [
    "# 获取某一行\n",
    "print(a2[0]) # 第0行\n",
    "print(a2[1:3])# 连续行\n",
    "print(a2[[0,2,3]]) # 获取第0,2,3行"
   ]
  },
  {
   "cell_type": "code",
   "execution_count": 35,
   "metadata": {},
   "outputs": [
    {
     "name": "stdout",
     "output_type": "stream",
     "text": [
      "7\n",
      "[7 8]\n"
     ]
    }
   ],
   "source": [
    "# 具体数值\n",
    "print(a2[1,2]) # 第一行，第二列\n",
    "print(a2[[1,2],[1,3]]) # 第一行第一列和第2行第三列"
   ]
  },
  {
   "cell_type": "code",
   "execution_count": 36,
   "metadata": {},
   "outputs": [
    {
     "name": "stdout",
     "output_type": "stream",
     "text": [
      "[[3 9]\n",
      " [0 2]]\n"
     ]
    }
   ],
   "source": [
    "# 连续的，第一行，第二行，第四列，第五列\n",
    "print(a2[1:3,4:6])"
   ]
  },
  {
   "cell_type": "code",
   "execution_count": 37,
   "metadata": {},
   "outputs": [
    {
     "name": "stdout",
     "output_type": "stream",
     "text": [
      "[[2 9]\n",
      " [7 7]\n",
      " [7 9]\n",
      " [0 9]]\n"
     ]
    }
   ],
   "source": [
    "# 获取某一列的数据\n",
    "print(a2[:,1:3])"
   ]
  },
  {
   "cell_type": "markdown",
   "metadata": {},
   "source": [
    "#"
   ]
  },
  {
   "cell_type": "markdown",
   "metadata": {},
   "source": [
    "### 总结\n",
    "1. 如果是数组是一维的，那么索引和切片跟python一样的\n",
    "2. 如果数组的多维的(二维为例)，那么在中括号中给两个值，用逗号分隔，前面是行，后面是列，如果只有一个值，那代表的就是行\n",
    "3. 如果是多维数组(二维为例),行的部分和列的部分，都是遵循一维数组的方式，可以使用整形，切片，还可以用中括号的性质来代表不连续的比如a[[1,2],[3,4]],那么返回(1,3),(2,4)"
   ]
  },
  {
   "cell_type": "markdown",
   "metadata": {},
   "source": [
    "#### 布尔索引"
   ]
  },
  {
   "cell_type": "code",
   "execution_count": 39,
   "metadata": {},
   "outputs": [
    {
     "name": "stdout",
     "output_type": "stream",
     "text": [
      "[[ 0  1  2  3  4  5]\n",
      " [ 6  7  8  9 10 11]\n",
      " [12 13 14 15 16 17]\n",
      " [18 19 20 21 22 23]]\n",
      "[[ True  True  True  True  True  True]\n",
      " [ True  True  True  True False False]\n",
      " [False False False False False False]\n",
      " [False False False False False False]]\n",
      "[0 1 2 3 4 5 6 7 8 9]\n"
     ]
    }
   ],
   "source": [
    "a2 = np.arange(24).reshape(4,6)\n",
    "print(a2)\n",
    "print(a2<10)\n",
    "print(a2[a2<10])"
   ]
  },
  {
   "cell_type": "markdown",
   "metadata": {},
   "source": [
    "### 数组值的替换"
   ]
  },
  {
   "cell_type": "code",
   "execution_count": 40,
   "metadata": {},
   "outputs": [
    {
     "name": "stdout",
     "output_type": "stream",
     "text": [
      "[[9 1 0 0 0]\n",
      " [2 2 9 9 8]\n",
      " [8 5 7 8 1]]\n"
     ]
    }
   ],
   "source": [
    "a3 = np.random.randint(0,10,size=(3,5))\n",
    "print(a3)"
   ]
  },
  {
   "cell_type": "code",
   "execution_count": 42,
   "metadata": {},
   "outputs": [
    {
     "name": "stdout",
     "output_type": "stream",
     "text": [
      "[[9 1 0 0 0]\n",
      " [0 0 0 0 0]\n",
      " [8 5 7 8 1]]\n"
     ]
    }
   ],
   "source": [
    "a3[1] = 0 #  第一行都变成0\n",
    "print(a3)"
   ]
  },
  {
   "cell_type": "code",
   "execution_count": 44,
   "metadata": {},
   "outputs": [
    {
     "name": "stdout",
     "output_type": "stream",
     "text": [
      "[[9 1 1 1 1]\n",
      " [1 1 1 1 1]\n",
      " [8 5 7 8 1]]\n"
     ]
    }
   ],
   "source": [
    "# 布尔索引替换\n",
    "a3[a3<5] = 1\n",
    "print(a3)"
   ]
  },
  {
   "cell_type": "code",
   "execution_count": null,
   "metadata": {},
   "outputs": [
    {
     "name": "stdout",
     "output_type": "stream",
     "text": [
      "[[1 0 0 0 0]\n",
      " [0 0 0 0 0]\n",
      " [1 1 1 1 0]]\n",
      "[[9 1 1 1 1]\n",
      " [1 1 1 1 1]\n",
      " [8 5 7 8 1]]\n"
     ]
    }
   ],
   "source": [
    "# 函数替换\n",
    "res = np.where(a3<5,0,1) # 不改变值\n",
    "print(res)\n",
    "print(a3)"
   ]
  }
 ],
 "metadata": {
  "kernelspec": {
   "display_name": "lanqiao",
   "language": "python",
   "name": "python3"
  },
  "language_info": {
   "codemirror_mode": {
    "name": "ipython",
    "version": 3
   },
   "file_extension": ".py",
   "mimetype": "text/x-python",
   "name": "python",
   "nbconvert_exporter": "python",
   "pygments_lexer": "ipython3",
   "version": "3.8.20"
  }
 },
 "nbformat": 4,
 "nbformat_minor": 2
}
