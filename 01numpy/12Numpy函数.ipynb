{
 "cells": [
  {
   "cell_type": "code",
   "execution_count": 1,
   "metadata": {},
   "outputs": [],
   "source": [
    "import numpy as np"
   ]
  },
  {
   "cell_type": "code",
   "execution_count": 3,
   "metadata": {},
   "outputs": [
    {
     "name": "stdout",
     "output_type": "stream",
     "text": [
      "1.2246467991473532e-16\n",
      "-1.0\n",
      "-1.2246467991473532e-16\n",
      "1.5707963267948966\n",
      "0.0\n",
      "1.2626272556789115\n",
      "5.0\n",
      "180.0\n",
      "180.0\n",
      "3.141592653589793\n",
      "3.141592653589793\n"
     ]
    }
   ],
   "source": [
    "# 三角函数\n",
    "pi = np.pi\n",
    "x = pi\n",
    "print(np.sin(x))\n",
    "print(np.cos(x))\n",
    "print(np.tan(x))\n",
    "print(np.arcsin(1))\n",
    "print(np.arccos(1))\n",
    "print(np.arctan(x))\n",
    "print(np.hypot(3,4)) #求斜边\n",
    "print(np.degrees(x)) # 弧度转换成 角度\n",
    "print(np.rad2deg(x)) # 弧度转换成 角度\n",
    "print(np.radians(180)) # 度转换成弧度\n",
    "print(np.deg2rad(180)) # 度转换成弧度\n"
   ]
  },
  {
   "cell_type": "code",
   "execution_count": 10,
   "metadata": {},
   "outputs": [
    {
     "name": "stdout",
     "output_type": "stream",
     "text": [
      "[-0.09500287  0.47828506  0.62842591 -0.79631898 -1.03931967]\n"
     ]
    }
   ],
   "source": [
    "# 数值修约\n",
    "a = np.random.randn(5)\n",
    "print(a)"
   ]
  },
  {
   "cell_type": "code",
   "execution_count": 13,
   "metadata": {},
   "outputs": [
    {
     "name": "stdout",
     "output_type": "stream",
     "text": [
      "[-0.  0.  1. -1. -1.]\n",
      "[-0.  0.  1. -1. -1.]\n",
      "[-0.  0.  1. -1. -1.]\n"
     ]
    }
   ],
   "source": [
    "print(np.around(a)) #四舍五入，小数\n",
    "print(np.round_(a)) # 四舍五入 小数\n",
    "print(np.rint(a))     \n"
   ]
  },
  {
   "cell_type": "code",
   "execution_count": null,
   "metadata": {},
   "outputs": [],
   "source": []
  }
 ],
 "metadata": {
  "kernelspec": {
   "display_name": "lanqiao",
   "language": "python",
   "name": "python3"
  },
  "language_info": {
   "codemirror_mode": {
    "name": "ipython",
    "version": 3
   },
   "file_extension": ".py",
   "mimetype": "text/x-python",
   "name": "python",
   "nbconvert_exporter": "python",
   "pygments_lexer": "ipython3",
   "version": "3.8.20"
  }
 },
 "nbformat": 4,
 "nbformat_minor": 2
}
