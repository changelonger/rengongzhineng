{
 "cells": [
  {
   "cell_type": "code",
   "execution_count": 22,
   "metadata": {},
   "outputs": [
    {
     "name": "stdout",
     "output_type": "stream",
     "text": [
      "[[[17 16]\n",
      "  [22 13]\n",
      "  [ 6 15]]\n",
      "\n",
      " [[ 3 26]\n",
      "  [ 8 10]\n",
      "  [19 12]]\n",
      "\n",
      " [[14  3]\n",
      "  [ 6 19]\n",
      "  [25 14]]\n",
      "\n",
      " [[ 2 19]\n",
      "  [11 13]\n",
      "  [11 23]]]\n"
     ]
    }
   ],
   "source": [
    "import numpy as np\n",
    "a = np.random.randint(0,27,size=(4,3,2))\n",
    "print(a)"
   ]
  },
  {
   "cell_type": "markdown",
   "metadata": {},
   "source": [
    "在NumPy中，axis参数用于指定沿着哪个维度进行操作。对于你给的三维数组，它的形状是 (4, 3, 2)，也就是说，数据有4个二维数组，每个二维数组的形状是 (3, 2)。\n",
    "\n",
    "axis=0：沿着第一个维度（即4个二维数组）进行操作。例如，沿axis=0进行求和，会对每列进行求和，结果是一个形状为 (3, 2) 的数组。   \n",
    "axis=1：沿着第二个维度（每个二维数组的3行）进行操作。例如，沿axis=1进行求和，会对每行进行求和，结果是一个形状为 (4, 2) 的数组。   \n",
    "axis=2：沿着第三个维度（每行的2个元素）进行操作。例如，沿axis=2进行求和，会对每行的两个元素进行求和，结果是一个形状为 (4, 3) 的数组。   "
   ]
  },
  {
   "cell_type": "code",
   "execution_count": 23,
   "metadata": {},
   "outputs": [
    {
     "data": {
      "text/plain": [
       "(array([[17, 26],\n",
       "        [22, 19],\n",
       "        [25, 23]]),\n",
       " array([[22, 16],\n",
       "        [19, 26],\n",
       "        [25, 19],\n",
       "        [11, 23]]),\n",
       " array([[17, 22, 15],\n",
       "        [26, 10, 19],\n",
       "        [14, 19, 25],\n",
       "        [19, 13, 23]]))"
      ]
     },
     "execution_count": 23,
     "metadata": {},
     "output_type": "execute_result"
    }
   ],
   "source": [
    "a.max(axis=0),a.max(axis=1),a.max(axis=2)"
   ]
  },
  {
   "cell_type": "code",
   "execution_count": null,
   "metadata": {},
   "outputs": [],
   "source": []
  }
 ],
 "metadata": {
  "kernelspec": {
   "display_name": "lanqiao",
   "language": "python",
   "name": "python3"
  },
  "language_info": {
   "codemirror_mode": {
    "name": "ipython",
    "version": 3
   },
   "file_extension": ".py",
   "mimetype": "text/x-python",
   "name": "python",
   "nbconvert_exporter": "python",
   "pygments_lexer": "ipython3",
   "version": "3.8.20"
  }
 },
 "nbformat": 4,
 "nbformat_minor": 2
}
