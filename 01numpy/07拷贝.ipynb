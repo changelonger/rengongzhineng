{
 "cells": [
  {
   "cell_type": "code",
   "execution_count": 1,
   "metadata": {},
   "outputs": [],
   "source": [
    "import numpy as np"
   ]
  },
  {
   "cell_type": "code",
   "execution_count": null,
   "metadata": {},
   "outputs": [
    {
     "name": "stdout",
     "output_type": "stream",
     "text": [
      "True\n"
     ]
    }
   ],
   "source": [
    "# 不拷贝\n",
    "a = np.arange(12)\n",
    "b = a # 连个是一个变量，名字不一样\n",
    "print( a is b)"
   ]
  },
  {
   "cell_type": "code",
   "execution_count": 4,
   "metadata": {},
   "outputs": [
    {
     "name": "stdout",
     "output_type": "stream",
     "text": [
      "False\n",
      "10\n"
     ]
    }
   ],
   "source": [
    "# 浅拷贝。两个变量引用同一个对象\n",
    "b = a.view()\n",
    "print(b is a) # 不是一个变量\n",
    "b[0]=10\n",
    "print(a[0])\n",
    "# 改变其中一个，另一个也会改变"
   ]
  },
  {
   "cell_type": "code",
   "execution_count": 7,
   "metadata": {},
   "outputs": [
    {
     "name": "stdout",
     "output_type": "stream",
     "text": [
      "False\n",
      "0\n"
     ]
    }
   ],
   "source": [
    "# 深拷贝，放在不同的空间里，数据独立的\n",
    "a = np.arange(12)\n",
    "b = a.copy()\n",
    "print(b is a) # 不是一个变量\n",
    "b[0]=10\n",
    "print(a[0]) # 不会改变"
   ]
  },
  {
   "cell_type": "markdown",
   "metadata": {},
   "source": [
    "**ravel** 返回的是浅拷贝    \n",
    "**flatten** 返回的是深拷贝"
   ]
  }
 ],
 "metadata": {
  "kernelspec": {
   "display_name": "lanqiao",
   "language": "python",
   "name": "python3"
  },
  "language_info": {
   "codemirror_mode": {
    "name": "ipython",
    "version": 3
   },
   "file_extension": ".py",
   "mimetype": "text/x-python",
   "name": "python",
   "nbconvert_exporter": "python",
   "pygments_lexer": "ipython3",
   "version": "3.8.20"
  }
 },
 "nbformat": 4,
 "nbformat_minor": 2
}
