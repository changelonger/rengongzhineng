{
 "cells": [
  {
   "cell_type": "markdown",
   "metadata": {},
   "source": [
    "## 01创建数组"
   ]
  },
  {
   "cell_type": "code",
   "execution_count": 1,
   "metadata": {},
   "outputs": [],
   "source": [
    "import numpy as np"
   ]
  },
  {
   "cell_type": "code",
   "execution_count": 2,
   "metadata": {},
   "outputs": [
    {
     "name": "stdout",
     "output_type": "stream",
     "text": [
      "[1 2 3 4] ['1.2' '2' '3']\n"
     ]
    }
   ],
   "source": [
    "# 1、numpy.array()\n",
    "a = np.array([1,2,3,4])\n",
    "b = np.array([1.2,2,'3'])\n",
    "print(a,b) \n",
    "# numpy的数组类型要一直，列表可以是任何元素的类型，数组类型不一致回转换成一致的\n",
    "# 数组打印出来中间没有逗号，列表有逗号\n",
    "# help(np.array)"
   ]
  },
  {
   "cell_type": "code",
   "execution_count": 3,
   "metadata": {},
   "outputs": [
    {
     "name": "stdout",
     "output_type": "stream",
     "text": [
      "[0 1 2 3 4 5 6 7 8 9]\n"
     ]
    }
   ],
   "source": [
    "# 2、 numpy.arange()\n",
    "a = np.arange(0,10,1)\n",
    "print(a)"
   ]
  },
  {
   "cell_type": "code",
   "execution_count": 4,
   "metadata": {},
   "outputs": [
    {
     "name": "stdout",
     "output_type": "stream",
     "text": [
      "[[0.61077466 0.96250243 0.69282199]\n",
      " [0.8736481  0.82624376 0.9156704 ]] \n",
      " [[0 7 2]\n",
      " [2 5 8]] \n",
      " [[4.92886114 4.56580863 4.29457571]\n",
      " [8.74784482 9.23923543 6.67620429]]\n"
     ]
    }
   ],
   "source": [
    "# 3、numpy.random\n",
    "a = np.random.random((2,3)) # 形状(2,3) 范围0-1的随机数组\n",
    "b = np.random.randint(0,10,(2,3)) #0-10的整形\n",
    "c = np.random.uniform(0, 10, (2, 3))  # 生成0-10范围内的浮点型随机数，形状为(2, 3)\n",
    "print(a, \"\\n\", b,\"\\n\",c)"
   ]
  },
  {
   "cell_type": "code",
   "execution_count": 5,
   "metadata": {},
   "outputs": [
    {
     "data": {
      "text/plain": [
       "(array([[0., 0.],\n",
       "        [0., 0.]]),\n",
       " array([[1., 1.],\n",
       "        [1., 1.],\n",
       "        [1., 1.]]),\n",
       " array([[3, 3],\n",
       "        [3, 3]]),\n",
       " array([[1., 0., 0.],\n",
       "        [0., 1., 0.],\n",
       "        [0., 0., 1.]]))"
      ]
     },
     "execution_count": 5,
     "metadata": {},
     "output_type": "execute_result"
    }
   ],
   "source": [
    "# 4、使用函数生成特殊的数组\n",
    "a = np.zeros((2,2)) # 所有元素都是0\n",
    "b = np.ones((3,2)) # 所有元素都是1\n",
    "c = np.full((2,2),3) # 所有元素都是3\n",
    "d = np.eye(3) # 对角线元素都是1，其他元素都是0\n",
    "a,b,c,d"
   ]
  }
 ],
 "metadata": {
  "kernelspec": {
   "display_name": "lanqiao",
   "language": "python",
   "name": "python3"
  },
  "language_info": {
   "codemirror_mode": {
    "name": "ipython",
    "version": 3
   },
   "file_extension": ".py",
   "mimetype": "text/x-python",
   "name": "python",
   "nbconvert_exporter": "python",
   "pygments_lexer": "ipython3",
   "version": "3.8.20"
  }
 },
 "nbformat": 4,
 "nbformat_minor": 2
}
