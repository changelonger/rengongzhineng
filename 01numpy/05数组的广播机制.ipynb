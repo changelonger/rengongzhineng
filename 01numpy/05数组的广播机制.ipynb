{
 "cells": [
  {
   "cell_type": "markdown",
   "metadata": {},
   "source": [
    "## 05数组的广播机制"
   ]
  },
  {
   "cell_type": "code",
   "execution_count": 1,
   "metadata": {},
   "outputs": [
    {
     "name": "stdout",
     "output_type": "stream",
     "text": [
      "[[2 4 0 1 3]\n",
      " [2 1 2 3 4]\n",
      " [1 4 1 3 3]]\n"
     ]
    }
   ],
   "source": [
    "import numpy as np\n",
    "a1 = np.random.randint(0,5,size = (3,5))\n",
    "print(a1)"
   ]
  },
  {
   "cell_type": "code",
   "execution_count": 2,
   "metadata": {},
   "outputs": [
    {
     "name": "stdout",
     "output_type": "stream",
     "text": [
      "[[4 8 0 2 6]\n",
      " [4 2 4 6 8]\n",
      " [2 8 2 6 6]]\n"
     ]
    }
   ],
   "source": [
    "# 数组和数之间的运算\n",
    "print(a1*2)\n"
   ]
  },
  {
   "cell_type": "code",
   "execution_count": 3,
   "metadata": {},
   "outputs": [
    {
     "name": "stdout",
     "output_type": "stream",
     "text": [
      "[[0 4 1 4 3]\n",
      " [3 3 0 3 1]\n",
      " [1 3 2 2 0]]\n"
     ]
    }
   ],
   "source": [
    "# 数组和数组运算\n",
    "a2 = np.random.randint(0,5,size = (3,5))\n",
    "print(a2)"
   ]
  },
  {
   "cell_type": "code",
   "execution_count": 4,
   "metadata": {},
   "outputs": [
    {
     "name": "stdout",
     "output_type": "stream",
     "text": [
      "[[2 8 1 5 6]\n",
      " [5 4 2 6 5]\n",
      " [2 7 3 5 3]]\n"
     ]
    }
   ],
   "source": [
    "print(a1+a2)"
   ]
  },
  {
   "cell_type": "code",
   "execution_count": 15,
   "metadata": {},
   "outputs": [
    {
     "name": "stdout",
     "output_type": "stream",
     "text": [
      "[[ 0  4  4 12 12]\n",
      " [ 6  6  0 12  3]\n",
      " [ 0  9  0  0  0]]\n"
     ]
    }
   ],
   "source": [
    "# 形状不一致会报错\n",
    "a3 = np.random.randint(0,5,size = (3,5))\n",
    "print(a2*a3)  # 位置相同的元素相乘\n"
   ]
  },
  {
   "cell_type": "code",
   "execution_count": null,
   "metadata": {},
   "outputs": [
    {
     "name": "stdout",
     "output_type": "stream",
     "text": [
      "[[2]\n",
      " [2]\n",
      " [2]]\n",
      "********************\n",
      "[[0 4 1 4 3]\n",
      " [3 3 0 3 1]\n",
      " [1 3 2 2 0]]\n",
      "********************\n",
      "[[2 6 3 6 5]\n",
      " [5 5 2 5 3]\n",
      " [3 5 4 4 2]]\n"
     ]
    }
   ],
   "source": [
    "# 行数一样，列数不一样,但是有一个是1,可以进行运算(3,1)和(1,2)也可以\n",
    "a4 = np.random.randint(0,5,size=(3,1)) \n",
    "print(a4)\n",
    "print('*'*20)\n",
    "print(a2)\n",
    "print('*'*20)\n",
    "print(a4+a2)\n",
    "# 对后面的用1的那部分数据进行填充"
   ]
  },
  {
   "cell_type": "code",
   "execution_count": null,
   "metadata": {},
   "outputs": [],
   "source": []
  }
 ],
 "metadata": {
  "kernelspec": {
   "display_name": "lanqiao",
   "language": "python",
   "name": "python3"
  },
  "language_info": {
   "codemirror_mode": {
    "name": "ipython",
    "version": 3
   },
   "file_extension": ".py",
   "mimetype": "text/x-python",
   "name": "python",
   "nbconvert_exporter": "python",
   "pygments_lexer": "ipython3",
   "version": "3.8.20"
  }
 },
 "nbformat": 4,
 "nbformat_minor": 2
}
