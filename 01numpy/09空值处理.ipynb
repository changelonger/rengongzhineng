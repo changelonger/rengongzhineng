{
 "cells": [
  {
   "cell_type": "code",
   "execution_count": 27,
   "metadata": {},
   "outputs": [],
   "source": [
    "import numpy as np"
   ]
  },
  {
   "cell_type": "markdown",
   "metadata": {},
   "source": [
    "空值包括两种，一种是NAN,一种是NAF   \n",
    "1. NAN 不是一个数字，浮点型\n",
    "2. NAF 无穷大，浮点型"
   ]
  },
  {
   "cell_type": "code",
   "execution_count": 28,
   "metadata": {},
   "outputs": [
    {
     "name": "stdout",
     "output_type": "stream",
     "text": [
      "[[5 5 2 6 5]\n",
      " [6 6 1 4 2]\n",
      " [5 6 1 4 9]]\n"
     ]
    }
   ],
   "source": [
    "data = np.random.randint(0,10,size=(3,5)) \n",
    "print(data)"
   ]
  },
  {
   "cell_type": "code",
   "execution_count": 29,
   "metadata": {},
   "outputs": [
    {
     "name": "stdout",
     "output_type": "stream",
     "text": [
      "[[ 5. nan  2.  6.  5.]\n",
      " [ 6.  6.  1.  4.  2.]\n",
      " [ 5.  6.  1.  4.  9.]]\n"
     ]
    }
   ],
   "source": [
    "data = data.astype(np.float64)\n",
    "data[0][1] = np.NAN\n",
    "print(data)"
   ]
  },
  {
   "cell_type": "code",
   "execution_count": 30,
   "metadata": {},
   "outputs": [
    {
     "name": "stdout",
     "output_type": "stream",
     "text": [
      "False\n"
     ]
    }
   ],
   "source": [
    "# NAN和NAN不相等\n",
    "print(np.nan == np.nan)"
   ]
  },
  {
   "cell_type": "markdown",
   "metadata": {},
   "source": [
    "处理"
   ]
  },
  {
   "cell_type": "code",
   "execution_count": 31,
   "metadata": {},
   "outputs": [
    {
     "name": "stdout",
     "output_type": "stream",
     "text": [
      "[[ 5. nan  2.  6.  5.]\n",
      " [ 6.  6. nan  4.  2.]\n",
      " [ 5.  6.  1.  4.  9.]]\n"
     ]
    }
   ],
   "source": [
    "# 删除nan\n",
    "data[1,2] = np.NAN\n",
    "print(data)"
   ]
  },
  {
   "cell_type": "code",
   "execution_count": 32,
   "metadata": {},
   "outputs": [
    {
     "name": "stdout",
     "output_type": "stream",
     "text": [
      "[5. 2. 6. 5. 6. 6. 4. 2. 5. 6. 1. 4. 9.]\n"
     ]
    }
   ],
   "source": [
    "# 删除缺失值\n",
    "data = data[~np.isnan(data)]# nan不相等，所以用这个函数\n",
    "print(data) # "
   ]
  },
  {
   "cell_type": "code",
   "execution_count": null,
   "metadata": {},
   "outputs": [
    {
     "name": "stdout",
     "output_type": "stream",
     "text": [
      "[[0.93391054 0.82108325 0.05469921 0.64966623 0.41762978]\n",
      " [       nan 0.38084108 0.67861007 0.90642245 0.48502707]\n",
      " [0.58424768        nan 0.91562034 0.0937374  0.06404136]]\n",
      "------------------------------------------------------------\n",
      "(array([1, 2], dtype=int64), array([0, 1], dtype=int64))\n",
      "[1 2]\n",
      "[[0.93391054 0.82108325 0.05469921 0.64966623 0.41762978]]\n"
     ]
    }
   ],
   "source": [
    "data = np.random.random(size=(3,5)) \n",
    "data[[1,2],[0,1]] = np.NAN\n",
    "# 删除行\n",
    "print(data)\n",
    "print('-'*60)\n",
    "line = np.where(np.isnan(data))[0]# [0]是所有行\n",
    "datal = np.delete(data,line,axis = 0)\n",
    "print(datal)"
   ]
  },
  {
   "cell_type": "code",
   "execution_count": null,
   "metadata": {},
   "outputs": [],
   "source": []
  }
 ],
 "metadata": {
  "kernelspec": {
   "display_name": "lanqiao",
   "language": "python",
   "name": "python3"
  },
  "language_info": {
   "codemirror_mode": {
    "name": "ipython",
    "version": 3
   },
   "file_extension": ".py",
   "mimetype": "text/x-python",
   "name": "python",
   "nbconvert_exporter": "python",
   "pygments_lexer": "ipython3",
   "version": "3.8.20"
  }
 },
 "nbformat": 4,
 "nbformat_minor": 2
}
