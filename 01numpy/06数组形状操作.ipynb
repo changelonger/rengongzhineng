{
 "cells": [
  {
   "cell_type": "code",
   "execution_count": 24,
   "metadata": {},
   "outputs": [],
   "source": [
    "import numpy as np"
   ]
  },
  {
   "cell_type": "code",
   "execution_count": 25,
   "metadata": {},
   "outputs": [
    {
     "name": "stdout",
     "output_type": "stream",
     "text": [
      "[[1 3 6 0]\n",
      " [8 8 4 7]\n",
      " [1 6 1 5]]\n"
     ]
    }
   ],
   "source": [
    "a1 = np.random.randint(0,11,size=(3,4))\n",
    "print(a1)"
   ]
  },
  {
   "cell_type": "code",
   "execution_count": 26,
   "metadata": {},
   "outputs": [
    {
     "name": "stdout",
     "output_type": "stream",
     "text": [
      "[[1 3 6]\n",
      " [0 8 8]\n",
      " [4 7 1]\n",
      " [6 1 5]]\n"
     ]
    }
   ],
   "source": [
    "a1.resize(4,3) # 改变原数组\n",
    "print(a1)"
   ]
  },
  {
   "cell_type": "code",
   "execution_count": 27,
   "metadata": {},
   "outputs": [
    {
     "name": "stdout",
     "output_type": "stream",
     "text": [
      "[array([[2, 1],\n",
      "       [4, 2],\n",
      "       [2, 4]]), array([[3, 1],\n",
      "       [0, 1],\n",
      "       [3, 1]])]\n"
     ]
    }
   ],
   "source": [
    "# 数组切割\n",
    "a2 = np.random.randint(0,5,size=(3,4))\n",
    "a3 = np.hsplit(a2,2)\n",
    "print(a3) # 平局分隔成两个数组\n"
   ]
  },
  {
   "cell_type": "code",
   "execution_count": 28,
   "metadata": {},
   "outputs": [
    {
     "data": {
      "text/plain": [
       "[array([[2],\n",
       "        [4],\n",
       "        [2]]),\n",
       " array([[1],\n",
       "        [2],\n",
       "        [4]]),\n",
       " array([[3, 1],\n",
       "        [0, 1],\n",
       "        [3, 1]])]"
      ]
     },
     "execution_count": 28,
     "metadata": {},
     "output_type": "execute_result"
    }
   ],
   "source": [
    "np.hsplit(a2,(1,2)) # vsplit是按照行进行切割"
   ]
  },
  {
   "cell_type": "code",
   "execution_count": 29,
   "metadata": {},
   "outputs": [
    {
     "name": "stdout",
     "output_type": "stream",
     "text": [
      "[[2 1 3 1]\n",
      " [4 2 0 1]\n",
      " [2 4 3 1]]\n",
      "[[2 1 3 1]\n",
      " [4 2 0 1]\n",
      " [2 4 3 1]]\n"
     ]
    }
   ],
   "source": [
    "# 转置操作\n",
    "print(a2)\n",
    "a2.T # 不会改变原本的\n",
    "print(a2)"
   ]
  },
  {
   "cell_type": "code",
   "execution_count": null,
   "metadata": {},
   "outputs": [
    {
     "name": "stdout",
     "output_type": "stream",
     "text": [
      "[[100 100 100 100]\n",
      " [  3   8   7   1]\n",
      " [  6   8   1   5]]\n",
      "[[100   3   6]\n",
      " [100   8   8]\n",
      " [100   7   1]\n",
      " [100   1   5]]\n"
     ]
    }
   ],
   "source": [
    "a3 = a1.transpose()\n",
    "print(a3) # 改变会影响原数组\n",
    "a3[0]=100\n",
    "print(a1)\n"
   ]
  }
 ],
 "metadata": {
  "kernelspec": {
   "display_name": "lanqiao",
   "language": "python",
   "name": "python3"
  },
  "language_info": {
   "codemirror_mode": {
    "name": "ipython",
    "version": 3
   },
   "file_extension": ".py",
   "mimetype": "text/x-python",
   "name": "python",
   "nbconvert_exporter": "python",
   "pygments_lexer": "ipython3",
   "version": "3.8.20"
  }
 },
 "nbformat": 4,
 "nbformat_minor": 2
}
