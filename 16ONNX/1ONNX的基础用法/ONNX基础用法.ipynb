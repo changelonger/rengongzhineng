{
 "cells": [
  {
   "cell_type": "markdown",
   "metadata": {},
   "source": [
    "# ONNX 基础概念\n"
   ]
  },
  {
   "cell_type": "markdown",
   "metadata": {},
   "source": [
    "ONNX 是一个开源格式，旨在实现机器学习模型在各种框架之间的互操作性。它作为一个桥梁，使得在一个框架中构建的模型（如 TensorFlow、PyTorch 等）能够在另一个框架中使用，从而确保更广泛的兼容性和更便捷的部署。"
   ]
  },
  {
   "cell_type": "markdown",
   "metadata": {},
   "source": [
    "接下来，我们将对 ONNX 的基础概念进行介绍。ONNX 中的核心数据结构是 ModelProto，它组织了神经网络的结构和元数据。ONNX 的组成部分为：\n",
    "\n",
    "1. **模型（Model）**：ONNX 模型是完整的机器学习模型定义，包含计算图、权重、元数据等。它由一个或多个图（Graph）组成，通常只有一个主图。\n",
    "2. **图（Graph）**：图表示模型的计算流程，定义从输入到输出的整个计算路径。图包含所有的计算节点（Nodes）和它们之间的数据流。\n",
    "3. **节点（Nodes）**：节点是图中的基本计算单元，代表具体的操作（Operation）。节点通过操作符（Operator）执行计算，接收输入张量并生成输出张量（Tensors）。\n",
    "4. **操作符（Operators）**：操作符定义了节点执行的具体计算操作，如加法、卷积等，决定了节点如何处理输入张量生成输出张量。\n",
    "5. **张量（Tensors）**：张量是数据在 ONNX 模型中传递的形式，表示多维数组的数据结构，用于在节点之间传递数据。\n",
    "6. **初始值（Initializers）**：初始值是预设的常量张量，通常用于表示模型的权重或固定参数，在推理时作为常量输入给节点。\n",
    "7. **输入（Inputs）和输出（Outputs）**：输入代表模型接收的外部数据，输出是模型计算的结果。它们是图计算的起点和终点。\n",
    "8. **元数据（Metadata）**：元数据提供模型的额外信息，如作者、版本等，用于描述模型背景，不参与计算。"
   ]
  },
  {
   "cell_type": "markdown",
   "metadata": {},
   "source": [
    "# 加载模型"
   ]
  },
  {
   "cell_type": "code",
   "execution_count": 2,
   "metadata": {},
   "outputs": [
    {
     "name": "stderr",
     "output_type": "stream",
     "text": [
      "--2025-03-22 13:41:54--  https://labfile.oss.aliyuncs.com/courses/40981/model.onnx\n",
      "Resolving labfile.oss.aliyuncs.com (labfile.oss.aliyuncs.com)... 47.110.177.159\n",
      "Connecting to labfile.oss.aliyuncs.com (labfile.oss.aliyuncs.com)|47.110.177.159|:443... connected.\n",
      "HTTP request sent, awaiting response... 200 OK\n",
      "Length: 980596 (958K) [application/octet-stream]\n",
      "Saving to: 'model.onnx'\n",
      "\n",
      "     0K .......... .......... .......... .......... ..........  5% 16.2M 0s\n",
      "    50K .......... .......... .......... .......... .......... 10% 2.28M 0s\n",
      "   100K .......... .......... .......... .......... .......... 15% 2.08M 0s\n",
      "   150K .......... .......... .......... .......... .......... 20% 13.3M 0s\n",
      "   200K .......... .......... .......... .......... .......... 26% 3.07M 0s\n",
      "   250K .......... .......... .......... .......... .......... 31% 6.94M 0s\n",
      "   300K .......... .......... .......... .......... .......... 36% 12.7M 0s\n",
      "   350K .......... .......... .......... .......... .......... 41% 14.0M 0s\n",
      "   400K .......... .......... .......... .......... .......... 46% 10.7M 0s\n",
      "   450K .......... .......... .......... .......... .......... 52% 11.5M 0s\n",
      "   500K .......... .......... .......... .......... .......... 57% 5.98M 0s\n",
      "   550K .......... .......... .......... .......... .......... 62% 38.1M 0s\n",
      "   600K .......... .......... .......... .......... .......... 67% 10.7M 0s\n",
      "   650K .......... .......... .......... .......... .......... 73% 35.0M 0s\n",
      "   700K .......... .......... .......... .......... .......... 78% 11.7M 0s\n",
      "   750K .......... .......... .......... .......... .......... 83% 28.6M 0s\n",
      "   800K .......... .......... .......... .......... .......... 88% 41.7M 0s\n",
      "   850K .......... .......... .......... .......... .......... 93% 22.6M 0s\n",
      "   900K .......... .......... .......... .......... .......... 99% 8.47M 0s\n",
      "   950K .......                                               100%  118M=0.1s\n",
      "\n",
      "2025-03-22 13:41:54 (7.72 MB/s) - 'model.onnx' saved [980596/980596]\n",
      "\n"
     ]
    }
   ],
   "source": [
    "! wget https://labfile.oss.aliyuncs.com/courses/40981/model.onnx"
   ]
  },
  {
   "cell_type": "code",
   "execution_count": 3,
   "metadata": {},
   "outputs": [
    {
     "data": {
      "text/plain": [
       "onnx.onnx_ml_pb2.ModelProto"
      ]
     },
     "execution_count": 3,
     "metadata": {},
     "output_type": "execute_result"
    }
   ],
   "source": [
    "import onnx\n",
    "\n",
    "model = onnx.load(\"model.onnx\")\n",
    "type(model)"
   ]
  },
  {
   "cell_type": "markdown",
   "metadata": {},
   "source": [
    "# 模型可视化"
   ]
  },
  {
   "cell_type": "markdown",
   "metadata": {},
   "source": [
    "模型可视化对于理解复杂的神经网络结构非常有帮助，尤其是在 ONNX 格式下。通过模型可视化，开发者可以直观地观察神经网络的层次结构、每一层的输入输出张量形状、权重的分布情况，以及各层之间的连接关系。这不仅有助于调试模型，还能更好地理解模型的设计思路和计算流程。"
   ]
  },
  {
   "cell_type": "markdown",
   "metadata": {},
   "source": [
    "对于 ONNX 模型的可视化，有多种方式，最简单的是直接用 print 进行打印"
   ]
  },
  {
   "cell_type": "code",
   "execution_count": null,
   "metadata": {},
   "outputs": [],
   "source": [
    "print(model)"
   ]
  },
  {
   "cell_type": "markdown",
   "metadata": {},
   "source": [
    "打印输出的内容是一个 ModelProto 对象的字符串表示形式。这个字符串表示会包含模型的很多细节信息，前面介绍到的 ONNX 的组成部分，在其中都会展示。\n",
    "\n",
    "但这种方法打印的无关信息太多，同时还存在 raw_data: \"=p\\366<\\211\\341\\327\\2749\\... 这种以原始字节流形式存储的数据。由于这些数据直接存储为二进制，因此在打印时显示为乱码或特殊字符。\n",
    "\n",
    "通常，对模型可视化我们只关心模型的结构，那么只要可视化计算图的信息就可以了，我们先获取模型的计算图"
   ]
  },
  {
   "cell_type": "code",
   "execution_count": null,
   "metadata": {},
   "outputs": [],
   "source": [
    "model_graph = model.graph\n",
    "print(model_graph.input)\n",
    "print(model_graph.output)"
   ]
  },
  {
   "cell_type": "markdown",
   "metadata": {},
   "source": [
    "可以看到，模型的输入输出都是一个一维的列表，这意味着这个模型是个单输入，单输出的模型。\n",
    "\n",
    "输入的维度（shape）为 batch_size, 3, 224, 224 ， batch_size 是一个变量，意味着这个模型可以接受任意数量的图片，而 3, 224, 224 是常见的图片分类输入尺寸，分别对应图片的通道数、高度和宽度。\n",
    "\n",
    "输出维度为 batch_size, 100 ，意味着这是一个具有 100 个类别标签的模型。\n",
    "\n",
    "我们再来看模型的中间部分，也就是可视化所有的节点"
   ]
  },
  {
   "cell_type": "code",
   "execution_count": null,
   "metadata": {},
   "outputs": [],
   "source": [
    "for node in model_graph.node:\n",
    "    print(f\"Node name: {node.name}\")  # 节点名称\n",
    "    print(f\"Node operation: {node.op_type}\")  # 节点操作类型\n",
    "    print(f\"Node inputs: {node.input}\")  # 节点输入\n",
    "    print(f\"Node outputs: {node.output}\")  # 节点输出\n",
    "    print(\"\\n\")"
   ]
  },
  {
   "cell_type": "markdown",
   "metadata": {},
   "source": [
    "此外，除了以上的可视化方法，还有其他的第三方的库，可以更加方便地可视化查看模型结构。如 Netron，这是一款用于神经网络模型可视化的开源工具，可以直观地查看神经网络模型的结构、层次关系、参数信息和数据流，这对于理解和调试复杂的深度学习模型非常有帮助。"
   ]
  },
  {
   "cell_type": "code",
   "execution_count": null,
   "metadata": {},
   "outputs": [],
   "source": [
    "# ! netron model.onnx"
   ]
  },
  {
   "cell_type": "code",
   "execution_count": null,
   "metadata": {},
   "outputs": [],
   "source": []
  }
 ],
 "metadata": {
  "kernelspec": {
   "display_name": "d2l",
   "language": "python",
   "name": "python3"
  },
  "language_info": {
   "codemirror_mode": {
    "name": "ipython",
    "version": 3
   },
   "file_extension": ".py",
   "mimetype": "text/x-python",
   "name": "python",
   "nbconvert_exporter": "python",
   "pygments_lexer": "ipython3",
   "version": "3.9.21"
  }
 },
 "nbformat": 4,
 "nbformat_minor": 2
}
