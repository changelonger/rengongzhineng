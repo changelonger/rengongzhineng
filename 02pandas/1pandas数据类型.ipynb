{
 "cells": [
  {
   "cell_type": "markdown",
   "metadata": {},
   "source": [
    "# pandas"
   ]
  },
  {
   "cell_type": "markdown",
   "metadata": {},
   "source": [
    "Pandas 是非常著名的开源数据处理库，其基于 NumPy 开发，该工具是 Scipy 生态中为了解决数据分析任务而设计。Pandas 纳入了大量库和一些标准的数据模型，提供了高效地操作大型数据集所需的函数和方法。    \n",
    "\n",
    "特有的数据结构是 Pandas 的优势和核心。简单来讲，我们可以将任意格式的数据转换为 Pandas 的数据类型，并使用 Pandas 提供的一系列方法进行转换、操作，最终得到我们期望的结果。   \n",
    "\n",
    "所以，我们首先需要了解并熟悉 Pandas 支持的数据类型。    \n",
    "\n",
    "Pandas 的数据类型主要有以下几种，它们分别是：Series（一维数组），DataFrame（二维数组），Panel（三维数组），Panel4D（四维数组），PanelND（更多维数组）。其中 Series 和 DataFrame 应用的最为广泛，几乎占据了使用频率 90% 以上    "
   ]
  },
  {
   "cell_type": "code",
   "execution_count": 1,
   "metadata": {},
   "outputs": [],
   "source": [
    "import pandas as pd\n",
    "import numpy as np"
   ]
  },
  {
   "cell_type": "markdown",
   "metadata": {},
   "source": [
    "### Series\n",
    "`pandas.Series(data=None, index=None)`   \n",
    "其中，data 可以是字典，或者 NumPy 里的 ndarray 对象等。index 是数据索引，索引是 Pandas 数据结构中的一大特性，它主要的功能是帮助我们更快速地定位数据。   \n"
   ]
  },
  {
   "cell_type": "code",
   "execution_count": 2,
   "metadata": {},
   "outputs": [
    {
     "name": "stdout",
     "output_type": "stream",
     "text": [
      "a    10\n",
      "b    20\n",
      "c    30\n",
      "dtype: int64\n",
      "<class 'pandas.core.series.Series'>\n"
     ]
    }
   ],
   "source": [
    "s = pd.Series({'a': 10, 'b': 20, 'c': 30})\n",
    "print(s)\n",
    "print(type(s))"
   ]
  },
  {
   "cell_type": "code",
   "execution_count": 3,
   "metadata": {},
   "outputs": [
    {
     "data": {
      "text/plain": [
       "0    0.055890\n",
       "1    0.542810\n",
       "2   -1.278221\n",
       "3    1.366483\n",
       "4   -2.311717\n",
       "dtype: float64"
      ]
     },
     "execution_count": 3,
     "metadata": {},
     "output_type": "execute_result"
    }
   ],
   "source": [
    "s = pd.Series(np.random.randn(5))\n",
    "s"
   ]
  },
  {
   "cell_type": "markdown",
   "metadata": {},
   "source": [
    "### DataFrame\n",
    "**DataFrame** 是 **Pandas** 中最为常见、最重要且使用频率最高的数据结构。**DataFrame** 和平常的电子表格或 SQL 表结构相似。你可以把 **DataFrame** 看成是 **Series** 的扩展类型，它仿佛是由多个 **Series** 拼合而成。它和 **Series** 的直观区别在于，数据不但具有行索引，且具有列索引。\n",
    "`pandas.DataFrame(data=None, index=None, columns=None)`\n",
    "    \n",
    "区别于 Series，其增加了 columns 列索引。DataFrame 可以由以下多个类型的数据构建：   \n",
    "1. 一维数组、列表、字典或者 Series 字典。\n",
    "2. 二维或者结构化的 numpy.ndarray。\n",
    "3. 一个 Series 或者另一个 DataFrame。"
   ]
  },
  {
   "cell_type": "code",
   "execution_count": 4,
   "metadata": {},
   "outputs": [
    {
     "data": {
      "application/vnd.microsoft.datawrangler.viewer.v0+json": {
       "columns": [
        {
         "name": "index",
         "rawType": "int64",
         "type": "integer"
        },
        {
         "name": "one",
         "rawType": "int64",
         "type": "integer"
        },
        {
         "name": "two",
         "rawType": "int64",
         "type": "integer"
        }
       ],
       "conversionMethod": "pd.DataFrame",
       "ref": "5073d14c-0f06-4f9d-afc6-9c96c749117c",
       "rows": [
        [
         "0",
         "1",
         "4"
        ],
        [
         "1",
         "2",
         "5"
        ],
        [
         "2",
         "3",
         "6"
        ]
       ],
       "shape": {
        "columns": 2,
        "rows": 3
       }
      },
      "text/html": [
       "<div>\n",
       "<style scoped>\n",
       "    .dataframe tbody tr th:only-of-type {\n",
       "        vertical-align: middle;\n",
       "    }\n",
       "\n",
       "    .dataframe tbody tr th {\n",
       "        vertical-align: top;\n",
       "    }\n",
       "\n",
       "    .dataframe thead th {\n",
       "        text-align: right;\n",
       "    }\n",
       "</style>\n",
       "<table border=\"1\" class=\"dataframe\">\n",
       "  <thead>\n",
       "    <tr style=\"text-align: right;\">\n",
       "      <th></th>\n",
       "      <th>one</th>\n",
       "      <th>two</th>\n",
       "    </tr>\n",
       "  </thead>\n",
       "  <tbody>\n",
       "    <tr>\n",
       "      <th>0</th>\n",
       "      <td>1</td>\n",
       "      <td>4</td>\n",
       "    </tr>\n",
       "    <tr>\n",
       "      <th>1</th>\n",
       "      <td>2</td>\n",
       "      <td>5</td>\n",
       "    </tr>\n",
       "    <tr>\n",
       "      <th>2</th>\n",
       "      <td>3</td>\n",
       "      <td>6</td>\n",
       "    </tr>\n",
       "  </tbody>\n",
       "</table>\n",
       "</div>"
      ],
      "text/plain": [
       "   one  two\n",
       "0    1    4\n",
       "1    2    5\n",
       "2    3    6"
      ]
     },
     "execution_count": 4,
     "metadata": {},
     "output_type": "execute_result"
    }
   ],
   "source": [
    "# Series 组成的字典来构建 DataFrame。\n",
    "df = pd.DataFrame({'one':pd.Series([1,2,3]),'two':pd.Series([4,5,6])})\n",
    "df"
   ]
  },
  {
   "cell_type": "code",
   "execution_count": 5,
   "metadata": {},
   "outputs": [
    {
     "data": {
      "application/vnd.microsoft.datawrangler.viewer.v0+json": {
       "columns": [
        {
         "name": "index",
         "rawType": "int64",
         "type": "integer"
        },
        {
         "name": "one",
         "rawType": "int64",
         "type": "integer"
        },
        {
         "name": "two",
         "rawType": "int64",
         "type": "integer"
        }
       ],
       "conversionMethod": "pd.DataFrame",
       "ref": "31f3889e-d190-4f10-9075-f0b212864167",
       "rows": [
        [
         "0",
         "1",
         "4"
        ],
        [
         "1",
         "2",
         "5"
        ],
        [
         "2",
         "3",
         "6"
        ]
       ],
       "shape": {
        "columns": 2,
        "rows": 3
       }
      },
      "text/html": [
       "<div>\n",
       "<style scoped>\n",
       "    .dataframe tbody tr th:only-of-type {\n",
       "        vertical-align: middle;\n",
       "    }\n",
       "\n",
       "    .dataframe tbody tr th {\n",
       "        vertical-align: top;\n",
       "    }\n",
       "\n",
       "    .dataframe thead th {\n",
       "        text-align: right;\n",
       "    }\n",
       "</style>\n",
       "<table border=\"1\" class=\"dataframe\">\n",
       "  <thead>\n",
       "    <tr style=\"text-align: right;\">\n",
       "      <th></th>\n",
       "      <th>one</th>\n",
       "      <th>two</th>\n",
       "    </tr>\n",
       "  </thead>\n",
       "  <tbody>\n",
       "    <tr>\n",
       "      <th>0</th>\n",
       "      <td>1</td>\n",
       "      <td>4</td>\n",
       "    </tr>\n",
       "    <tr>\n",
       "      <th>1</th>\n",
       "      <td>2</td>\n",
       "      <td>5</td>\n",
       "    </tr>\n",
       "    <tr>\n",
       "      <th>2</th>\n",
       "      <td>3</td>\n",
       "      <td>6</td>\n",
       "    </tr>\n",
       "  </tbody>\n",
       "</table>\n",
       "</div>"
      ],
      "text/plain": [
       "   one  two\n",
       "0    1    4\n",
       "1    2    5\n",
       "2    3    6"
      ]
     },
     "execution_count": 5,
     "metadata": {},
     "output_type": "execute_result"
    }
   ],
   "source": [
    "\n",
    "df = pd.DataFrame({'one': [1, 2, 3],\n",
    "                   'two': [4, 5, 6]})\n",
    "df"
   ]
  },
  {
   "cell_type": "code",
   "execution_count": 6,
   "metadata": {},
   "outputs": [
    {
     "data": {
      "application/vnd.microsoft.datawrangler.viewer.v0+json": {
       "columns": [
        {
         "name": "index",
         "rawType": "int64",
         "type": "integer"
        },
        {
         "name": "one",
         "rawType": "int64",
         "type": "integer"
        },
        {
         "name": "two",
         "rawType": "int64",
         "type": "integer"
        }
       ],
       "conversionMethod": "pd.DataFrame",
       "ref": "f0848687-1d0e-4e41-ac02-5fafb4eee26e",
       "rows": [
        [
         "0",
         "1",
         "4"
        ],
        [
         "1",
         "2",
         "5"
        ],
        [
         "2",
         "3",
         "6"
        ]
       ],
       "shape": {
        "columns": 2,
        "rows": 3
       }
      },
      "text/html": [
       "<div>\n",
       "<style scoped>\n",
       "    .dataframe tbody tr th:only-of-type {\n",
       "        vertical-align: middle;\n",
       "    }\n",
       "\n",
       "    .dataframe tbody tr th {\n",
       "        vertical-align: top;\n",
       "    }\n",
       "\n",
       "    .dataframe thead th {\n",
       "        text-align: right;\n",
       "    }\n",
       "</style>\n",
       "<table border=\"1\" class=\"dataframe\">\n",
       "  <thead>\n",
       "    <tr style=\"text-align: right;\">\n",
       "      <th></th>\n",
       "      <th>one</th>\n",
       "      <th>two</th>\n",
       "    </tr>\n",
       "  </thead>\n",
       "  <tbody>\n",
       "    <tr>\n",
       "      <th>0</th>\n",
       "      <td>1</td>\n",
       "      <td>4</td>\n",
       "    </tr>\n",
       "    <tr>\n",
       "      <th>1</th>\n",
       "      <td>2</td>\n",
       "      <td>5</td>\n",
       "    </tr>\n",
       "    <tr>\n",
       "      <th>2</th>\n",
       "      <td>3</td>\n",
       "      <td>6</td>\n",
       "    </tr>\n",
       "  </tbody>\n",
       "</table>\n",
       "</div>"
      ],
      "text/plain": [
       "   one  two\n",
       "0    1    4\n",
       "1    2    5\n",
       "2    3    6"
      ]
     },
     "execution_count": 6,
     "metadata": {},
     "output_type": "execute_result"
    }
   ],
   "source": [
    "df = pd.DataFrame([{'one': 1, 'two': 4},\n",
    "                   {'one': 2, 'two': 5},\n",
    "                   {'one': 3, 'two': 6}])\n",
    "df"
   ]
  },
  {
   "cell_type": "code",
   "execution_count": 7,
   "metadata": {},
   "outputs": [
    {
     "data": {
      "application/vnd.microsoft.datawrangler.viewer.v0+json": {
       "columns": [
        {
         "name": "index",
         "rawType": "int64",
         "type": "integer"
        },
        {
         "name": "0",
         "rawType": "float64",
         "type": "float"
        },
        {
         "name": "1",
         "rawType": "float64",
         "type": "float"
        }
       ],
       "conversionMethod": "pd.DataFrame",
       "ref": "635c965f-2541-47db-8292-1fc5a578ffff",
       "rows": [
        [
         "0",
         "0.41845701719146744",
         "0.06729036302212899"
        ],
        [
         "1",
         "0.9847295077851348",
         "0.9923685718981166"
        ],
        [
         "2",
         "0.16179215286522441",
         "0.15711934281514361"
        ],
        [
         "3",
         "0.8827241552768657",
         "0.37974442220390503"
        ]
       ],
       "shape": {
        "columns": 2,
        "rows": 4
       }
      },
      "text/html": [
       "<div>\n",
       "<style scoped>\n",
       "    .dataframe tbody tr th:only-of-type {\n",
       "        vertical-align: middle;\n",
       "    }\n",
       "\n",
       "    .dataframe tbody tr th {\n",
       "        vertical-align: top;\n",
       "    }\n",
       "\n",
       "    .dataframe thead th {\n",
       "        text-align: right;\n",
       "    }\n",
       "</style>\n",
       "<table border=\"1\" class=\"dataframe\">\n",
       "  <thead>\n",
       "    <tr style=\"text-align: right;\">\n",
       "      <th></th>\n",
       "      <th>0</th>\n",
       "      <th>1</th>\n",
       "    </tr>\n",
       "  </thead>\n",
       "  <tbody>\n",
       "    <tr>\n",
       "      <th>0</th>\n",
       "      <td>0.418457</td>\n",
       "      <td>0.067290</td>\n",
       "    </tr>\n",
       "    <tr>\n",
       "      <th>1</th>\n",
       "      <td>0.984730</td>\n",
       "      <td>0.992369</td>\n",
       "    </tr>\n",
       "    <tr>\n",
       "      <th>2</th>\n",
       "      <td>0.161792</td>\n",
       "      <td>0.157119</td>\n",
       "    </tr>\n",
       "    <tr>\n",
       "      <th>3</th>\n",
       "      <td>0.882724</td>\n",
       "      <td>0.379744</td>\n",
       "    </tr>\n",
       "  </tbody>\n",
       "</table>\n",
       "</div>"
      ],
      "text/plain": [
       "          0         1\n",
       "0  0.418457  0.067290\n",
       "1  0.984730  0.992369\n",
       "2  0.161792  0.157119\n",
       "3  0.882724  0.379744"
      ]
     },
     "execution_count": 7,
     "metadata": {},
     "output_type": "execute_result"
    }
   ],
   "source": [
    "df = pd.DataFrame(np.random.random((4,2)))\n",
    "df"
   ]
  },
  {
   "cell_type": "markdown",
   "metadata": {},
   "source": [
    "至此，你应该已经清楚了 Pandas 常用的 Series 和 DataFrame 数据类型。Series 实际上可以被初略看出是只有 1 列数据的 DataFrame。当然，这个说法不严谨，二者的核心区别仍然是 Series 没有列索引。你可以观察如下所示由 NumPy 一维随机数组生成的 Series 和 DataFrame。"
   ]
  },
  {
   "cell_type": "code",
   "execution_count": 8,
   "metadata": {},
   "outputs": [
    {
     "data": {
      "text/plain": [
       "0    2\n",
       "1    2\n",
       "2    0\n",
       "3    3\n",
       "4    4\n",
       "dtype: int32"
      ]
     },
     "execution_count": 8,
     "metadata": {},
     "output_type": "execute_result"
    }
   ],
   "source": [
    "pd.Series(np.random.randint(5, size=(5,)))"
   ]
  },
  {
   "cell_type": "code",
   "execution_count": 9,
   "metadata": {},
   "outputs": [
    {
     "data": {
      "application/vnd.microsoft.datawrangler.viewer.v0+json": {
       "columns": [
        {
         "name": "index",
         "rawType": "int64",
         "type": "integer"
        },
        {
         "name": "0",
         "rawType": "int32",
         "type": "integer"
        }
       ],
       "conversionMethod": "pd.DataFrame",
       "ref": "bc1d2461-a4c3-4223-aac4-e74f99116836",
       "rows": [
        [
         "0",
         "3"
        ],
        [
         "1",
         "4"
        ],
        [
         "2",
         "4"
        ],
        [
         "3",
         "1"
        ],
        [
         "4",
         "0"
        ]
       ],
       "shape": {
        "columns": 1,
        "rows": 5
       }
      },
      "text/html": [
       "<div>\n",
       "<style scoped>\n",
       "    .dataframe tbody tr th:only-of-type {\n",
       "        vertical-align: middle;\n",
       "    }\n",
       "\n",
       "    .dataframe tbody tr th {\n",
       "        vertical-align: top;\n",
       "    }\n",
       "\n",
       "    .dataframe thead th {\n",
       "        text-align: right;\n",
       "    }\n",
       "</style>\n",
       "<table border=\"1\" class=\"dataframe\">\n",
       "  <thead>\n",
       "    <tr style=\"text-align: right;\">\n",
       "      <th></th>\n",
       "      <th>0</th>\n",
       "    </tr>\n",
       "  </thead>\n",
       "  <tbody>\n",
       "    <tr>\n",
       "      <th>0</th>\n",
       "      <td>3</td>\n",
       "    </tr>\n",
       "    <tr>\n",
       "      <th>1</th>\n",
       "      <td>4</td>\n",
       "    </tr>\n",
       "    <tr>\n",
       "      <th>2</th>\n",
       "      <td>4</td>\n",
       "    </tr>\n",
       "    <tr>\n",
       "      <th>3</th>\n",
       "      <td>1</td>\n",
       "    </tr>\n",
       "    <tr>\n",
       "      <th>4</th>\n",
       "      <td>0</td>\n",
       "    </tr>\n",
       "  </tbody>\n",
       "</table>\n",
       "</div>"
      ],
      "text/plain": [
       "   0\n",
       "0  3\n",
       "1  4\n",
       "2  4\n",
       "3  1\n",
       "4  0"
      ]
     },
     "execution_count": 9,
     "metadata": {},
     "output_type": "execute_result"
    }
   ],
   "source": [
    "pd.DataFrame(np.random.randint(5, size=(5,)))"
   ]
  },
  {
   "cell_type": "markdown",
   "metadata": {},
   "source": [
    "# 数据读取"
   ]
  },
  {
   "cell_type": "code",
   "execution_count": 10,
   "metadata": {},
   "outputs": [],
   "source": [
    "import numpy as np\n",
    "import pandas as pd"
   ]
  },
  {
   "cell_type": "markdown",
   "metadata": {},
   "source": [
    "我们想要使用 Pandas 来分析数据，那么首先需要读取数据。大多数情况下，数据都来源于外部的数据文件或者数据库。Pandas 提供了一系列的方法来读取外部数据，非常全面。下面，我们以最常用的 CSV 数据文件为例进行介绍。    "
   ]
  },
  {
   "cell_type": "markdown",
   "metadata": {},
   "source": [
    "读取数据 CSV 文件的方法是 pandas.read_csv()，你可以直接传入一个相对路径，或者是网络 URL。"
   ]
  },
  {
   "cell_type": "code",
   "execution_count": 11,
   "metadata": {},
   "outputs": [
    {
     "data": {
      "application/vnd.microsoft.datawrangler.viewer.v0+json": {
       "columns": [
        {
         "name": "index",
         "rawType": "int64",
         "type": "integer"
        },
        {
         "name": "Zip Code",
         "rawType": "int64",
         "type": "integer"
        },
        {
         "name": "Total Population",
         "rawType": "int64",
         "type": "integer"
        },
        {
         "name": "Median Age",
         "rawType": "float64",
         "type": "float"
        },
        {
         "name": "Total Males",
         "rawType": "int64",
         "type": "integer"
        },
        {
         "name": "Total Females",
         "rawType": "int64",
         "type": "integer"
        },
        {
         "name": "Total Households",
         "rawType": "int64",
         "type": "integer"
        },
        {
         "name": "Average Household Size",
         "rawType": "float64",
         "type": "float"
        }
       ],
       "conversionMethod": "pd.DataFrame",
       "ref": "0fb93cf2-8175-46d8-ba37-e2f25d49ba8d",
       "rows": [
        [
         "0",
         "91371",
         "1",
         "73.5",
         "0",
         "1",
         "1",
         "1.0"
        ],
        [
         "1",
         "90001",
         "57110",
         "26.6",
         "28468",
         "28642",
         "12971",
         "4.4"
        ],
        [
         "2",
         "90002",
         "51223",
         "25.5",
         "24876",
         "26347",
         "11731",
         "4.36"
        ],
        [
         "3",
         "90003",
         "66266",
         "26.3",
         "32631",
         "33635",
         "15642",
         "4.22"
        ],
        [
         "4",
         "90004",
         "62180",
         "34.8",
         "31302",
         "30878",
         "22547",
         "2.73"
        ],
        [
         "5",
         "90005",
         "37681",
         "33.9",
         "19299",
         "18382",
         "15044",
         "2.5"
        ],
        [
         "6",
         "90006",
         "59185",
         "32.4",
         "30254",
         "28931",
         "18617",
         "3.13"
        ],
        [
         "7",
         "90007",
         "40920",
         "24.0",
         "20915",
         "20005",
         "11944",
         "3.0"
        ],
        [
         "8",
         "90008",
         "32327",
         "39.7",
         "14477",
         "17850",
         "13841",
         "2.33"
        ],
        [
         "9",
         "90010",
         "3800",
         "37.8",
         "1874",
         "1926",
         "2014",
         "1.87"
        ],
        [
         "10",
         "90011",
         "103892",
         "26.2",
         "52794",
         "51098",
         "22168",
         "4.67"
        ],
        [
         "11",
         "90012",
         "31103",
         "36.3",
         "19493",
         "11610",
         "10327",
         "2.12"
        ],
        [
         "12",
         "90013",
         "11772",
         "44.6",
         "7629",
         "4143",
         "6416",
         "1.26"
        ],
        [
         "13",
         "90014",
         "7005",
         "44.8",
         "4471",
         "2534",
         "4109",
         "1.34"
        ],
        [
         "14",
         "90015",
         "18986",
         "31.3",
         "9833",
         "9153",
         "7420",
         "2.45"
        ],
        [
         "15",
         "90016",
         "47596",
         "33.9",
         "22778",
         "24818",
         "16145",
         "2.93"
        ],
        [
         "16",
         "90017",
         "23768",
         "29.4",
         "12818",
         "10950",
         "9338",
         "2.53"
        ],
        [
         "17",
         "90018",
         "49310",
         "33.2",
         "23770",
         "25540",
         "15493",
         "3.12"
        ],
        [
         "18",
         "90019",
         "64458",
         "35.8",
         "31442",
         "33016",
         "23344",
         "2.7"
        ],
        [
         "19",
         "90020",
         "38967",
         "34.6",
         "19381",
         "19586",
         "16514",
         "2.35"
        ],
        [
         "20",
         "90021",
         "3951",
         "44.3",
         "2790",
         "1161",
         "1561",
         "1.57"
        ],
        [
         "21",
         "90022",
         "67179",
         "29.8",
         "33216",
         "33963",
         "17023",
         "3.94"
        ],
        [
         "22",
         "90023",
         "45903",
         "28.4",
         "23037",
         "22866",
         "10727",
         "4.26"
        ],
        [
         "23",
         "90024",
         "47452",
         "23.6",
         "22248",
         "25204",
         "17903",
         "2.03"
        ],
        [
         "24",
         "90025",
         "42147",
         "34.7",
         "20859",
         "21288",
         "21228",
         "1.97"
        ],
        [
         "25",
         "90026",
         "67869",
         "34.0",
         "34515",
         "33354",
         "24956",
         "2.68"
        ],
        [
         "26",
         "90027",
         "45151",
         "38.3",
         "22362",
         "22789",
         "21929",
         "1.99"
        ],
        [
         "27",
         "90028",
         "28714",
         "34.0",
         "16056",
         "12658",
         "14964",
         "1.78"
        ],
        [
         "28",
         "90029",
         "38617",
         "34.6",
         "19575",
         "19042",
         "13883",
         "2.7"
        ],
        [
         "29",
         "90031",
         "39316",
         "33.5",
         "19546",
         "19770",
         "11156",
         "3.49"
        ],
        [
         "30",
         "90032",
         "45786",
         "32.4",
         "22564",
         "23222",
         "12765",
         "3.52"
        ],
        [
         "31",
         "90033",
         "48852",
         "29.2",
         "24425",
         "24427",
         "12924",
         "3.66"
        ],
        [
         "32",
         "90034",
         "57964",
         "32.8",
         "28828",
         "29136",
         "25592",
         "2.23"
        ],
        [
         "33",
         "90035",
         "28418",
         "37.5",
         "13326",
         "15092",
         "12814",
         "2.19"
        ],
        [
         "34",
         "90036",
         "36865",
         "33.9",
         "17914",
         "18951",
         "18646",
         "1.96"
        ],
        [
         "35",
         "90037",
         "62276",
         "28.8",
         "31187",
         "31089",
         "15869",
         "3.85"
        ],
        [
         "36",
         "90038",
         "28917",
         "33.1",
         "15383",
         "13534",
         "11928",
         "2.41"
        ],
        [
         "37",
         "90039",
         "28514",
         "38.8",
         "14383",
         "14131",
         "11436",
         "2.47"
        ],
        [
         "38",
         "90040",
         "12520",
         "31.2",
         "6129",
         "6391",
         "3317",
         "3.75"
        ],
        [
         "39",
         "90041",
         "27425",
         "39.0",
         "13212",
         "14213",
         "9513",
         "2.71"
        ],
        [
         "40",
         "90042",
         "62430",
         "33.6",
         "30836",
         "31594",
         "19892",
         "3.11"
        ],
        [
         "41",
         "90043",
         "44789",
         "38.7",
         "20561",
         "24228",
         "16075",
         "2.76"
        ],
        [
         "42",
         "90044",
         "89779",
         "28.6",
         "43128",
         "46651",
         "25144",
         "3.55"
        ],
        [
         "43",
         "90045",
         "39480",
         "35.6",
         "18958",
         "20522",
         "15224",
         "2.37"
        ],
        [
         "44",
         "90046",
         "48581",
         "38.5",
         "25854",
         "22727",
         "28534",
         "1.69"
        ],
        [
         "45",
         "90047",
         "48606",
         "36.2",
         "22129",
         "26477",
         "16168",
         "2.99"
        ],
        [
         "46",
         "90048",
         "21397",
         "39.2",
         "10132",
         "11265",
         "11821",
         "1.77"
        ],
        [
         "47",
         "90049",
         "35482",
         "41.3",
         "16359",
         "19123",
         "16657",
         "2.09"
        ],
        [
         "48",
         "90056",
         "7827",
         "48.4",
         "3436",
         "4391",
         "3371",
         "2.32"
        ],
        [
         "49",
         "90057",
         "44998",
         "31.2",
         "24300",
         "20698",
         "15658",
         "2.81"
        ]
       ],
       "shape": {
        "columns": 7,
        "rows": 319
       }
      },
      "text/html": [
       "<div>\n",
       "<style scoped>\n",
       "    .dataframe tbody tr th:only-of-type {\n",
       "        vertical-align: middle;\n",
       "    }\n",
       "\n",
       "    .dataframe tbody tr th {\n",
       "        vertical-align: top;\n",
       "    }\n",
       "\n",
       "    .dataframe thead th {\n",
       "        text-align: right;\n",
       "    }\n",
       "</style>\n",
       "<table border=\"1\" class=\"dataframe\">\n",
       "  <thead>\n",
       "    <tr style=\"text-align: right;\">\n",
       "      <th></th>\n",
       "      <th>Zip Code</th>\n",
       "      <th>Total Population</th>\n",
       "      <th>Median Age</th>\n",
       "      <th>Total Males</th>\n",
       "      <th>Total Females</th>\n",
       "      <th>Total Households</th>\n",
       "      <th>Average Household Size</th>\n",
       "    </tr>\n",
       "  </thead>\n",
       "  <tbody>\n",
       "    <tr>\n",
       "      <th>0</th>\n",
       "      <td>91371</td>\n",
       "      <td>1</td>\n",
       "      <td>73.5</td>\n",
       "      <td>0</td>\n",
       "      <td>1</td>\n",
       "      <td>1</td>\n",
       "      <td>1.00</td>\n",
       "    </tr>\n",
       "    <tr>\n",
       "      <th>1</th>\n",
       "      <td>90001</td>\n",
       "      <td>57110</td>\n",
       "      <td>26.6</td>\n",
       "      <td>28468</td>\n",
       "      <td>28642</td>\n",
       "      <td>12971</td>\n",
       "      <td>4.40</td>\n",
       "    </tr>\n",
       "    <tr>\n",
       "      <th>2</th>\n",
       "      <td>90002</td>\n",
       "      <td>51223</td>\n",
       "      <td>25.5</td>\n",
       "      <td>24876</td>\n",
       "      <td>26347</td>\n",
       "      <td>11731</td>\n",
       "      <td>4.36</td>\n",
       "    </tr>\n",
       "    <tr>\n",
       "      <th>3</th>\n",
       "      <td>90003</td>\n",
       "      <td>66266</td>\n",
       "      <td>26.3</td>\n",
       "      <td>32631</td>\n",
       "      <td>33635</td>\n",
       "      <td>15642</td>\n",
       "      <td>4.22</td>\n",
       "    </tr>\n",
       "    <tr>\n",
       "      <th>4</th>\n",
       "      <td>90004</td>\n",
       "      <td>62180</td>\n",
       "      <td>34.8</td>\n",
       "      <td>31302</td>\n",
       "      <td>30878</td>\n",
       "      <td>22547</td>\n",
       "      <td>2.73</td>\n",
       "    </tr>\n",
       "    <tr>\n",
       "      <th>...</th>\n",
       "      <td>...</td>\n",
       "      <td>...</td>\n",
       "      <td>...</td>\n",
       "      <td>...</td>\n",
       "      <td>...</td>\n",
       "      <td>...</td>\n",
       "      <td>...</td>\n",
       "    </tr>\n",
       "    <tr>\n",
       "      <th>314</th>\n",
       "      <td>93552</td>\n",
       "      <td>38158</td>\n",
       "      <td>28.4</td>\n",
       "      <td>18711</td>\n",
       "      <td>19447</td>\n",
       "      <td>9690</td>\n",
       "      <td>3.93</td>\n",
       "    </tr>\n",
       "    <tr>\n",
       "      <th>315</th>\n",
       "      <td>93553</td>\n",
       "      <td>2138</td>\n",
       "      <td>43.3</td>\n",
       "      <td>1121</td>\n",
       "      <td>1017</td>\n",
       "      <td>816</td>\n",
       "      <td>2.62</td>\n",
       "    </tr>\n",
       "    <tr>\n",
       "      <th>316</th>\n",
       "      <td>93560</td>\n",
       "      <td>18910</td>\n",
       "      <td>32.4</td>\n",
       "      <td>9491</td>\n",
       "      <td>9419</td>\n",
       "      <td>6469</td>\n",
       "      <td>2.92</td>\n",
       "    </tr>\n",
       "    <tr>\n",
       "      <th>317</th>\n",
       "      <td>93563</td>\n",
       "      <td>388</td>\n",
       "      <td>44.5</td>\n",
       "      <td>263</td>\n",
       "      <td>125</td>\n",
       "      <td>103</td>\n",
       "      <td>2.53</td>\n",
       "    </tr>\n",
       "    <tr>\n",
       "      <th>318</th>\n",
       "      <td>93591</td>\n",
       "      <td>7285</td>\n",
       "      <td>30.9</td>\n",
       "      <td>3653</td>\n",
       "      <td>3632</td>\n",
       "      <td>1982</td>\n",
       "      <td>3.67</td>\n",
       "    </tr>\n",
       "  </tbody>\n",
       "</table>\n",
       "<p>319 rows × 7 columns</p>\n",
       "</div>"
      ],
      "text/plain": [
       "     Zip Code  Total Population  Median Age  Total Males  Total Females  \\\n",
       "0       91371                 1        73.5            0              1   \n",
       "1       90001             57110        26.6        28468          28642   \n",
       "2       90002             51223        25.5        24876          26347   \n",
       "3       90003             66266        26.3        32631          33635   \n",
       "4       90004             62180        34.8        31302          30878   \n",
       "..        ...               ...         ...          ...            ...   \n",
       "314     93552             38158        28.4        18711          19447   \n",
       "315     93553              2138        43.3         1121           1017   \n",
       "316     93560             18910        32.4         9491           9419   \n",
       "317     93563               388        44.5          263            125   \n",
       "318     93591              7285        30.9         3653           3632   \n",
       "\n",
       "     Total Households  Average Household Size  \n",
       "0                   1                    1.00  \n",
       "1               12971                    4.40  \n",
       "2               11731                    4.36  \n",
       "3               15642                    4.22  \n",
       "4               22547                    2.73  \n",
       "..                ...                     ...  \n",
       "314              9690                    3.93  \n",
       "315               816                    2.62  \n",
       "316              6469                    2.92  \n",
       "317               103                    2.53  \n",
       "318              1982                    3.67  \n",
       "\n",
       "[319 rows x 7 columns]"
      ]
     },
     "execution_count": 11,
     "metadata": {},
     "output_type": "execute_result"
    }
   ],
   "source": [
    "df = pd.read_csv(\"https://labfile.oss.aliyuncs.com/courses/906/los_census.csv\")\n",
    "df"
   ]
  },
  {
   "cell_type": "code",
   "execution_count": 12,
   "metadata": {},
   "outputs": [
    {
     "data": {
      "application/vnd.microsoft.datawrangler.viewer.v0+json": {
       "columns": [
        {
         "name": "index",
         "rawType": "int64",
         "type": "integer"
        },
        {
         "name": "Zip Code",
         "rawType": "int64",
         "type": "integer"
        },
        {
         "name": "Total Population",
         "rawType": "int64",
         "type": "integer"
        },
        {
         "name": "Median Age",
         "rawType": "float64",
         "type": "float"
        },
        {
         "name": "Total Males",
         "rawType": "int64",
         "type": "integer"
        },
        {
         "name": "Total Females",
         "rawType": "int64",
         "type": "integer"
        },
        {
         "name": "Total Households",
         "rawType": "int64",
         "type": "integer"
        },
        {
         "name": "Average Household Size",
         "rawType": "float64",
         "type": "float"
        }
       ],
       "conversionMethod": "pd.DataFrame",
       "ref": "0406ba66-0e77-4f97-8719-cbbba737f862",
       "rows": [
        [
         "0",
         "91371",
         "1",
         "73.5",
         "0",
         "1",
         "1",
         "1.0"
        ],
        [
         "1",
         "90001",
         "57110",
         "26.6",
         "28468",
         "28642",
         "12971",
         "4.4"
        ],
        [
         "2",
         "90002",
         "51223",
         "25.5",
         "24876",
         "26347",
         "11731",
         "4.36"
        ],
        [
         "3",
         "90003",
         "66266",
         "26.3",
         "32631",
         "33635",
         "15642",
         "4.22"
        ],
        [
         "4",
         "90004",
         "62180",
         "34.8",
         "31302",
         "30878",
         "22547",
         "2.73"
        ],
        [
         "5",
         "90005",
         "37681",
         "33.9",
         "19299",
         "18382",
         "15044",
         "2.5"
        ]
       ],
       "shape": {
        "columns": 7,
        "rows": 6
       }
      },
      "text/html": [
       "<div>\n",
       "<style scoped>\n",
       "    .dataframe tbody tr th:only-of-type {\n",
       "        vertical-align: middle;\n",
       "    }\n",
       "\n",
       "    .dataframe tbody tr th {\n",
       "        vertical-align: top;\n",
       "    }\n",
       "\n",
       "    .dataframe thead th {\n",
       "        text-align: right;\n",
       "    }\n",
       "</style>\n",
       "<table border=\"1\" class=\"dataframe\">\n",
       "  <thead>\n",
       "    <tr style=\"text-align: right;\">\n",
       "      <th></th>\n",
       "      <th>Zip Code</th>\n",
       "      <th>Total Population</th>\n",
       "      <th>Median Age</th>\n",
       "      <th>Total Males</th>\n",
       "      <th>Total Females</th>\n",
       "      <th>Total Households</th>\n",
       "      <th>Average Household Size</th>\n",
       "    </tr>\n",
       "  </thead>\n",
       "  <tbody>\n",
       "    <tr>\n",
       "      <th>0</th>\n",
       "      <td>91371</td>\n",
       "      <td>1</td>\n",
       "      <td>73.5</td>\n",
       "      <td>0</td>\n",
       "      <td>1</td>\n",
       "      <td>1</td>\n",
       "      <td>1.00</td>\n",
       "    </tr>\n",
       "    <tr>\n",
       "      <th>1</th>\n",
       "      <td>90001</td>\n",
       "      <td>57110</td>\n",
       "      <td>26.6</td>\n",
       "      <td>28468</td>\n",
       "      <td>28642</td>\n",
       "      <td>12971</td>\n",
       "      <td>4.40</td>\n",
       "    </tr>\n",
       "    <tr>\n",
       "      <th>2</th>\n",
       "      <td>90002</td>\n",
       "      <td>51223</td>\n",
       "      <td>25.5</td>\n",
       "      <td>24876</td>\n",
       "      <td>26347</td>\n",
       "      <td>11731</td>\n",
       "      <td>4.36</td>\n",
       "    </tr>\n",
       "    <tr>\n",
       "      <th>3</th>\n",
       "      <td>90003</td>\n",
       "      <td>66266</td>\n",
       "      <td>26.3</td>\n",
       "      <td>32631</td>\n",
       "      <td>33635</td>\n",
       "      <td>15642</td>\n",
       "      <td>4.22</td>\n",
       "    </tr>\n",
       "    <tr>\n",
       "      <th>4</th>\n",
       "      <td>90004</td>\n",
       "      <td>62180</td>\n",
       "      <td>34.8</td>\n",
       "      <td>31302</td>\n",
       "      <td>30878</td>\n",
       "      <td>22547</td>\n",
       "      <td>2.73</td>\n",
       "    </tr>\n",
       "    <tr>\n",
       "      <th>5</th>\n",
       "      <td>90005</td>\n",
       "      <td>37681</td>\n",
       "      <td>33.9</td>\n",
       "      <td>19299</td>\n",
       "      <td>18382</td>\n",
       "      <td>15044</td>\n",
       "      <td>2.50</td>\n",
       "    </tr>\n",
       "  </tbody>\n",
       "</table>\n",
       "</div>"
      ],
      "text/plain": [
       "   Zip Code  Total Population  Median Age  Total Males  Total Females  \\\n",
       "0     91371                 1        73.5            0              1   \n",
       "1     90001             57110        26.6        28468          28642   \n",
       "2     90002             51223        25.5        24876          26347   \n",
       "3     90003             66266        26.3        32631          33635   \n",
       "4     90004             62180        34.8        31302          30878   \n",
       "5     90005             37681        33.9        19299          18382   \n",
       "\n",
       "   Total Households  Average Household Size  \n",
       "0                 1                    1.00  \n",
       "1             12971                    4.40  \n",
       "2             11731                    4.36  \n",
       "3             15642                    4.22  \n",
       "4             22547                    2.73  \n",
       "5             15044                    2.50  "
      ]
     },
     "execution_count": 12,
     "metadata": {},
     "output_type": "execute_result"
    }
   ],
   "source": [
    "df.head(6) # 默认前五条"
   ]
  },
  {
   "cell_type": "code",
   "execution_count": 13,
   "metadata": {},
   "outputs": [
    {
     "data": {
      "application/vnd.microsoft.datawrangler.viewer.v0+json": {
       "columns": [
        {
         "name": "index",
         "rawType": "int64",
         "type": "integer"
        },
        {
         "name": "Zip Code",
         "rawType": "int64",
         "type": "integer"
        },
        {
         "name": "Total Population",
         "rawType": "int64",
         "type": "integer"
        },
        {
         "name": "Median Age",
         "rawType": "float64",
         "type": "float"
        },
        {
         "name": "Total Males",
         "rawType": "int64",
         "type": "integer"
        },
        {
         "name": "Total Females",
         "rawType": "int64",
         "type": "integer"
        },
        {
         "name": "Total Households",
         "rawType": "int64",
         "type": "integer"
        },
        {
         "name": "Average Household Size",
         "rawType": "float64",
         "type": "float"
        }
       ],
       "conversionMethod": "pd.DataFrame",
       "ref": "3fdb4247-cbe1-4fe2-b367-e3059a7f123d",
       "rows": [
        [
         "312",
         "93550",
         "74929",
         "27.5",
         "36414",
         "38515",
         "20864",
         "3.58"
        ],
        [
         "313",
         "93551",
         "50798",
         "37.0",
         "25056",
         "25742",
         "15963",
         "3.18"
        ],
        [
         "314",
         "93552",
         "38158",
         "28.4",
         "18711",
         "19447",
         "9690",
         "3.93"
        ],
        [
         "315",
         "93553",
         "2138",
         "43.3",
         "1121",
         "1017",
         "816",
         "2.62"
        ],
        [
         "316",
         "93560",
         "18910",
         "32.4",
         "9491",
         "9419",
         "6469",
         "2.92"
        ],
        [
         "317",
         "93563",
         "388",
         "44.5",
         "263",
         "125",
         "103",
         "2.53"
        ],
        [
         "318",
         "93591",
         "7285",
         "30.9",
         "3653",
         "3632",
         "1982",
         "3.67"
        ]
       ],
       "shape": {
        "columns": 7,
        "rows": 7
       }
      },
      "text/html": [
       "<div>\n",
       "<style scoped>\n",
       "    .dataframe tbody tr th:only-of-type {\n",
       "        vertical-align: middle;\n",
       "    }\n",
       "\n",
       "    .dataframe tbody tr th {\n",
       "        vertical-align: top;\n",
       "    }\n",
       "\n",
       "    .dataframe thead th {\n",
       "        text-align: right;\n",
       "    }\n",
       "</style>\n",
       "<table border=\"1\" class=\"dataframe\">\n",
       "  <thead>\n",
       "    <tr style=\"text-align: right;\">\n",
       "      <th></th>\n",
       "      <th>Zip Code</th>\n",
       "      <th>Total Population</th>\n",
       "      <th>Median Age</th>\n",
       "      <th>Total Males</th>\n",
       "      <th>Total Females</th>\n",
       "      <th>Total Households</th>\n",
       "      <th>Average Household Size</th>\n",
       "    </tr>\n",
       "  </thead>\n",
       "  <tbody>\n",
       "    <tr>\n",
       "      <th>312</th>\n",
       "      <td>93550</td>\n",
       "      <td>74929</td>\n",
       "      <td>27.5</td>\n",
       "      <td>36414</td>\n",
       "      <td>38515</td>\n",
       "      <td>20864</td>\n",
       "      <td>3.58</td>\n",
       "    </tr>\n",
       "    <tr>\n",
       "      <th>313</th>\n",
       "      <td>93551</td>\n",
       "      <td>50798</td>\n",
       "      <td>37.0</td>\n",
       "      <td>25056</td>\n",
       "      <td>25742</td>\n",
       "      <td>15963</td>\n",
       "      <td>3.18</td>\n",
       "    </tr>\n",
       "    <tr>\n",
       "      <th>314</th>\n",
       "      <td>93552</td>\n",
       "      <td>38158</td>\n",
       "      <td>28.4</td>\n",
       "      <td>18711</td>\n",
       "      <td>19447</td>\n",
       "      <td>9690</td>\n",
       "      <td>3.93</td>\n",
       "    </tr>\n",
       "    <tr>\n",
       "      <th>315</th>\n",
       "      <td>93553</td>\n",
       "      <td>2138</td>\n",
       "      <td>43.3</td>\n",
       "      <td>1121</td>\n",
       "      <td>1017</td>\n",
       "      <td>816</td>\n",
       "      <td>2.62</td>\n",
       "    </tr>\n",
       "    <tr>\n",
       "      <th>316</th>\n",
       "      <td>93560</td>\n",
       "      <td>18910</td>\n",
       "      <td>32.4</td>\n",
       "      <td>9491</td>\n",
       "      <td>9419</td>\n",
       "      <td>6469</td>\n",
       "      <td>2.92</td>\n",
       "    </tr>\n",
       "    <tr>\n",
       "      <th>317</th>\n",
       "      <td>93563</td>\n",
       "      <td>388</td>\n",
       "      <td>44.5</td>\n",
       "      <td>263</td>\n",
       "      <td>125</td>\n",
       "      <td>103</td>\n",
       "      <td>2.53</td>\n",
       "    </tr>\n",
       "    <tr>\n",
       "      <th>318</th>\n",
       "      <td>93591</td>\n",
       "      <td>7285</td>\n",
       "      <td>30.9</td>\n",
       "      <td>3653</td>\n",
       "      <td>3632</td>\n",
       "      <td>1982</td>\n",
       "      <td>3.67</td>\n",
       "    </tr>\n",
       "  </tbody>\n",
       "</table>\n",
       "</div>"
      ],
      "text/plain": [
       "     Zip Code  Total Population  Median Age  Total Males  Total Females  \\\n",
       "312     93550             74929        27.5        36414          38515   \n",
       "313     93551             50798        37.0        25056          25742   \n",
       "314     93552             38158        28.4        18711          19447   \n",
       "315     93553              2138        43.3         1121           1017   \n",
       "316     93560             18910        32.4         9491           9419   \n",
       "317     93563               388        44.5          263            125   \n",
       "318     93591              7285        30.9         3653           3632   \n",
       "\n",
       "     Total Households  Average Household Size  \n",
       "312             20864                    3.58  \n",
       "313             15963                    3.18  \n",
       "314              9690                    3.93  \n",
       "315               816                    2.62  \n",
       "316              6469                    2.92  \n",
       "317               103                    2.53  \n",
       "318              1982                    3.67  "
      ]
     },
     "execution_count": 13,
     "metadata": {},
     "output_type": "execute_result"
    }
   ],
   "source": [
    "df.tail(7) # 后面7个，默认5个"
   ]
  },
  {
   "cell_type": "markdown",
   "metadata": {},
   "source": [
    "Pandas 还提供了统计和描述性方法，方便你从宏观的角度去了解数据集。describe() 相当于对数据集进行概览，会输出该数据集每一列数据的计数、最大值、最小值等。"
   ]
  },
  {
   "cell_type": "code",
   "execution_count": 14,
   "metadata": {},
   "outputs": [
    {
     "data": {
      "application/vnd.microsoft.datawrangler.viewer.v0+json": {
       "columns": [
        {
         "name": "index",
         "rawType": "object",
         "type": "string"
        },
        {
         "name": "Zip Code",
         "rawType": "float64",
         "type": "float"
        },
        {
         "name": "Total Population",
         "rawType": "float64",
         "type": "float"
        },
        {
         "name": "Median Age",
         "rawType": "float64",
         "type": "float"
        },
        {
         "name": "Total Males",
         "rawType": "float64",
         "type": "float"
        },
        {
         "name": "Total Females",
         "rawType": "float64",
         "type": "float"
        },
        {
         "name": "Total Households",
         "rawType": "float64",
         "type": "float"
        },
        {
         "name": "Average Household Size",
         "rawType": "float64",
         "type": "float"
        }
       ],
       "conversionMethod": "pd.DataFrame",
       "ref": "84b5930c-3088-4619-8d42-a3d718da088c",
       "rows": [
        [
         "count",
         "319.0",
         "319.0",
         "319.0",
         "319.0",
         "319.0",
         "319.0",
         "319.0"
        ],
        [
         "mean",
         "91000.67398119123",
         "33241.34169278997",
         "36.52758620689656",
         "16391.564263322885",
         "16849.777429467085",
         "10964.57053291536",
         "2.828119122257053"
        ],
        [
         "std",
         "908.3602028696386",
         "21644.417454888808",
         "8.692998925503376",
         "10747.495566165944",
         "10934.986467654675",
         "6270.64639977035",
         "0.8356582752901226"
        ],
        [
         "min",
         "90001.0",
         "0.0",
         "0.0",
         "0.0",
         "0.0",
         "0.0",
         "0.0"
        ],
        [
         "25%",
         "90243.5",
         "19318.5",
         "32.4",
         "9763.5",
         "9633.5",
         "6765.5",
         "2.435"
        ],
        [
         "50%",
         "90807.0",
         "31481.0",
         "37.1",
         "15283.0",
         "16202.0",
         "10968.0",
         "2.83"
        ],
        [
         "75%",
         "91417.0",
         "44978.0",
         "41.0",
         "22219.5",
         "22690.5",
         "14889.5",
         "3.3200000000000003"
        ],
        [
         "max",
         "93591.0",
         "105549.0",
         "74.0",
         "52794.0",
         "53185.0",
         "31087.0",
         "4.67"
        ]
       ],
       "shape": {
        "columns": 7,
        "rows": 8
       }
      },
      "text/html": [
       "<div>\n",
       "<style scoped>\n",
       "    .dataframe tbody tr th:only-of-type {\n",
       "        vertical-align: middle;\n",
       "    }\n",
       "\n",
       "    .dataframe tbody tr th {\n",
       "        vertical-align: top;\n",
       "    }\n",
       "\n",
       "    .dataframe thead th {\n",
       "        text-align: right;\n",
       "    }\n",
       "</style>\n",
       "<table border=\"1\" class=\"dataframe\">\n",
       "  <thead>\n",
       "    <tr style=\"text-align: right;\">\n",
       "      <th></th>\n",
       "      <th>Zip Code</th>\n",
       "      <th>Total Population</th>\n",
       "      <th>Median Age</th>\n",
       "      <th>Total Males</th>\n",
       "      <th>Total Females</th>\n",
       "      <th>Total Households</th>\n",
       "      <th>Average Household Size</th>\n",
       "    </tr>\n",
       "  </thead>\n",
       "  <tbody>\n",
       "    <tr>\n",
       "      <th>count</th>\n",
       "      <td>319.000000</td>\n",
       "      <td>319.000000</td>\n",
       "      <td>319.000000</td>\n",
       "      <td>319.000000</td>\n",
       "      <td>319.000000</td>\n",
       "      <td>319.000000</td>\n",
       "      <td>319.000000</td>\n",
       "    </tr>\n",
       "    <tr>\n",
       "      <th>mean</th>\n",
       "      <td>91000.673981</td>\n",
       "      <td>33241.341693</td>\n",
       "      <td>36.527586</td>\n",
       "      <td>16391.564263</td>\n",
       "      <td>16849.777429</td>\n",
       "      <td>10964.570533</td>\n",
       "      <td>2.828119</td>\n",
       "    </tr>\n",
       "    <tr>\n",
       "      <th>std</th>\n",
       "      <td>908.360203</td>\n",
       "      <td>21644.417455</td>\n",
       "      <td>8.692999</td>\n",
       "      <td>10747.495566</td>\n",
       "      <td>10934.986468</td>\n",
       "      <td>6270.646400</td>\n",
       "      <td>0.835658</td>\n",
       "    </tr>\n",
       "    <tr>\n",
       "      <th>min</th>\n",
       "      <td>90001.000000</td>\n",
       "      <td>0.000000</td>\n",
       "      <td>0.000000</td>\n",
       "      <td>0.000000</td>\n",
       "      <td>0.000000</td>\n",
       "      <td>0.000000</td>\n",
       "      <td>0.000000</td>\n",
       "    </tr>\n",
       "    <tr>\n",
       "      <th>25%</th>\n",
       "      <td>90243.500000</td>\n",
       "      <td>19318.500000</td>\n",
       "      <td>32.400000</td>\n",
       "      <td>9763.500000</td>\n",
       "      <td>9633.500000</td>\n",
       "      <td>6765.500000</td>\n",
       "      <td>2.435000</td>\n",
       "    </tr>\n",
       "    <tr>\n",
       "      <th>50%</th>\n",
       "      <td>90807.000000</td>\n",
       "      <td>31481.000000</td>\n",
       "      <td>37.100000</td>\n",
       "      <td>15283.000000</td>\n",
       "      <td>16202.000000</td>\n",
       "      <td>10968.000000</td>\n",
       "      <td>2.830000</td>\n",
       "    </tr>\n",
       "    <tr>\n",
       "      <th>75%</th>\n",
       "      <td>91417.000000</td>\n",
       "      <td>44978.000000</td>\n",
       "      <td>41.000000</td>\n",
       "      <td>22219.500000</td>\n",
       "      <td>22690.500000</td>\n",
       "      <td>14889.500000</td>\n",
       "      <td>3.320000</td>\n",
       "    </tr>\n",
       "    <tr>\n",
       "      <th>max</th>\n",
       "      <td>93591.000000</td>\n",
       "      <td>105549.000000</td>\n",
       "      <td>74.000000</td>\n",
       "      <td>52794.000000</td>\n",
       "      <td>53185.000000</td>\n",
       "      <td>31087.000000</td>\n",
       "      <td>4.670000</td>\n",
       "    </tr>\n",
       "  </tbody>\n",
       "</table>\n",
       "</div>"
      ],
      "text/plain": [
       "           Zip Code  Total Population  Median Age   Total Males  \\\n",
       "count    319.000000        319.000000  319.000000    319.000000   \n",
       "mean   91000.673981      33241.341693   36.527586  16391.564263   \n",
       "std      908.360203      21644.417455    8.692999  10747.495566   \n",
       "min    90001.000000          0.000000    0.000000      0.000000   \n",
       "25%    90243.500000      19318.500000   32.400000   9763.500000   \n",
       "50%    90807.000000      31481.000000   37.100000  15283.000000   \n",
       "75%    91417.000000      44978.000000   41.000000  22219.500000   \n",
       "max    93591.000000     105549.000000   74.000000  52794.000000   \n",
       "\n",
       "       Total Females  Total Households  Average Household Size  \n",
       "count     319.000000        319.000000              319.000000  \n",
       "mean    16849.777429      10964.570533                2.828119  \n",
       "std     10934.986468       6270.646400                0.835658  \n",
       "min         0.000000          0.000000                0.000000  \n",
       "25%      9633.500000       6765.500000                2.435000  \n",
       "50%     16202.000000      10968.000000                2.830000  \n",
       "75%     22690.500000      14889.500000                3.320000  \n",
       "max     53185.000000      31087.000000                4.670000  "
      ]
     },
     "execution_count": 14,
     "metadata": {},
     "output_type": "execute_result"
    }
   ],
   "source": [
    "df.describe()"
   ]
  },
  {
   "cell_type": "markdown",
   "metadata": {},
   "source": [
    "Pandas 基于 NumPy 开发，所以任何时候你都可以通过 .values 将 DataFrame 转换为 NumPy 数组。"
   ]
  },
  {
   "cell_type": "code",
   "execution_count": 15,
   "metadata": {},
   "outputs": [
    {
     "data": {
      "text/plain": [
       "array([[9.1371e+04, 1.0000e+00, 7.3500e+01, ..., 1.0000e+00, 1.0000e+00,\n",
       "        1.0000e+00],\n",
       "       [9.0001e+04, 5.7110e+04, 2.6600e+01, ..., 2.8642e+04, 1.2971e+04,\n",
       "        4.4000e+00],\n",
       "       [9.0002e+04, 5.1223e+04, 2.5500e+01, ..., 2.6347e+04, 1.1731e+04,\n",
       "        4.3600e+00],\n",
       "       ...,\n",
       "       [9.3560e+04, 1.8910e+04, 3.2400e+01, ..., 9.4190e+03, 6.4690e+03,\n",
       "        2.9200e+00],\n",
       "       [9.3563e+04, 3.8800e+02, 4.4500e+01, ..., 1.2500e+02, 1.0300e+02,\n",
       "        2.5300e+00],\n",
       "       [9.3591e+04, 7.2850e+03, 3.0900e+01, ..., 3.6320e+03, 1.9820e+03,\n",
       "        3.6700e+00]])"
      ]
     },
     "execution_count": 15,
     "metadata": {},
     "output_type": "execute_result"
    }
   ],
   "source": [
    "df.values"
   ]
  },
  {
   "cell_type": "code",
   "execution_count": 16,
   "metadata": {},
   "outputs": [
    {
     "data": {
      "text/plain": [
       "RangeIndex(start=0, stop=319, step=1)"
      ]
     },
     "execution_count": 16,
     "metadata": {},
     "output_type": "execute_result"
    }
   ],
   "source": [
    "df.index  # 查看索引"
   ]
  },
  {
   "cell_type": "code",
   "execution_count": 17,
   "metadata": {},
   "outputs": [
    {
     "data": {
      "text/plain": [
       "Index(['Zip Code', 'Total Population', 'Median Age', 'Total Males',\n",
       "       'Total Females', 'Total Households', 'Average Household Size'],\n",
       "      dtype='object')"
      ]
     },
     "execution_count": 17,
     "metadata": {},
     "output_type": "execute_result"
    }
   ],
   "source": [
    "df.columns  # 查看列名"
   ]
  },
  {
   "cell_type": "code",
   "execution_count": 18,
   "metadata": {},
   "outputs": [
    {
     "data": {
      "text/plain": [
       "(319, 7)"
      ]
     },
     "execution_count": 18,
     "metadata": {},
     "output_type": "execute_result"
    }
   ],
   "source": [
    "df.shape  # 查看形状"
   ]
  },
  {
   "cell_type": "markdown",
   "metadata": {},
   "source": [
    "# 数据选择"
   ]
  },
  {
   "cell_type": "code",
   "execution_count": 19,
   "metadata": {},
   "outputs": [],
   "source": [
    "import pandas as pd\n",
    "import numpy as np"
   ]
  },
  {
   "cell_type": "markdown",
   "metadata": {},
   "source": [
    "在数据预处理过程中，我们往往会对数据集进行切分，只将需要的某些行、列，或者数据块保留下来，输出到下一个流程中去。这也就是所谓的数据选择，或者数据索引。\n",
    "\n",
    "\n",
    "由于 Pandas 的数据结构中存在索引、标签，所以我们可以通过多轴索引完成对数据的选择。"
   ]
  },
  {
   "cell_type": "markdown",
   "metadata": {},
   "source": [
    "**基于索引数字选择**"
   ]
  },
  {
   "cell_type": "markdown",
   "metadata": {},
   "source": [
    "当我们新建一个 DataFrame 之后，如果未自己指定行索引或者列对应的标签，那么 Pandas 会默认从 0 开始以数字的形式作为行索引，并以数据集的第一行作为列对应的标签。其实，这里的「列」也有数字索引，默认也是从 0 开始，只是未显示出来。\n",
    "\n",
    "所以，我们首先可以基于数字索引对数据集进行选择。这里用到的 Pandas 中的 .iloc 方法。该方法可以接受的类型有：\n",
    "\n",
    "1. 整数。例如：5；\n",
    "2. 整数构成的列表或数组。例如：[1, 2, 3]；\n",
    "3. 布尔数组；\n",
    "4. 可返回索引值的函数或参数。   \n",
    "下面，我们使用上方的示例数据进行演示。\n",
    "\n",
    "首先，我们可以选择前 3 行数据。这和 Python 或者 NumPy 里面的切片很相似。"
   ]
  },
  {
   "cell_type": "code",
   "execution_count": 20,
   "metadata": {},
   "outputs": [
    {
     "data": {
      "application/vnd.microsoft.datawrangler.viewer.v0+json": {
       "columns": [
        {
         "name": "index",
         "rawType": "int64",
         "type": "integer"
        },
        {
         "name": "Zip Code",
         "rawType": "int64",
         "type": "integer"
        },
        {
         "name": "Total Population",
         "rawType": "int64",
         "type": "integer"
        },
        {
         "name": "Median Age",
         "rawType": "float64",
         "type": "float"
        },
        {
         "name": "Total Males",
         "rawType": "int64",
         "type": "integer"
        },
        {
         "name": "Total Females",
         "rawType": "int64",
         "type": "integer"
        },
        {
         "name": "Total Households",
         "rawType": "int64",
         "type": "integer"
        },
        {
         "name": "Average Household Size",
         "rawType": "float64",
         "type": "float"
        }
       ],
       "conversionMethod": "pd.DataFrame",
       "ref": "669795fc-d4a4-4888-8480-585abdc8c32e",
       "rows": [
        [
         "0",
         "91371",
         "1",
         "73.5",
         "0",
         "1",
         "1",
         "1.0"
        ],
        [
         "1",
         "90001",
         "57110",
         "26.6",
         "28468",
         "28642",
         "12971",
         "4.4"
        ],
        [
         "2",
         "90002",
         "51223",
         "25.5",
         "24876",
         "26347",
         "11731",
         "4.36"
        ],
        [
         "3",
         "90003",
         "66266",
         "26.3",
         "32631",
         "33635",
         "15642",
         "4.22"
        ],
        [
         "4",
         "90004",
         "62180",
         "34.8",
         "31302",
         "30878",
         "22547",
         "2.73"
        ],
        [
         "5",
         "90005",
         "37681",
         "33.9",
         "19299",
         "18382",
         "15044",
         "2.5"
        ],
        [
         "6",
         "90006",
         "59185",
         "32.4",
         "30254",
         "28931",
         "18617",
         "3.13"
        ],
        [
         "7",
         "90007",
         "40920",
         "24.0",
         "20915",
         "20005",
         "11944",
         "3.0"
        ],
        [
         "8",
         "90008",
         "32327",
         "39.7",
         "14477",
         "17850",
         "13841",
         "2.33"
        ],
        [
         "9",
         "90010",
         "3800",
         "37.8",
         "1874",
         "1926",
         "2014",
         "1.87"
        ],
        [
         "10",
         "90011",
         "103892",
         "26.2",
         "52794",
         "51098",
         "22168",
         "4.67"
        ],
        [
         "11",
         "90012",
         "31103",
         "36.3",
         "19493",
         "11610",
         "10327",
         "2.12"
        ],
        [
         "12",
         "90013",
         "11772",
         "44.6",
         "7629",
         "4143",
         "6416",
         "1.26"
        ],
        [
         "13",
         "90014",
         "7005",
         "44.8",
         "4471",
         "2534",
         "4109",
         "1.34"
        ],
        [
         "14",
         "90015",
         "18986",
         "31.3",
         "9833",
         "9153",
         "7420",
         "2.45"
        ],
        [
         "15",
         "90016",
         "47596",
         "33.9",
         "22778",
         "24818",
         "16145",
         "2.93"
        ],
        [
         "16",
         "90017",
         "23768",
         "29.4",
         "12818",
         "10950",
         "9338",
         "2.53"
        ],
        [
         "17",
         "90018",
         "49310",
         "33.2",
         "23770",
         "25540",
         "15493",
         "3.12"
        ],
        [
         "18",
         "90019",
         "64458",
         "35.8",
         "31442",
         "33016",
         "23344",
         "2.7"
        ],
        [
         "19",
         "90020",
         "38967",
         "34.6",
         "19381",
         "19586",
         "16514",
         "2.35"
        ],
        [
         "20",
         "90021",
         "3951",
         "44.3",
         "2790",
         "1161",
         "1561",
         "1.57"
        ],
        [
         "21",
         "90022",
         "67179",
         "29.8",
         "33216",
         "33963",
         "17023",
         "3.94"
        ],
        [
         "22",
         "90023",
         "45903",
         "28.4",
         "23037",
         "22866",
         "10727",
         "4.26"
        ],
        [
         "23",
         "90024",
         "47452",
         "23.6",
         "22248",
         "25204",
         "17903",
         "2.03"
        ],
        [
         "24",
         "90025",
         "42147",
         "34.7",
         "20859",
         "21288",
         "21228",
         "1.97"
        ],
        [
         "25",
         "90026",
         "67869",
         "34.0",
         "34515",
         "33354",
         "24956",
         "2.68"
        ],
        [
         "26",
         "90027",
         "45151",
         "38.3",
         "22362",
         "22789",
         "21929",
         "1.99"
        ],
        [
         "27",
         "90028",
         "28714",
         "34.0",
         "16056",
         "12658",
         "14964",
         "1.78"
        ],
        [
         "28",
         "90029",
         "38617",
         "34.6",
         "19575",
         "19042",
         "13883",
         "2.7"
        ],
        [
         "29",
         "90031",
         "39316",
         "33.5",
         "19546",
         "19770",
         "11156",
         "3.49"
        ],
        [
         "30",
         "90032",
         "45786",
         "32.4",
         "22564",
         "23222",
         "12765",
         "3.52"
        ],
        [
         "31",
         "90033",
         "48852",
         "29.2",
         "24425",
         "24427",
         "12924",
         "3.66"
        ],
        [
         "32",
         "90034",
         "57964",
         "32.8",
         "28828",
         "29136",
         "25592",
         "2.23"
        ],
        [
         "33",
         "90035",
         "28418",
         "37.5",
         "13326",
         "15092",
         "12814",
         "2.19"
        ],
        [
         "34",
         "90036",
         "36865",
         "33.9",
         "17914",
         "18951",
         "18646",
         "1.96"
        ],
        [
         "35",
         "90037",
         "62276",
         "28.8",
         "31187",
         "31089",
         "15869",
         "3.85"
        ],
        [
         "36",
         "90038",
         "28917",
         "33.1",
         "15383",
         "13534",
         "11928",
         "2.41"
        ],
        [
         "37",
         "90039",
         "28514",
         "38.8",
         "14383",
         "14131",
         "11436",
         "2.47"
        ],
        [
         "38",
         "90040",
         "12520",
         "31.2",
         "6129",
         "6391",
         "3317",
         "3.75"
        ],
        [
         "39",
         "90041",
         "27425",
         "39.0",
         "13212",
         "14213",
         "9513",
         "2.71"
        ],
        [
         "40",
         "90042",
         "62430",
         "33.6",
         "30836",
         "31594",
         "19892",
         "3.11"
        ],
        [
         "41",
         "90043",
         "44789",
         "38.7",
         "20561",
         "24228",
         "16075",
         "2.76"
        ],
        [
         "42",
         "90044",
         "89779",
         "28.6",
         "43128",
         "46651",
         "25144",
         "3.55"
        ],
        [
         "43",
         "90045",
         "39480",
         "35.6",
         "18958",
         "20522",
         "15224",
         "2.37"
        ],
        [
         "44",
         "90046",
         "48581",
         "38.5",
         "25854",
         "22727",
         "28534",
         "1.69"
        ],
        [
         "45",
         "90047",
         "48606",
         "36.2",
         "22129",
         "26477",
         "16168",
         "2.99"
        ],
        [
         "46",
         "90048",
         "21397",
         "39.2",
         "10132",
         "11265",
         "11821",
         "1.77"
        ],
        [
         "47",
         "90049",
         "35482",
         "41.3",
         "16359",
         "19123",
         "16657",
         "2.09"
        ],
        [
         "48",
         "90056",
         "7827",
         "48.4",
         "3436",
         "4391",
         "3371",
         "2.32"
        ],
        [
         "49",
         "90057",
         "44998",
         "31.2",
         "24300",
         "20698",
         "15658",
         "2.81"
        ]
       ],
       "shape": {
        "columns": 7,
        "rows": 319
       }
      },
      "text/html": [
       "<div>\n",
       "<style scoped>\n",
       "    .dataframe tbody tr th:only-of-type {\n",
       "        vertical-align: middle;\n",
       "    }\n",
       "\n",
       "    .dataframe tbody tr th {\n",
       "        vertical-align: top;\n",
       "    }\n",
       "\n",
       "    .dataframe thead th {\n",
       "        text-align: right;\n",
       "    }\n",
       "</style>\n",
       "<table border=\"1\" class=\"dataframe\">\n",
       "  <thead>\n",
       "    <tr style=\"text-align: right;\">\n",
       "      <th></th>\n",
       "      <th>Zip Code</th>\n",
       "      <th>Total Population</th>\n",
       "      <th>Median Age</th>\n",
       "      <th>Total Males</th>\n",
       "      <th>Total Females</th>\n",
       "      <th>Total Households</th>\n",
       "      <th>Average Household Size</th>\n",
       "    </tr>\n",
       "  </thead>\n",
       "  <tbody>\n",
       "    <tr>\n",
       "      <th>0</th>\n",
       "      <td>91371</td>\n",
       "      <td>1</td>\n",
       "      <td>73.5</td>\n",
       "      <td>0</td>\n",
       "      <td>1</td>\n",
       "      <td>1</td>\n",
       "      <td>1.00</td>\n",
       "    </tr>\n",
       "    <tr>\n",
       "      <th>1</th>\n",
       "      <td>90001</td>\n",
       "      <td>57110</td>\n",
       "      <td>26.6</td>\n",
       "      <td>28468</td>\n",
       "      <td>28642</td>\n",
       "      <td>12971</td>\n",
       "      <td>4.40</td>\n",
       "    </tr>\n",
       "    <tr>\n",
       "      <th>2</th>\n",
       "      <td>90002</td>\n",
       "      <td>51223</td>\n",
       "      <td>25.5</td>\n",
       "      <td>24876</td>\n",
       "      <td>26347</td>\n",
       "      <td>11731</td>\n",
       "      <td>4.36</td>\n",
       "    </tr>\n",
       "    <tr>\n",
       "      <th>3</th>\n",
       "      <td>90003</td>\n",
       "      <td>66266</td>\n",
       "      <td>26.3</td>\n",
       "      <td>32631</td>\n",
       "      <td>33635</td>\n",
       "      <td>15642</td>\n",
       "      <td>4.22</td>\n",
       "    </tr>\n",
       "    <tr>\n",
       "      <th>4</th>\n",
       "      <td>90004</td>\n",
       "      <td>62180</td>\n",
       "      <td>34.8</td>\n",
       "      <td>31302</td>\n",
       "      <td>30878</td>\n",
       "      <td>22547</td>\n",
       "      <td>2.73</td>\n",
       "    </tr>\n",
       "    <tr>\n",
       "      <th>...</th>\n",
       "      <td>...</td>\n",
       "      <td>...</td>\n",
       "      <td>...</td>\n",
       "      <td>...</td>\n",
       "      <td>...</td>\n",
       "      <td>...</td>\n",
       "      <td>...</td>\n",
       "    </tr>\n",
       "    <tr>\n",
       "      <th>314</th>\n",
       "      <td>93552</td>\n",
       "      <td>38158</td>\n",
       "      <td>28.4</td>\n",
       "      <td>18711</td>\n",
       "      <td>19447</td>\n",
       "      <td>9690</td>\n",
       "      <td>3.93</td>\n",
       "    </tr>\n",
       "    <tr>\n",
       "      <th>315</th>\n",
       "      <td>93553</td>\n",
       "      <td>2138</td>\n",
       "      <td>43.3</td>\n",
       "      <td>1121</td>\n",
       "      <td>1017</td>\n",
       "      <td>816</td>\n",
       "      <td>2.62</td>\n",
       "    </tr>\n",
       "    <tr>\n",
       "      <th>316</th>\n",
       "      <td>93560</td>\n",
       "      <td>18910</td>\n",
       "      <td>32.4</td>\n",
       "      <td>9491</td>\n",
       "      <td>9419</td>\n",
       "      <td>6469</td>\n",
       "      <td>2.92</td>\n",
       "    </tr>\n",
       "    <tr>\n",
       "      <th>317</th>\n",
       "      <td>93563</td>\n",
       "      <td>388</td>\n",
       "      <td>44.5</td>\n",
       "      <td>263</td>\n",
       "      <td>125</td>\n",
       "      <td>103</td>\n",
       "      <td>2.53</td>\n",
       "    </tr>\n",
       "    <tr>\n",
       "      <th>318</th>\n",
       "      <td>93591</td>\n",
       "      <td>7285</td>\n",
       "      <td>30.9</td>\n",
       "      <td>3653</td>\n",
       "      <td>3632</td>\n",
       "      <td>1982</td>\n",
       "      <td>3.67</td>\n",
       "    </tr>\n",
       "  </tbody>\n",
       "</table>\n",
       "<p>319 rows × 7 columns</p>\n",
       "</div>"
      ],
      "text/plain": [
       "     Zip Code  Total Population  Median Age  Total Males  Total Females  \\\n",
       "0       91371                 1        73.5            0              1   \n",
       "1       90001             57110        26.6        28468          28642   \n",
       "2       90002             51223        25.5        24876          26347   \n",
       "3       90003             66266        26.3        32631          33635   \n",
       "4       90004             62180        34.8        31302          30878   \n",
       "..        ...               ...         ...          ...            ...   \n",
       "314     93552             38158        28.4        18711          19447   \n",
       "315     93553              2138        43.3         1121           1017   \n",
       "316     93560             18910        32.4         9491           9419   \n",
       "317     93563               388        44.5          263            125   \n",
       "318     93591              7285        30.9         3653           3632   \n",
       "\n",
       "     Total Households  Average Household Size  \n",
       "0                   1                    1.00  \n",
       "1               12971                    4.40  \n",
       "2               11731                    4.36  \n",
       "3               15642                    4.22  \n",
       "4               22547                    2.73  \n",
       "..                ...                     ...  \n",
       "314              9690                    3.93  \n",
       "315               816                    2.62  \n",
       "316              6469                    2.92  \n",
       "317               103                    2.53  \n",
       "318              1982                    3.67  \n",
       "\n",
       "[319 rows x 7 columns]"
      ]
     },
     "execution_count": 20,
     "metadata": {},
     "output_type": "execute_result"
    }
   ],
   "source": [
    "df = pd.read_csv(\"https://labfile.oss.aliyuncs.com/courses/906/los_census.csv\")\n",
    "df"
   ]
  },
  {
   "cell_type": "code",
   "execution_count": 21,
   "metadata": {},
   "outputs": [
    {
     "data": {
      "application/vnd.microsoft.datawrangler.viewer.v0+json": {
       "columns": [
        {
         "name": "index",
         "rawType": "int64",
         "type": "integer"
        },
        {
         "name": "Zip Code",
         "rawType": "int64",
         "type": "integer"
        },
        {
         "name": "Total Population",
         "rawType": "int64",
         "type": "integer"
        },
        {
         "name": "Median Age",
         "rawType": "float64",
         "type": "float"
        },
        {
         "name": "Total Males",
         "rawType": "int64",
         "type": "integer"
        },
        {
         "name": "Total Females",
         "rawType": "int64",
         "type": "integer"
        },
        {
         "name": "Total Households",
         "rawType": "int64",
         "type": "integer"
        },
        {
         "name": "Average Household Size",
         "rawType": "float64",
         "type": "float"
        }
       ],
       "conversionMethod": "pd.DataFrame",
       "ref": "94de30f5-48ee-4f93-86b6-8ae7a33787b2",
       "rows": [
        [
         "0",
         "91371",
         "1",
         "73.5",
         "0",
         "1",
         "1",
         "1.0"
        ],
        [
         "1",
         "90001",
         "57110",
         "26.6",
         "28468",
         "28642",
         "12971",
         "4.4"
        ],
        [
         "2",
         "90002",
         "51223",
         "25.5",
         "24876",
         "26347",
         "11731",
         "4.36"
        ]
       ],
       "shape": {
        "columns": 7,
        "rows": 3
       }
      },
      "text/html": [
       "<div>\n",
       "<style scoped>\n",
       "    .dataframe tbody tr th:only-of-type {\n",
       "        vertical-align: middle;\n",
       "    }\n",
       "\n",
       "    .dataframe tbody tr th {\n",
       "        vertical-align: top;\n",
       "    }\n",
       "\n",
       "    .dataframe thead th {\n",
       "        text-align: right;\n",
       "    }\n",
       "</style>\n",
       "<table border=\"1\" class=\"dataframe\">\n",
       "  <thead>\n",
       "    <tr style=\"text-align: right;\">\n",
       "      <th></th>\n",
       "      <th>Zip Code</th>\n",
       "      <th>Total Population</th>\n",
       "      <th>Median Age</th>\n",
       "      <th>Total Males</th>\n",
       "      <th>Total Females</th>\n",
       "      <th>Total Households</th>\n",
       "      <th>Average Household Size</th>\n",
       "    </tr>\n",
       "  </thead>\n",
       "  <tbody>\n",
       "    <tr>\n",
       "      <th>0</th>\n",
       "      <td>91371</td>\n",
       "      <td>1</td>\n",
       "      <td>73.5</td>\n",
       "      <td>0</td>\n",
       "      <td>1</td>\n",
       "      <td>1</td>\n",
       "      <td>1.00</td>\n",
       "    </tr>\n",
       "    <tr>\n",
       "      <th>1</th>\n",
       "      <td>90001</td>\n",
       "      <td>57110</td>\n",
       "      <td>26.6</td>\n",
       "      <td>28468</td>\n",
       "      <td>28642</td>\n",
       "      <td>12971</td>\n",
       "      <td>4.40</td>\n",
       "    </tr>\n",
       "    <tr>\n",
       "      <th>2</th>\n",
       "      <td>90002</td>\n",
       "      <td>51223</td>\n",
       "      <td>25.5</td>\n",
       "      <td>24876</td>\n",
       "      <td>26347</td>\n",
       "      <td>11731</td>\n",
       "      <td>4.36</td>\n",
       "    </tr>\n",
       "  </tbody>\n",
       "</table>\n",
       "</div>"
      ],
      "text/plain": [
       "   Zip Code  Total Population  Median Age  Total Males  Total Females  \\\n",
       "0     91371                 1        73.5            0              1   \n",
       "1     90001             57110        26.6        28468          28642   \n",
       "2     90002             51223        25.5        24876          26347   \n",
       "\n",
       "   Total Households  Average Household Size  \n",
       "0                 1                    1.00  \n",
       "1             12971                    4.40  \n",
       "2             11731                    4.36  "
      ]
     },
     "execution_count": 21,
     "metadata": {},
     "output_type": "execute_result"
    }
   ],
   "source": [
    "df.iloc[:3] # 前三行，类似切片"
   ]
  },
  {
   "cell_type": "code",
   "execution_count": 22,
   "metadata": {},
   "outputs": [
    {
     "data": {
      "text/plain": [
       "Zip Code                  90005.0\n",
       "Total Population          37681.0\n",
       "Median Age                   33.9\n",
       "Total Males               19299.0\n",
       "Total Females             18382.0\n",
       "Total Households          15044.0\n",
       "Average Household Size        2.5\n",
       "Name: 5, dtype: float64"
      ]
     },
     "execution_count": 22,
     "metadata": {},
     "output_type": "execute_result"
    }
   ],
   "source": [
    "df.iloc[5] # 第五行"
   ]
  },
  {
   "cell_type": "code",
   "execution_count": 23,
   "metadata": {},
   "outputs": [
    {
     "data": {
      "application/vnd.microsoft.datawrangler.viewer.v0+json": {
       "columns": [
        {
         "name": "index",
         "rawType": "int64",
         "type": "integer"
        },
        {
         "name": "Zip Code",
         "rawType": "int64",
         "type": "integer"
        },
        {
         "name": "Total Population",
         "rawType": "int64",
         "type": "integer"
        },
        {
         "name": "Median Age",
         "rawType": "float64",
         "type": "float"
        },
        {
         "name": "Total Males",
         "rawType": "int64",
         "type": "integer"
        },
        {
         "name": "Total Females",
         "rawType": "int64",
         "type": "integer"
        },
        {
         "name": "Total Households",
         "rawType": "int64",
         "type": "integer"
        },
        {
         "name": "Average Household Size",
         "rawType": "float64",
         "type": "float"
        }
       ],
       "conversionMethod": "pd.DataFrame",
       "ref": "acc63f53-5a6c-4674-a007-fa24940725be",
       "rows": [
        [
         "1",
         "90001",
         "57110",
         "26.6",
         "28468",
         "28642",
         "12971",
         "4.4"
        ],
        [
         "3",
         "90003",
         "66266",
         "26.3",
         "32631",
         "33635",
         "15642",
         "4.22"
        ],
        [
         "5",
         "90005",
         "37681",
         "33.9",
         "19299",
         "18382",
         "15044",
         "2.5"
        ]
       ],
       "shape": {
        "columns": 7,
        "rows": 3
       }
      },
      "text/html": [
       "<div>\n",
       "<style scoped>\n",
       "    .dataframe tbody tr th:only-of-type {\n",
       "        vertical-align: middle;\n",
       "    }\n",
       "\n",
       "    .dataframe tbody tr th {\n",
       "        vertical-align: top;\n",
       "    }\n",
       "\n",
       "    .dataframe thead th {\n",
       "        text-align: right;\n",
       "    }\n",
       "</style>\n",
       "<table border=\"1\" class=\"dataframe\">\n",
       "  <thead>\n",
       "    <tr style=\"text-align: right;\">\n",
       "      <th></th>\n",
       "      <th>Zip Code</th>\n",
       "      <th>Total Population</th>\n",
       "      <th>Median Age</th>\n",
       "      <th>Total Males</th>\n",
       "      <th>Total Females</th>\n",
       "      <th>Total Households</th>\n",
       "      <th>Average Household Size</th>\n",
       "    </tr>\n",
       "  </thead>\n",
       "  <tbody>\n",
       "    <tr>\n",
       "      <th>1</th>\n",
       "      <td>90001</td>\n",
       "      <td>57110</td>\n",
       "      <td>26.6</td>\n",
       "      <td>28468</td>\n",
       "      <td>28642</td>\n",
       "      <td>12971</td>\n",
       "      <td>4.40</td>\n",
       "    </tr>\n",
       "    <tr>\n",
       "      <th>3</th>\n",
       "      <td>90003</td>\n",
       "      <td>66266</td>\n",
       "      <td>26.3</td>\n",
       "      <td>32631</td>\n",
       "      <td>33635</td>\n",
       "      <td>15642</td>\n",
       "      <td>4.22</td>\n",
       "    </tr>\n",
       "    <tr>\n",
       "      <th>5</th>\n",
       "      <td>90005</td>\n",
       "      <td>37681</td>\n",
       "      <td>33.9</td>\n",
       "      <td>19299</td>\n",
       "      <td>18382</td>\n",
       "      <td>15044</td>\n",
       "      <td>2.50</td>\n",
       "    </tr>\n",
       "  </tbody>\n",
       "</table>\n",
       "</div>"
      ],
      "text/plain": [
       "   Zip Code  Total Population  Median Age  Total Males  Total Females  \\\n",
       "1     90001             57110        26.6        28468          28642   \n",
       "3     90003             66266        26.3        32631          33635   \n",
       "5     90005             37681        33.9        19299          18382   \n",
       "\n",
       "   Total Households  Average Household Size  \n",
       "1             12971                    4.40  \n",
       "3             15642                    4.22  \n",
       "5             15044                    2.50  "
      ]
     },
     "execution_count": 23,
     "metadata": {},
     "output_type": "execute_result"
    }
   ],
   "source": [
    "df.iloc[[1, 3, 5]] # 第1,3,5行"
   ]
  },
  {
   "cell_type": "code",
   "execution_count": 24,
   "metadata": {},
   "outputs": [
    {
     "data": {
      "application/vnd.microsoft.datawrangler.viewer.v0+json": {
       "columns": [
        {
         "name": "index",
         "rawType": "int64",
         "type": "integer"
        },
        {
         "name": "Total Population",
         "rawType": "int64",
         "type": "integer"
        },
        {
         "name": "Median Age",
         "rawType": "float64",
         "type": "float"
        },
        {
         "name": "Total Males",
         "rawType": "int64",
         "type": "integer"
        }
       ],
       "conversionMethod": "pd.DataFrame",
       "ref": "b583aaad-a8b1-4ead-8cad-246da6b116c1",
       "rows": [
        [
         "0",
         "1",
         "73.5",
         "0"
        ],
        [
         "1",
         "57110",
         "26.6",
         "28468"
        ],
        [
         "2",
         "51223",
         "25.5",
         "24876"
        ],
        [
         "3",
         "66266",
         "26.3",
         "32631"
        ],
        [
         "4",
         "62180",
         "34.8",
         "31302"
        ],
        [
         "5",
         "37681",
         "33.9",
         "19299"
        ],
        [
         "6",
         "59185",
         "32.4",
         "30254"
        ],
        [
         "7",
         "40920",
         "24.0",
         "20915"
        ],
        [
         "8",
         "32327",
         "39.7",
         "14477"
        ],
        [
         "9",
         "3800",
         "37.8",
         "1874"
        ],
        [
         "10",
         "103892",
         "26.2",
         "52794"
        ],
        [
         "11",
         "31103",
         "36.3",
         "19493"
        ],
        [
         "12",
         "11772",
         "44.6",
         "7629"
        ],
        [
         "13",
         "7005",
         "44.8",
         "4471"
        ],
        [
         "14",
         "18986",
         "31.3",
         "9833"
        ],
        [
         "15",
         "47596",
         "33.9",
         "22778"
        ],
        [
         "16",
         "23768",
         "29.4",
         "12818"
        ],
        [
         "17",
         "49310",
         "33.2",
         "23770"
        ],
        [
         "18",
         "64458",
         "35.8",
         "31442"
        ],
        [
         "19",
         "38967",
         "34.6",
         "19381"
        ],
        [
         "20",
         "3951",
         "44.3",
         "2790"
        ],
        [
         "21",
         "67179",
         "29.8",
         "33216"
        ],
        [
         "22",
         "45903",
         "28.4",
         "23037"
        ],
        [
         "23",
         "47452",
         "23.6",
         "22248"
        ],
        [
         "24",
         "42147",
         "34.7",
         "20859"
        ],
        [
         "25",
         "67869",
         "34.0",
         "34515"
        ],
        [
         "26",
         "45151",
         "38.3",
         "22362"
        ],
        [
         "27",
         "28714",
         "34.0",
         "16056"
        ],
        [
         "28",
         "38617",
         "34.6",
         "19575"
        ],
        [
         "29",
         "39316",
         "33.5",
         "19546"
        ],
        [
         "30",
         "45786",
         "32.4",
         "22564"
        ],
        [
         "31",
         "48852",
         "29.2",
         "24425"
        ],
        [
         "32",
         "57964",
         "32.8",
         "28828"
        ],
        [
         "33",
         "28418",
         "37.5",
         "13326"
        ],
        [
         "34",
         "36865",
         "33.9",
         "17914"
        ],
        [
         "35",
         "62276",
         "28.8",
         "31187"
        ],
        [
         "36",
         "28917",
         "33.1",
         "15383"
        ],
        [
         "37",
         "28514",
         "38.8",
         "14383"
        ],
        [
         "38",
         "12520",
         "31.2",
         "6129"
        ],
        [
         "39",
         "27425",
         "39.0",
         "13212"
        ],
        [
         "40",
         "62430",
         "33.6",
         "30836"
        ],
        [
         "41",
         "44789",
         "38.7",
         "20561"
        ],
        [
         "42",
         "89779",
         "28.6",
         "43128"
        ],
        [
         "43",
         "39480",
         "35.6",
         "18958"
        ],
        [
         "44",
         "48581",
         "38.5",
         "25854"
        ],
        [
         "45",
         "48606",
         "36.2",
         "22129"
        ],
        [
         "46",
         "21397",
         "39.2",
         "10132"
        ],
        [
         "47",
         "35482",
         "41.3",
         "16359"
        ],
        [
         "48",
         "7827",
         "48.4",
         "3436"
        ],
        [
         "49",
         "44998",
         "31.2",
         "24300"
        ]
       ],
       "shape": {
        "columns": 3,
        "rows": 319
       }
      },
      "text/html": [
       "<div>\n",
       "<style scoped>\n",
       "    .dataframe tbody tr th:only-of-type {\n",
       "        vertical-align: middle;\n",
       "    }\n",
       "\n",
       "    .dataframe tbody tr th {\n",
       "        vertical-align: top;\n",
       "    }\n",
       "\n",
       "    .dataframe thead th {\n",
       "        text-align: right;\n",
       "    }\n",
       "</style>\n",
       "<table border=\"1\" class=\"dataframe\">\n",
       "  <thead>\n",
       "    <tr style=\"text-align: right;\">\n",
       "      <th></th>\n",
       "      <th>Total Population</th>\n",
       "      <th>Median Age</th>\n",
       "      <th>Total Males</th>\n",
       "    </tr>\n",
       "  </thead>\n",
       "  <tbody>\n",
       "    <tr>\n",
       "      <th>0</th>\n",
       "      <td>1</td>\n",
       "      <td>73.5</td>\n",
       "      <td>0</td>\n",
       "    </tr>\n",
       "    <tr>\n",
       "      <th>1</th>\n",
       "      <td>57110</td>\n",
       "      <td>26.6</td>\n",
       "      <td>28468</td>\n",
       "    </tr>\n",
       "    <tr>\n",
       "      <th>2</th>\n",
       "      <td>51223</td>\n",
       "      <td>25.5</td>\n",
       "      <td>24876</td>\n",
       "    </tr>\n",
       "    <tr>\n",
       "      <th>3</th>\n",
       "      <td>66266</td>\n",
       "      <td>26.3</td>\n",
       "      <td>32631</td>\n",
       "    </tr>\n",
       "    <tr>\n",
       "      <th>4</th>\n",
       "      <td>62180</td>\n",
       "      <td>34.8</td>\n",
       "      <td>31302</td>\n",
       "    </tr>\n",
       "    <tr>\n",
       "      <th>...</th>\n",
       "      <td>...</td>\n",
       "      <td>...</td>\n",
       "      <td>...</td>\n",
       "    </tr>\n",
       "    <tr>\n",
       "      <th>314</th>\n",
       "      <td>38158</td>\n",
       "      <td>28.4</td>\n",
       "      <td>18711</td>\n",
       "    </tr>\n",
       "    <tr>\n",
       "      <th>315</th>\n",
       "      <td>2138</td>\n",
       "      <td>43.3</td>\n",
       "      <td>1121</td>\n",
       "    </tr>\n",
       "    <tr>\n",
       "      <th>316</th>\n",
       "      <td>18910</td>\n",
       "      <td>32.4</td>\n",
       "      <td>9491</td>\n",
       "    </tr>\n",
       "    <tr>\n",
       "      <th>317</th>\n",
       "      <td>388</td>\n",
       "      <td>44.5</td>\n",
       "      <td>263</td>\n",
       "    </tr>\n",
       "    <tr>\n",
       "      <th>318</th>\n",
       "      <td>7285</td>\n",
       "      <td>30.9</td>\n",
       "      <td>3653</td>\n",
       "    </tr>\n",
       "  </tbody>\n",
       "</table>\n",
       "<p>319 rows × 3 columns</p>\n",
       "</div>"
      ],
      "text/plain": [
       "     Total Population  Median Age  Total Males\n",
       "0                   1        73.5            0\n",
       "1               57110        26.6        28468\n",
       "2               51223        25.5        24876\n",
       "3               66266        26.3        32631\n",
       "4               62180        34.8        31302\n",
       "..                ...         ...          ...\n",
       "314             38158        28.4        18711\n",
       "315              2138        43.3         1121\n",
       "316             18910        32.4         9491\n",
       "317               388        44.5          263\n",
       "318              7285        30.9         3653\n",
       "\n",
       "[319 rows x 3 columns]"
      ]
     },
     "execution_count": 24,
     "metadata": {},
     "output_type": "execute_result"
    }
   ],
   "source": [
    "df.iloc[:, 1:4] # 第2-4列"
   ]
  },
  {
   "cell_type": "code",
   "execution_count": 25,
   "metadata": {},
   "outputs": [
    {
     "data": {
      "application/vnd.microsoft.datawrangler.viewer.v0+json": {
       "columns": [
        {
         "name": "index",
         "rawType": "int64",
         "type": "integer"
        },
        {
         "name": "Zip Code",
         "rawType": "int64",
         "type": "integer"
        },
        {
         "name": "Total Population",
         "rawType": "int64",
         "type": "integer"
        },
        {
         "name": "Median Age",
         "rawType": "float64",
         "type": "float"
        },
        {
         "name": "Total Males",
         "rawType": "int64",
         "type": "integer"
        },
        {
         "name": "Total Females",
         "rawType": "int64",
         "type": "integer"
        },
        {
         "name": "Total Households",
         "rawType": "int64",
         "type": "integer"
        },
        {
         "name": "Average Household Size",
         "rawType": "float64",
         "type": "float"
        }
       ],
       "conversionMethod": "pd.DataFrame",
       "ref": "767fcd25-5c07-4e3a-9d2a-4e711a6a1da6",
       "rows": [
        [
         "0",
         "91371",
         "1",
         "73.5",
         "0",
         "1",
         "1",
         "1.0"
        ],
        [
         "1",
         "90001",
         "57110",
         "26.6",
         "28468",
         "28642",
         "12971",
         "4.4"
        ],
        [
         "2",
         "90002",
         "51223",
         "25.5",
         "24876",
         "26347",
         "11731",
         "4.36"
        ]
       ],
       "shape": {
        "columns": 7,
        "rows": 3
       }
      },
      "text/html": [
       "<div>\n",
       "<style scoped>\n",
       "    .dataframe tbody tr th:only-of-type {\n",
       "        vertical-align: middle;\n",
       "    }\n",
       "\n",
       "    .dataframe tbody tr th {\n",
       "        vertical-align: top;\n",
       "    }\n",
       "\n",
       "    .dataframe thead th {\n",
       "        text-align: right;\n",
       "    }\n",
       "</style>\n",
       "<table border=\"1\" class=\"dataframe\">\n",
       "  <thead>\n",
       "    <tr style=\"text-align: right;\">\n",
       "      <th></th>\n",
       "      <th>Zip Code</th>\n",
       "      <th>Total Population</th>\n",
       "      <th>Median Age</th>\n",
       "      <th>Total Males</th>\n",
       "      <th>Total Females</th>\n",
       "      <th>Total Households</th>\n",
       "      <th>Average Household Size</th>\n",
       "    </tr>\n",
       "  </thead>\n",
       "  <tbody>\n",
       "    <tr>\n",
       "      <th>0</th>\n",
       "      <td>91371</td>\n",
       "      <td>1</td>\n",
       "      <td>73.5</td>\n",
       "      <td>0</td>\n",
       "      <td>1</td>\n",
       "      <td>1</td>\n",
       "      <td>1.00</td>\n",
       "    </tr>\n",
       "    <tr>\n",
       "      <th>1</th>\n",
       "      <td>90001</td>\n",
       "      <td>57110</td>\n",
       "      <td>26.6</td>\n",
       "      <td>28468</td>\n",
       "      <td>28642</td>\n",
       "      <td>12971</td>\n",
       "      <td>4.40</td>\n",
       "    </tr>\n",
       "    <tr>\n",
       "      <th>2</th>\n",
       "      <td>90002</td>\n",
       "      <td>51223</td>\n",
       "      <td>25.5</td>\n",
       "      <td>24876</td>\n",
       "      <td>26347</td>\n",
       "      <td>11731</td>\n",
       "      <td>4.36</td>\n",
       "    </tr>\n",
       "  </tbody>\n",
       "</table>\n",
       "</div>"
      ],
      "text/plain": [
       "   Zip Code  Total Population  Median Age  Total Males  Total Females  \\\n",
       "0     91371                 1        73.5            0              1   \n",
       "1     90001             57110        26.6        28468          28642   \n",
       "2     90002             51223        25.5        24876          26347   \n",
       "\n",
       "   Total Households  Average Household Size  \n",
       "0                 1                    1.00  \n",
       "1             12971                    4.40  \n",
       "2             11731                    4.36  "
      ]
     },
     "execution_count": 25,
     "metadata": {},
     "output_type": "execute_result"
    }
   ],
   "source": [
    "df.loc[0:2]"
   ]
  },
  {
   "cell_type": "code",
   "execution_count": 26,
   "metadata": {},
   "outputs": [
    {
     "data": {
      "application/vnd.microsoft.datawrangler.viewer.v0+json": {
       "columns": [
        {
         "name": "index",
         "rawType": "int64",
         "type": "integer"
        },
        {
         "name": "Zip Code",
         "rawType": "int64",
         "type": "integer"
        },
        {
         "name": "Total Population",
         "rawType": "int64",
         "type": "integer"
        },
        {
         "name": "Median Age",
         "rawType": "float64",
         "type": "float"
        },
        {
         "name": "Total Males",
         "rawType": "int64",
         "type": "integer"
        },
        {
         "name": "Total Females",
         "rawType": "int64",
         "type": "integer"
        },
        {
         "name": "Total Households",
         "rawType": "int64",
         "type": "integer"
        },
        {
         "name": "Average Household Size",
         "rawType": "float64",
         "type": "float"
        }
       ],
       "conversionMethod": "pd.DataFrame",
       "ref": "c96d3ac6-fb54-4789-9deb-8ea8f4e0d2b4",
       "rows": [
        [
         "0",
         "91371",
         "1",
         "73.5",
         "0",
         "1",
         "1",
         "1.0"
        ],
        [
         "2",
         "90002",
         "51223",
         "25.5",
         "24876",
         "26347",
         "11731",
         "4.36"
        ],
        [
         "4",
         "90004",
         "62180",
         "34.8",
         "31302",
         "30878",
         "22547",
         "2.73"
        ]
       ],
       "shape": {
        "columns": 7,
        "rows": 3
       }
      },
      "text/html": [
       "<div>\n",
       "<style scoped>\n",
       "    .dataframe tbody tr th:only-of-type {\n",
       "        vertical-align: middle;\n",
       "    }\n",
       "\n",
       "    .dataframe tbody tr th {\n",
       "        vertical-align: top;\n",
       "    }\n",
       "\n",
       "    .dataframe thead th {\n",
       "        text-align: right;\n",
       "    }\n",
       "</style>\n",
       "<table border=\"1\" class=\"dataframe\">\n",
       "  <thead>\n",
       "    <tr style=\"text-align: right;\">\n",
       "      <th></th>\n",
       "      <th>Zip Code</th>\n",
       "      <th>Total Population</th>\n",
       "      <th>Median Age</th>\n",
       "      <th>Total Males</th>\n",
       "      <th>Total Females</th>\n",
       "      <th>Total Households</th>\n",
       "      <th>Average Household Size</th>\n",
       "    </tr>\n",
       "  </thead>\n",
       "  <tbody>\n",
       "    <tr>\n",
       "      <th>0</th>\n",
       "      <td>91371</td>\n",
       "      <td>1</td>\n",
       "      <td>73.5</td>\n",
       "      <td>0</td>\n",
       "      <td>1</td>\n",
       "      <td>1</td>\n",
       "      <td>1.00</td>\n",
       "    </tr>\n",
       "    <tr>\n",
       "      <th>2</th>\n",
       "      <td>90002</td>\n",
       "      <td>51223</td>\n",
       "      <td>25.5</td>\n",
       "      <td>24876</td>\n",
       "      <td>26347</td>\n",
       "      <td>11731</td>\n",
       "      <td>4.36</td>\n",
       "    </tr>\n",
       "    <tr>\n",
       "      <th>4</th>\n",
       "      <td>90004</td>\n",
       "      <td>62180</td>\n",
       "      <td>34.8</td>\n",
       "      <td>31302</td>\n",
       "      <td>30878</td>\n",
       "      <td>22547</td>\n",
       "      <td>2.73</td>\n",
       "    </tr>\n",
       "  </tbody>\n",
       "</table>\n",
       "</div>"
      ],
      "text/plain": [
       "   Zip Code  Total Population  Median Age  Total Males  Total Females  \\\n",
       "0     91371                 1        73.5            0              1   \n",
       "2     90002             51223        25.5        24876          26347   \n",
       "4     90004             62180        34.8        31302          30878   \n",
       "\n",
       "   Total Households  Average Household Size  \n",
       "0                 1                    1.00  \n",
       "2             11731                    4.36  \n",
       "4             22547                    2.73  "
      ]
     },
     "execution_count": 26,
     "metadata": {},
     "output_type": "execute_result"
    }
   ],
   "source": [
    "df.loc[[0, 2, 4]]"
   ]
  },
  {
   "cell_type": "code",
   "execution_count": 27,
   "metadata": {},
   "outputs": [
    {
     "data": {
      "application/vnd.microsoft.datawrangler.viewer.v0+json": {
       "columns": [
        {
         "name": "index",
         "rawType": "int64",
         "type": "integer"
        },
        {
         "name": "Total Population",
         "rawType": "int64",
         "type": "integer"
        },
        {
         "name": "Median Age",
         "rawType": "float64",
         "type": "float"
        },
        {
         "name": "Total Males",
         "rawType": "int64",
         "type": "integer"
        }
       ],
       "conversionMethod": "pd.DataFrame",
       "ref": "08ab865b-aaf9-4d30-b66e-91a8c214ba50",
       "rows": [
        [
         "0",
         "1",
         "73.5",
         "0"
        ],
        [
         "1",
         "57110",
         "26.6",
         "28468"
        ],
        [
         "2",
         "51223",
         "25.5",
         "24876"
        ],
        [
         "3",
         "66266",
         "26.3",
         "32631"
        ],
        [
         "4",
         "62180",
         "34.8",
         "31302"
        ],
        [
         "5",
         "37681",
         "33.9",
         "19299"
        ],
        [
         "6",
         "59185",
         "32.4",
         "30254"
        ],
        [
         "7",
         "40920",
         "24.0",
         "20915"
        ],
        [
         "8",
         "32327",
         "39.7",
         "14477"
        ],
        [
         "9",
         "3800",
         "37.8",
         "1874"
        ],
        [
         "10",
         "103892",
         "26.2",
         "52794"
        ],
        [
         "11",
         "31103",
         "36.3",
         "19493"
        ],
        [
         "12",
         "11772",
         "44.6",
         "7629"
        ],
        [
         "13",
         "7005",
         "44.8",
         "4471"
        ],
        [
         "14",
         "18986",
         "31.3",
         "9833"
        ],
        [
         "15",
         "47596",
         "33.9",
         "22778"
        ],
        [
         "16",
         "23768",
         "29.4",
         "12818"
        ],
        [
         "17",
         "49310",
         "33.2",
         "23770"
        ],
        [
         "18",
         "64458",
         "35.8",
         "31442"
        ],
        [
         "19",
         "38967",
         "34.6",
         "19381"
        ],
        [
         "20",
         "3951",
         "44.3",
         "2790"
        ],
        [
         "21",
         "67179",
         "29.8",
         "33216"
        ],
        [
         "22",
         "45903",
         "28.4",
         "23037"
        ],
        [
         "23",
         "47452",
         "23.6",
         "22248"
        ],
        [
         "24",
         "42147",
         "34.7",
         "20859"
        ],
        [
         "25",
         "67869",
         "34.0",
         "34515"
        ],
        [
         "26",
         "45151",
         "38.3",
         "22362"
        ],
        [
         "27",
         "28714",
         "34.0",
         "16056"
        ],
        [
         "28",
         "38617",
         "34.6",
         "19575"
        ],
        [
         "29",
         "39316",
         "33.5",
         "19546"
        ],
        [
         "30",
         "45786",
         "32.4",
         "22564"
        ],
        [
         "31",
         "48852",
         "29.2",
         "24425"
        ],
        [
         "32",
         "57964",
         "32.8",
         "28828"
        ],
        [
         "33",
         "28418",
         "37.5",
         "13326"
        ],
        [
         "34",
         "36865",
         "33.9",
         "17914"
        ],
        [
         "35",
         "62276",
         "28.8",
         "31187"
        ],
        [
         "36",
         "28917",
         "33.1",
         "15383"
        ],
        [
         "37",
         "28514",
         "38.8",
         "14383"
        ],
        [
         "38",
         "12520",
         "31.2",
         "6129"
        ],
        [
         "39",
         "27425",
         "39.0",
         "13212"
        ],
        [
         "40",
         "62430",
         "33.6",
         "30836"
        ],
        [
         "41",
         "44789",
         "38.7",
         "20561"
        ],
        [
         "42",
         "89779",
         "28.6",
         "43128"
        ],
        [
         "43",
         "39480",
         "35.6",
         "18958"
        ],
        [
         "44",
         "48581",
         "38.5",
         "25854"
        ],
        [
         "45",
         "48606",
         "36.2",
         "22129"
        ],
        [
         "46",
         "21397",
         "39.2",
         "10132"
        ],
        [
         "47",
         "35482",
         "41.3",
         "16359"
        ],
        [
         "48",
         "7827",
         "48.4",
         "3436"
        ],
        [
         "49",
         "44998",
         "31.2",
         "24300"
        ]
       ],
       "shape": {
        "columns": 3,
        "rows": 319
       }
      },
      "text/html": [
       "<div>\n",
       "<style scoped>\n",
       "    .dataframe tbody tr th:only-of-type {\n",
       "        vertical-align: middle;\n",
       "    }\n",
       "\n",
       "    .dataframe tbody tr th {\n",
       "        vertical-align: top;\n",
       "    }\n",
       "\n",
       "    .dataframe thead th {\n",
       "        text-align: right;\n",
       "    }\n",
       "</style>\n",
       "<table border=\"1\" class=\"dataframe\">\n",
       "  <thead>\n",
       "    <tr style=\"text-align: right;\">\n",
       "      <th></th>\n",
       "      <th>Total Population</th>\n",
       "      <th>Median Age</th>\n",
       "      <th>Total Males</th>\n",
       "    </tr>\n",
       "  </thead>\n",
       "  <tbody>\n",
       "    <tr>\n",
       "      <th>0</th>\n",
       "      <td>1</td>\n",
       "      <td>73.5</td>\n",
       "      <td>0</td>\n",
       "    </tr>\n",
       "    <tr>\n",
       "      <th>1</th>\n",
       "      <td>57110</td>\n",
       "      <td>26.6</td>\n",
       "      <td>28468</td>\n",
       "    </tr>\n",
       "    <tr>\n",
       "      <th>2</th>\n",
       "      <td>51223</td>\n",
       "      <td>25.5</td>\n",
       "      <td>24876</td>\n",
       "    </tr>\n",
       "    <tr>\n",
       "      <th>3</th>\n",
       "      <td>66266</td>\n",
       "      <td>26.3</td>\n",
       "      <td>32631</td>\n",
       "    </tr>\n",
       "    <tr>\n",
       "      <th>4</th>\n",
       "      <td>62180</td>\n",
       "      <td>34.8</td>\n",
       "      <td>31302</td>\n",
       "    </tr>\n",
       "    <tr>\n",
       "      <th>...</th>\n",
       "      <td>...</td>\n",
       "      <td>...</td>\n",
       "      <td>...</td>\n",
       "    </tr>\n",
       "    <tr>\n",
       "      <th>314</th>\n",
       "      <td>38158</td>\n",
       "      <td>28.4</td>\n",
       "      <td>18711</td>\n",
       "    </tr>\n",
       "    <tr>\n",
       "      <th>315</th>\n",
       "      <td>2138</td>\n",
       "      <td>43.3</td>\n",
       "      <td>1121</td>\n",
       "    </tr>\n",
       "    <tr>\n",
       "      <th>316</th>\n",
       "      <td>18910</td>\n",
       "      <td>32.4</td>\n",
       "      <td>9491</td>\n",
       "    </tr>\n",
       "    <tr>\n",
       "      <th>317</th>\n",
       "      <td>388</td>\n",
       "      <td>44.5</td>\n",
       "      <td>263</td>\n",
       "    </tr>\n",
       "    <tr>\n",
       "      <th>318</th>\n",
       "      <td>7285</td>\n",
       "      <td>30.9</td>\n",
       "      <td>3653</td>\n",
       "    </tr>\n",
       "  </tbody>\n",
       "</table>\n",
       "<p>319 rows × 3 columns</p>\n",
       "</div>"
      ],
      "text/plain": [
       "     Total Population  Median Age  Total Males\n",
       "0                   1        73.5            0\n",
       "1               57110        26.6        28468\n",
       "2               51223        25.5        24876\n",
       "3               66266        26.3        32631\n",
       "4               62180        34.8        31302\n",
       "..                ...         ...          ...\n",
       "314             38158        28.4        18711\n",
       "315              2138        43.3         1121\n",
       "316             18910        32.4         9491\n",
       "317               388        44.5          263\n",
       "318              7285        30.9         3653\n",
       "\n",
       "[319 rows x 3 columns]"
      ]
     },
     "execution_count": 27,
     "metadata": {},
     "output_type": "execute_result"
    }
   ],
   "source": [
    "df.loc[:, 'Total Population':'Total Males']"
   ]
  },
  {
   "cell_type": "code",
   "execution_count": 28,
   "metadata": {},
   "outputs": [
    {
     "data": {
      "application/vnd.microsoft.datawrangler.viewer.v0+json": {
       "columns": [
        {
         "name": "index",
         "rawType": "int64",
         "type": "integer"
        },
        {
         "name": "Median Age",
         "rawType": "float64",
         "type": "float"
        },
        {
         "name": "Total Males",
         "rawType": "int64",
         "type": "integer"
        },
        {
         "name": "Total Females",
         "rawType": "int64",
         "type": "integer"
        },
        {
         "name": "Total Households",
         "rawType": "int64",
         "type": "integer"
        },
        {
         "name": "Average Household Size",
         "rawType": "float64",
         "type": "float"
        }
       ],
       "conversionMethod": "pd.DataFrame",
       "ref": "7e393d93-36e9-4670-83d2-0331734458eb",
       "rows": [
        [
         "0",
         "73.5",
         "0",
         "1",
         "1",
         "1.0"
        ],
        [
         "2",
         "25.5",
         "24876",
         "26347",
         "11731",
         "4.36"
        ]
       ],
       "shape": {
        "columns": 5,
        "rows": 2
       }
      },
      "text/html": [
       "<div>\n",
       "<style scoped>\n",
       "    .dataframe tbody tr th:only-of-type {\n",
       "        vertical-align: middle;\n",
       "    }\n",
       "\n",
       "    .dataframe tbody tr th {\n",
       "        vertical-align: top;\n",
       "    }\n",
       "\n",
       "    .dataframe thead th {\n",
       "        text-align: right;\n",
       "    }\n",
       "</style>\n",
       "<table border=\"1\" class=\"dataframe\">\n",
       "  <thead>\n",
       "    <tr style=\"text-align: right;\">\n",
       "      <th></th>\n",
       "      <th>Median Age</th>\n",
       "      <th>Total Males</th>\n",
       "      <th>Total Females</th>\n",
       "      <th>Total Households</th>\n",
       "      <th>Average Household Size</th>\n",
       "    </tr>\n",
       "  </thead>\n",
       "  <tbody>\n",
       "    <tr>\n",
       "      <th>0</th>\n",
       "      <td>73.5</td>\n",
       "      <td>0</td>\n",
       "      <td>1</td>\n",
       "      <td>1</td>\n",
       "      <td>1.00</td>\n",
       "    </tr>\n",
       "    <tr>\n",
       "      <th>2</th>\n",
       "      <td>25.5</td>\n",
       "      <td>24876</td>\n",
       "      <td>26347</td>\n",
       "      <td>11731</td>\n",
       "      <td>4.36</td>\n",
       "    </tr>\n",
       "  </tbody>\n",
       "</table>\n",
       "</div>"
      ],
      "text/plain": [
       "   Median Age  Total Males  Total Females  Total Households  \\\n",
       "0        73.5            0              1                 1   \n",
       "2        25.5        24876          26347             11731   \n",
       "\n",
       "   Average Household Size  \n",
       "0                    1.00  \n",
       "2                    4.36  "
      ]
     },
     "execution_count": 28,
     "metadata": {},
     "output_type": "execute_result"
    }
   ],
   "source": [
    "df.loc[[0, 2], 'Median Age':]"
   ]
  },
  {
   "cell_type": "markdown",
   "metadata": {},
   "source": [
    "# 数据增减"
   ]
  },
  {
   "cell_type": "markdown",
   "metadata": {},
   "source": [
    "虽然我们可以通过数据选择方法从一个完整的数据集中拿到我们需要的数据，但有的时候直接删除不需要的数据更加简单直接。Pandas 中，以 .drop 开头的方法都与数据删减有关。"
   ]
  },
  {
   "cell_type": "markdown",
   "metadata": {},
   "source": [
    "DataFrame.drop 可以直接去掉数据集中指定的列和行。一般在使用时，我们指定 labels 标签参数，然后再通过 axis 指定按列或按行删除即可。当然，你也可以通过索引参数删除数据，具体查看官方文档"
   ]
  },
  {
   "cell_type": "code",
   "execution_count": 29,
   "metadata": {},
   "outputs": [
    {
     "data": {
      "application/vnd.microsoft.datawrangler.viewer.v0+json": {
       "columns": [
        {
         "name": "index",
         "rawType": "int64",
         "type": "integer"
        },
        {
         "name": "Zip Code",
         "rawType": "int64",
         "type": "integer"
        },
        {
         "name": "Total Population",
         "rawType": "int64",
         "type": "integer"
        },
        {
         "name": "Total Females",
         "rawType": "int64",
         "type": "integer"
        },
        {
         "name": "Total Households",
         "rawType": "int64",
         "type": "integer"
        },
        {
         "name": "Average Household Size",
         "rawType": "float64",
         "type": "float"
        }
       ],
       "conversionMethod": "pd.DataFrame",
       "ref": "687c5c89-66be-4414-b372-e40c8e54efe8",
       "rows": [
        [
         "0",
         "91371",
         "1",
         "1",
         "1",
         "1.0"
        ],
        [
         "1",
         "90001",
         "57110",
         "28642",
         "12971",
         "4.4"
        ],
        [
         "2",
         "90002",
         "51223",
         "26347",
         "11731",
         "4.36"
        ],
        [
         "3",
         "90003",
         "66266",
         "33635",
         "15642",
         "4.22"
        ],
        [
         "4",
         "90004",
         "62180",
         "30878",
         "22547",
         "2.73"
        ],
        [
         "5",
         "90005",
         "37681",
         "18382",
         "15044",
         "2.5"
        ],
        [
         "6",
         "90006",
         "59185",
         "28931",
         "18617",
         "3.13"
        ],
        [
         "7",
         "90007",
         "40920",
         "20005",
         "11944",
         "3.0"
        ],
        [
         "8",
         "90008",
         "32327",
         "17850",
         "13841",
         "2.33"
        ],
        [
         "9",
         "90010",
         "3800",
         "1926",
         "2014",
         "1.87"
        ],
        [
         "10",
         "90011",
         "103892",
         "51098",
         "22168",
         "4.67"
        ],
        [
         "11",
         "90012",
         "31103",
         "11610",
         "10327",
         "2.12"
        ],
        [
         "12",
         "90013",
         "11772",
         "4143",
         "6416",
         "1.26"
        ],
        [
         "13",
         "90014",
         "7005",
         "2534",
         "4109",
         "1.34"
        ],
        [
         "14",
         "90015",
         "18986",
         "9153",
         "7420",
         "2.45"
        ],
        [
         "15",
         "90016",
         "47596",
         "24818",
         "16145",
         "2.93"
        ],
        [
         "16",
         "90017",
         "23768",
         "10950",
         "9338",
         "2.53"
        ],
        [
         "17",
         "90018",
         "49310",
         "25540",
         "15493",
         "3.12"
        ],
        [
         "18",
         "90019",
         "64458",
         "33016",
         "23344",
         "2.7"
        ],
        [
         "19",
         "90020",
         "38967",
         "19586",
         "16514",
         "2.35"
        ],
        [
         "20",
         "90021",
         "3951",
         "1161",
         "1561",
         "1.57"
        ],
        [
         "21",
         "90022",
         "67179",
         "33963",
         "17023",
         "3.94"
        ],
        [
         "22",
         "90023",
         "45903",
         "22866",
         "10727",
         "4.26"
        ],
        [
         "23",
         "90024",
         "47452",
         "25204",
         "17903",
         "2.03"
        ],
        [
         "24",
         "90025",
         "42147",
         "21288",
         "21228",
         "1.97"
        ],
        [
         "25",
         "90026",
         "67869",
         "33354",
         "24956",
         "2.68"
        ],
        [
         "26",
         "90027",
         "45151",
         "22789",
         "21929",
         "1.99"
        ],
        [
         "27",
         "90028",
         "28714",
         "12658",
         "14964",
         "1.78"
        ],
        [
         "28",
         "90029",
         "38617",
         "19042",
         "13883",
         "2.7"
        ],
        [
         "29",
         "90031",
         "39316",
         "19770",
         "11156",
         "3.49"
        ],
        [
         "30",
         "90032",
         "45786",
         "23222",
         "12765",
         "3.52"
        ],
        [
         "31",
         "90033",
         "48852",
         "24427",
         "12924",
         "3.66"
        ],
        [
         "32",
         "90034",
         "57964",
         "29136",
         "25592",
         "2.23"
        ],
        [
         "33",
         "90035",
         "28418",
         "15092",
         "12814",
         "2.19"
        ],
        [
         "34",
         "90036",
         "36865",
         "18951",
         "18646",
         "1.96"
        ],
        [
         "35",
         "90037",
         "62276",
         "31089",
         "15869",
         "3.85"
        ],
        [
         "36",
         "90038",
         "28917",
         "13534",
         "11928",
         "2.41"
        ],
        [
         "37",
         "90039",
         "28514",
         "14131",
         "11436",
         "2.47"
        ],
        [
         "38",
         "90040",
         "12520",
         "6391",
         "3317",
         "3.75"
        ],
        [
         "39",
         "90041",
         "27425",
         "14213",
         "9513",
         "2.71"
        ],
        [
         "40",
         "90042",
         "62430",
         "31594",
         "19892",
         "3.11"
        ],
        [
         "41",
         "90043",
         "44789",
         "24228",
         "16075",
         "2.76"
        ],
        [
         "42",
         "90044",
         "89779",
         "46651",
         "25144",
         "3.55"
        ],
        [
         "43",
         "90045",
         "39480",
         "20522",
         "15224",
         "2.37"
        ],
        [
         "44",
         "90046",
         "48581",
         "22727",
         "28534",
         "1.69"
        ],
        [
         "45",
         "90047",
         "48606",
         "26477",
         "16168",
         "2.99"
        ],
        [
         "46",
         "90048",
         "21397",
         "11265",
         "11821",
         "1.77"
        ],
        [
         "47",
         "90049",
         "35482",
         "19123",
         "16657",
         "2.09"
        ],
        [
         "48",
         "90056",
         "7827",
         "4391",
         "3371",
         "2.32"
        ],
        [
         "49",
         "90057",
         "44998",
         "20698",
         "15658",
         "2.81"
        ]
       ],
       "shape": {
        "columns": 5,
        "rows": 319
       }
      },
      "text/html": [
       "<div>\n",
       "<style scoped>\n",
       "    .dataframe tbody tr th:only-of-type {\n",
       "        vertical-align: middle;\n",
       "    }\n",
       "\n",
       "    .dataframe tbody tr th {\n",
       "        vertical-align: top;\n",
       "    }\n",
       "\n",
       "    .dataframe thead th {\n",
       "        text-align: right;\n",
       "    }\n",
       "</style>\n",
       "<table border=\"1\" class=\"dataframe\">\n",
       "  <thead>\n",
       "    <tr style=\"text-align: right;\">\n",
       "      <th></th>\n",
       "      <th>Zip Code</th>\n",
       "      <th>Total Population</th>\n",
       "      <th>Total Females</th>\n",
       "      <th>Total Households</th>\n",
       "      <th>Average Household Size</th>\n",
       "    </tr>\n",
       "  </thead>\n",
       "  <tbody>\n",
       "    <tr>\n",
       "      <th>0</th>\n",
       "      <td>91371</td>\n",
       "      <td>1</td>\n",
       "      <td>1</td>\n",
       "      <td>1</td>\n",
       "      <td>1.00</td>\n",
       "    </tr>\n",
       "    <tr>\n",
       "      <th>1</th>\n",
       "      <td>90001</td>\n",
       "      <td>57110</td>\n",
       "      <td>28642</td>\n",
       "      <td>12971</td>\n",
       "      <td>4.40</td>\n",
       "    </tr>\n",
       "    <tr>\n",
       "      <th>2</th>\n",
       "      <td>90002</td>\n",
       "      <td>51223</td>\n",
       "      <td>26347</td>\n",
       "      <td>11731</td>\n",
       "      <td>4.36</td>\n",
       "    </tr>\n",
       "    <tr>\n",
       "      <th>3</th>\n",
       "      <td>90003</td>\n",
       "      <td>66266</td>\n",
       "      <td>33635</td>\n",
       "      <td>15642</td>\n",
       "      <td>4.22</td>\n",
       "    </tr>\n",
       "    <tr>\n",
       "      <th>4</th>\n",
       "      <td>90004</td>\n",
       "      <td>62180</td>\n",
       "      <td>30878</td>\n",
       "      <td>22547</td>\n",
       "      <td>2.73</td>\n",
       "    </tr>\n",
       "    <tr>\n",
       "      <th>...</th>\n",
       "      <td>...</td>\n",
       "      <td>...</td>\n",
       "      <td>...</td>\n",
       "      <td>...</td>\n",
       "      <td>...</td>\n",
       "    </tr>\n",
       "    <tr>\n",
       "      <th>314</th>\n",
       "      <td>93552</td>\n",
       "      <td>38158</td>\n",
       "      <td>19447</td>\n",
       "      <td>9690</td>\n",
       "      <td>3.93</td>\n",
       "    </tr>\n",
       "    <tr>\n",
       "      <th>315</th>\n",
       "      <td>93553</td>\n",
       "      <td>2138</td>\n",
       "      <td>1017</td>\n",
       "      <td>816</td>\n",
       "      <td>2.62</td>\n",
       "    </tr>\n",
       "    <tr>\n",
       "      <th>316</th>\n",
       "      <td>93560</td>\n",
       "      <td>18910</td>\n",
       "      <td>9419</td>\n",
       "      <td>6469</td>\n",
       "      <td>2.92</td>\n",
       "    </tr>\n",
       "    <tr>\n",
       "      <th>317</th>\n",
       "      <td>93563</td>\n",
       "      <td>388</td>\n",
       "      <td>125</td>\n",
       "      <td>103</td>\n",
       "      <td>2.53</td>\n",
       "    </tr>\n",
       "    <tr>\n",
       "      <th>318</th>\n",
       "      <td>93591</td>\n",
       "      <td>7285</td>\n",
       "      <td>3632</td>\n",
       "      <td>1982</td>\n",
       "      <td>3.67</td>\n",
       "    </tr>\n",
       "  </tbody>\n",
       "</table>\n",
       "<p>319 rows × 5 columns</p>\n",
       "</div>"
      ],
      "text/plain": [
       "     Zip Code  Total Population  Total Females  Total Households  \\\n",
       "0       91371                 1              1                 1   \n",
       "1       90001             57110          28642             12971   \n",
       "2       90002             51223          26347             11731   \n",
       "3       90003             66266          33635             15642   \n",
       "4       90004             62180          30878             22547   \n",
       "..        ...               ...            ...               ...   \n",
       "314     93552             38158          19447              9690   \n",
       "315     93553              2138           1017               816   \n",
       "316     93560             18910           9419              6469   \n",
       "317     93563               388            125               103   \n",
       "318     93591              7285           3632              1982   \n",
       "\n",
       "     Average Household Size  \n",
       "0                      1.00  \n",
       "1                      4.40  \n",
       "2                      4.36  \n",
       "3                      4.22  \n",
       "4                      2.73  \n",
       "..                      ...  \n",
       "314                    3.93  \n",
       "315                    2.62  \n",
       "316                    2.92  \n",
       "317                    2.53  \n",
       "318                    3.67  \n",
       "\n",
       "[319 rows x 5 columns]"
      ]
     },
     "execution_count": 29,
     "metadata": {},
     "output_type": "execute_result"
    }
   ],
   "source": [
    "df.drop(labels=['Median Age', 'Total Males'], axis=1)"
   ]
  },
  {
   "cell_type": "markdown",
   "metadata": {},
   "source": [
    "DataFrame.drop_duplicates 则通常用于数据去重，即剔除数据集中的重复值。使用方法非常简单，默认情况下，它会根据所有列删除重复的行。也可以使用 subset 指定要删除的特定列上的重复项，要删除重复项并保留最后一次出现，请使用 keep='last'。\n",
    "\n"
   ]
  },
  {
   "cell_type": "code",
   "execution_count": 30,
   "metadata": {},
   "outputs": [
    {
     "data": {
      "application/vnd.microsoft.datawrangler.viewer.v0+json": {
       "columns": [
        {
         "name": "index",
         "rawType": "int64",
         "type": "integer"
        },
        {
         "name": "Zip Code",
         "rawType": "int64",
         "type": "integer"
        },
        {
         "name": "Total Population",
         "rawType": "int64",
         "type": "integer"
        },
        {
         "name": "Median Age",
         "rawType": "float64",
         "type": "float"
        },
        {
         "name": "Total Males",
         "rawType": "int64",
         "type": "integer"
        },
        {
         "name": "Total Females",
         "rawType": "int64",
         "type": "integer"
        },
        {
         "name": "Total Households",
         "rawType": "int64",
         "type": "integer"
        },
        {
         "name": "Average Household Size",
         "rawType": "float64",
         "type": "float"
        }
       ],
       "conversionMethod": "pd.DataFrame",
       "ref": "d33dc060-c51e-40b9-b866-8643af1cec16",
       "rows": [
        [
         "0",
         "91371",
         "1",
         "73.5",
         "0",
         "1",
         "1",
         "1.0"
        ],
        [
         "1",
         "90001",
         "57110",
         "26.6",
         "28468",
         "28642",
         "12971",
         "4.4"
        ],
        [
         "2",
         "90002",
         "51223",
         "25.5",
         "24876",
         "26347",
         "11731",
         "4.36"
        ],
        [
         "3",
         "90003",
         "66266",
         "26.3",
         "32631",
         "33635",
         "15642",
         "4.22"
        ],
        [
         "4",
         "90004",
         "62180",
         "34.8",
         "31302",
         "30878",
         "22547",
         "2.73"
        ],
        [
         "5",
         "90005",
         "37681",
         "33.9",
         "19299",
         "18382",
         "15044",
         "2.5"
        ],
        [
         "6",
         "90006",
         "59185",
         "32.4",
         "30254",
         "28931",
         "18617",
         "3.13"
        ],
        [
         "7",
         "90007",
         "40920",
         "24.0",
         "20915",
         "20005",
         "11944",
         "3.0"
        ],
        [
         "8",
         "90008",
         "32327",
         "39.7",
         "14477",
         "17850",
         "13841",
         "2.33"
        ],
        [
         "9",
         "90010",
         "3800",
         "37.8",
         "1874",
         "1926",
         "2014",
         "1.87"
        ],
        [
         "10",
         "90011",
         "103892",
         "26.2",
         "52794",
         "51098",
         "22168",
         "4.67"
        ],
        [
         "11",
         "90012",
         "31103",
         "36.3",
         "19493",
         "11610",
         "10327",
         "2.12"
        ],
        [
         "12",
         "90013",
         "11772",
         "44.6",
         "7629",
         "4143",
         "6416",
         "1.26"
        ],
        [
         "13",
         "90014",
         "7005",
         "44.8",
         "4471",
         "2534",
         "4109",
         "1.34"
        ],
        [
         "14",
         "90015",
         "18986",
         "31.3",
         "9833",
         "9153",
         "7420",
         "2.45"
        ],
        [
         "15",
         "90016",
         "47596",
         "33.9",
         "22778",
         "24818",
         "16145",
         "2.93"
        ],
        [
         "16",
         "90017",
         "23768",
         "29.4",
         "12818",
         "10950",
         "9338",
         "2.53"
        ],
        [
         "17",
         "90018",
         "49310",
         "33.2",
         "23770",
         "25540",
         "15493",
         "3.12"
        ],
        [
         "18",
         "90019",
         "64458",
         "35.8",
         "31442",
         "33016",
         "23344",
         "2.7"
        ],
        [
         "19",
         "90020",
         "38967",
         "34.6",
         "19381",
         "19586",
         "16514",
         "2.35"
        ],
        [
         "20",
         "90021",
         "3951",
         "44.3",
         "2790",
         "1161",
         "1561",
         "1.57"
        ],
        [
         "21",
         "90022",
         "67179",
         "29.8",
         "33216",
         "33963",
         "17023",
         "3.94"
        ],
        [
         "22",
         "90023",
         "45903",
         "28.4",
         "23037",
         "22866",
         "10727",
         "4.26"
        ],
        [
         "23",
         "90024",
         "47452",
         "23.6",
         "22248",
         "25204",
         "17903",
         "2.03"
        ],
        [
         "24",
         "90025",
         "42147",
         "34.7",
         "20859",
         "21288",
         "21228",
         "1.97"
        ],
        [
         "25",
         "90026",
         "67869",
         "34.0",
         "34515",
         "33354",
         "24956",
         "2.68"
        ],
        [
         "26",
         "90027",
         "45151",
         "38.3",
         "22362",
         "22789",
         "21929",
         "1.99"
        ],
        [
         "27",
         "90028",
         "28714",
         "34.0",
         "16056",
         "12658",
         "14964",
         "1.78"
        ],
        [
         "28",
         "90029",
         "38617",
         "34.6",
         "19575",
         "19042",
         "13883",
         "2.7"
        ],
        [
         "29",
         "90031",
         "39316",
         "33.5",
         "19546",
         "19770",
         "11156",
         "3.49"
        ],
        [
         "30",
         "90032",
         "45786",
         "32.4",
         "22564",
         "23222",
         "12765",
         "3.52"
        ],
        [
         "31",
         "90033",
         "48852",
         "29.2",
         "24425",
         "24427",
         "12924",
         "3.66"
        ],
        [
         "32",
         "90034",
         "57964",
         "32.8",
         "28828",
         "29136",
         "25592",
         "2.23"
        ],
        [
         "33",
         "90035",
         "28418",
         "37.5",
         "13326",
         "15092",
         "12814",
         "2.19"
        ],
        [
         "34",
         "90036",
         "36865",
         "33.9",
         "17914",
         "18951",
         "18646",
         "1.96"
        ],
        [
         "35",
         "90037",
         "62276",
         "28.8",
         "31187",
         "31089",
         "15869",
         "3.85"
        ],
        [
         "36",
         "90038",
         "28917",
         "33.1",
         "15383",
         "13534",
         "11928",
         "2.41"
        ],
        [
         "37",
         "90039",
         "28514",
         "38.8",
         "14383",
         "14131",
         "11436",
         "2.47"
        ],
        [
         "38",
         "90040",
         "12520",
         "31.2",
         "6129",
         "6391",
         "3317",
         "3.75"
        ],
        [
         "39",
         "90041",
         "27425",
         "39.0",
         "13212",
         "14213",
         "9513",
         "2.71"
        ],
        [
         "40",
         "90042",
         "62430",
         "33.6",
         "30836",
         "31594",
         "19892",
         "3.11"
        ],
        [
         "41",
         "90043",
         "44789",
         "38.7",
         "20561",
         "24228",
         "16075",
         "2.76"
        ],
        [
         "42",
         "90044",
         "89779",
         "28.6",
         "43128",
         "46651",
         "25144",
         "3.55"
        ],
        [
         "43",
         "90045",
         "39480",
         "35.6",
         "18958",
         "20522",
         "15224",
         "2.37"
        ],
        [
         "44",
         "90046",
         "48581",
         "38.5",
         "25854",
         "22727",
         "28534",
         "1.69"
        ],
        [
         "45",
         "90047",
         "48606",
         "36.2",
         "22129",
         "26477",
         "16168",
         "2.99"
        ],
        [
         "46",
         "90048",
         "21397",
         "39.2",
         "10132",
         "11265",
         "11821",
         "1.77"
        ],
        [
         "47",
         "90049",
         "35482",
         "41.3",
         "16359",
         "19123",
         "16657",
         "2.09"
        ],
        [
         "48",
         "90056",
         "7827",
         "48.4",
         "3436",
         "4391",
         "3371",
         "2.32"
        ],
        [
         "49",
         "90057",
         "44998",
         "31.2",
         "24300",
         "20698",
         "15658",
         "2.81"
        ]
       ],
       "shape": {
        "columns": 7,
        "rows": 319
       }
      },
      "text/html": [
       "<div>\n",
       "<style scoped>\n",
       "    .dataframe tbody tr th:only-of-type {\n",
       "        vertical-align: middle;\n",
       "    }\n",
       "\n",
       "    .dataframe tbody tr th {\n",
       "        vertical-align: top;\n",
       "    }\n",
       "\n",
       "    .dataframe thead th {\n",
       "        text-align: right;\n",
       "    }\n",
       "</style>\n",
       "<table border=\"1\" class=\"dataframe\">\n",
       "  <thead>\n",
       "    <tr style=\"text-align: right;\">\n",
       "      <th></th>\n",
       "      <th>Zip Code</th>\n",
       "      <th>Total Population</th>\n",
       "      <th>Median Age</th>\n",
       "      <th>Total Males</th>\n",
       "      <th>Total Females</th>\n",
       "      <th>Total Households</th>\n",
       "      <th>Average Household Size</th>\n",
       "    </tr>\n",
       "  </thead>\n",
       "  <tbody>\n",
       "    <tr>\n",
       "      <th>0</th>\n",
       "      <td>91371</td>\n",
       "      <td>1</td>\n",
       "      <td>73.5</td>\n",
       "      <td>0</td>\n",
       "      <td>1</td>\n",
       "      <td>1</td>\n",
       "      <td>1.00</td>\n",
       "    </tr>\n",
       "    <tr>\n",
       "      <th>1</th>\n",
       "      <td>90001</td>\n",
       "      <td>57110</td>\n",
       "      <td>26.6</td>\n",
       "      <td>28468</td>\n",
       "      <td>28642</td>\n",
       "      <td>12971</td>\n",
       "      <td>4.40</td>\n",
       "    </tr>\n",
       "    <tr>\n",
       "      <th>2</th>\n",
       "      <td>90002</td>\n",
       "      <td>51223</td>\n",
       "      <td>25.5</td>\n",
       "      <td>24876</td>\n",
       "      <td>26347</td>\n",
       "      <td>11731</td>\n",
       "      <td>4.36</td>\n",
       "    </tr>\n",
       "    <tr>\n",
       "      <th>3</th>\n",
       "      <td>90003</td>\n",
       "      <td>66266</td>\n",
       "      <td>26.3</td>\n",
       "      <td>32631</td>\n",
       "      <td>33635</td>\n",
       "      <td>15642</td>\n",
       "      <td>4.22</td>\n",
       "    </tr>\n",
       "    <tr>\n",
       "      <th>4</th>\n",
       "      <td>90004</td>\n",
       "      <td>62180</td>\n",
       "      <td>34.8</td>\n",
       "      <td>31302</td>\n",
       "      <td>30878</td>\n",
       "      <td>22547</td>\n",
       "      <td>2.73</td>\n",
       "    </tr>\n",
       "    <tr>\n",
       "      <th>...</th>\n",
       "      <td>...</td>\n",
       "      <td>...</td>\n",
       "      <td>...</td>\n",
       "      <td>...</td>\n",
       "      <td>...</td>\n",
       "      <td>...</td>\n",
       "      <td>...</td>\n",
       "    </tr>\n",
       "    <tr>\n",
       "      <th>314</th>\n",
       "      <td>93552</td>\n",
       "      <td>38158</td>\n",
       "      <td>28.4</td>\n",
       "      <td>18711</td>\n",
       "      <td>19447</td>\n",
       "      <td>9690</td>\n",
       "      <td>3.93</td>\n",
       "    </tr>\n",
       "    <tr>\n",
       "      <th>315</th>\n",
       "      <td>93553</td>\n",
       "      <td>2138</td>\n",
       "      <td>43.3</td>\n",
       "      <td>1121</td>\n",
       "      <td>1017</td>\n",
       "      <td>816</td>\n",
       "      <td>2.62</td>\n",
       "    </tr>\n",
       "    <tr>\n",
       "      <th>316</th>\n",
       "      <td>93560</td>\n",
       "      <td>18910</td>\n",
       "      <td>32.4</td>\n",
       "      <td>9491</td>\n",
       "      <td>9419</td>\n",
       "      <td>6469</td>\n",
       "      <td>2.92</td>\n",
       "    </tr>\n",
       "    <tr>\n",
       "      <th>317</th>\n",
       "      <td>93563</td>\n",
       "      <td>388</td>\n",
       "      <td>44.5</td>\n",
       "      <td>263</td>\n",
       "      <td>125</td>\n",
       "      <td>103</td>\n",
       "      <td>2.53</td>\n",
       "    </tr>\n",
       "    <tr>\n",
       "      <th>318</th>\n",
       "      <td>93591</td>\n",
       "      <td>7285</td>\n",
       "      <td>30.9</td>\n",
       "      <td>3653</td>\n",
       "      <td>3632</td>\n",
       "      <td>1982</td>\n",
       "      <td>3.67</td>\n",
       "    </tr>\n",
       "  </tbody>\n",
       "</table>\n",
       "<p>319 rows × 7 columns</p>\n",
       "</div>"
      ],
      "text/plain": [
       "     Zip Code  Total Population  Median Age  Total Males  Total Females  \\\n",
       "0       91371                 1        73.5            0              1   \n",
       "1       90001             57110        26.6        28468          28642   \n",
       "2       90002             51223        25.5        24876          26347   \n",
       "3       90003             66266        26.3        32631          33635   \n",
       "4       90004             62180        34.8        31302          30878   \n",
       "..        ...               ...         ...          ...            ...   \n",
       "314     93552             38158        28.4        18711          19447   \n",
       "315     93553              2138        43.3         1121           1017   \n",
       "316     93560             18910        32.4         9491           9419   \n",
       "317     93563               388        44.5          263            125   \n",
       "318     93591              7285        30.9         3653           3632   \n",
       "\n",
       "     Total Households  Average Household Size  \n",
       "0                   1                    1.00  \n",
       "1               12971                    4.40  \n",
       "2               11731                    4.36  \n",
       "3               15642                    4.22  \n",
       "4               22547                    2.73  \n",
       "..                ...                     ...  \n",
       "314              9690                    3.93  \n",
       "315               816                    2.62  \n",
       "316              6469                    2.92  \n",
       "317               103                    2.53  \n",
       "318              1982                    3.67  \n",
       "\n",
       "[319 rows x 7 columns]"
      ]
     },
     "execution_count": 30,
     "metadata": {},
     "output_type": "execute_result"
    }
   ],
   "source": [
    "df.drop_duplicates()"
   ]
  },
  {
   "cell_type": "markdown",
   "metadata": {},
   "source": [
    "除此之外，另一个用于数据删减的方法 DataFrame.dropna 也十分常用，其主要的用途是删除缺少值，即数据集中空缺的数据列或行。"
   ]
  },
  {
   "cell_type": "code",
   "execution_count": 31,
   "metadata": {},
   "outputs": [
    {
     "data": {
      "application/vnd.microsoft.datawrangler.viewer.v0+json": {
       "columns": [
        {
         "name": "index",
         "rawType": "int64",
         "type": "integer"
        },
        {
         "name": "Zip Code",
         "rawType": "int64",
         "type": "integer"
        },
        {
         "name": "Total Population",
         "rawType": "int64",
         "type": "integer"
        },
        {
         "name": "Median Age",
         "rawType": "float64",
         "type": "float"
        },
        {
         "name": "Total Males",
         "rawType": "int64",
         "type": "integer"
        },
        {
         "name": "Total Females",
         "rawType": "int64",
         "type": "integer"
        },
        {
         "name": "Total Households",
         "rawType": "int64",
         "type": "integer"
        },
        {
         "name": "Average Household Size",
         "rawType": "float64",
         "type": "float"
        }
       ],
       "conversionMethod": "pd.DataFrame",
       "ref": "4b00faf9-ba47-453e-a64b-cf7ffafe2404",
       "rows": [
        [
         "0",
         "91371",
         "1",
         "73.5",
         "0",
         "1",
         "1",
         "1.0"
        ],
        [
         "1",
         "90001",
         "57110",
         "26.6",
         "28468",
         "28642",
         "12971",
         "4.4"
        ],
        [
         "2",
         "90002",
         "51223",
         "25.5",
         "24876",
         "26347",
         "11731",
         "4.36"
        ],
        [
         "3",
         "90003",
         "66266",
         "26.3",
         "32631",
         "33635",
         "15642",
         "4.22"
        ],
        [
         "4",
         "90004",
         "62180",
         "34.8",
         "31302",
         "30878",
         "22547",
         "2.73"
        ],
        [
         "5",
         "90005",
         "37681",
         "33.9",
         "19299",
         "18382",
         "15044",
         "2.5"
        ],
        [
         "6",
         "90006",
         "59185",
         "32.4",
         "30254",
         "28931",
         "18617",
         "3.13"
        ],
        [
         "7",
         "90007",
         "40920",
         "24.0",
         "20915",
         "20005",
         "11944",
         "3.0"
        ],
        [
         "8",
         "90008",
         "32327",
         "39.7",
         "14477",
         "17850",
         "13841",
         "2.33"
        ],
        [
         "9",
         "90010",
         "3800",
         "37.8",
         "1874",
         "1926",
         "2014",
         "1.87"
        ],
        [
         "10",
         "90011",
         "103892",
         "26.2",
         "52794",
         "51098",
         "22168",
         "4.67"
        ],
        [
         "11",
         "90012",
         "31103",
         "36.3",
         "19493",
         "11610",
         "10327",
         "2.12"
        ],
        [
         "12",
         "90013",
         "11772",
         "44.6",
         "7629",
         "4143",
         "6416",
         "1.26"
        ],
        [
         "13",
         "90014",
         "7005",
         "44.8",
         "4471",
         "2534",
         "4109",
         "1.34"
        ],
        [
         "14",
         "90015",
         "18986",
         "31.3",
         "9833",
         "9153",
         "7420",
         "2.45"
        ],
        [
         "15",
         "90016",
         "47596",
         "33.9",
         "22778",
         "24818",
         "16145",
         "2.93"
        ],
        [
         "16",
         "90017",
         "23768",
         "29.4",
         "12818",
         "10950",
         "9338",
         "2.53"
        ],
        [
         "17",
         "90018",
         "49310",
         "33.2",
         "23770",
         "25540",
         "15493",
         "3.12"
        ],
        [
         "18",
         "90019",
         "64458",
         "35.8",
         "31442",
         "33016",
         "23344",
         "2.7"
        ],
        [
         "19",
         "90020",
         "38967",
         "34.6",
         "19381",
         "19586",
         "16514",
         "2.35"
        ],
        [
         "20",
         "90021",
         "3951",
         "44.3",
         "2790",
         "1161",
         "1561",
         "1.57"
        ],
        [
         "21",
         "90022",
         "67179",
         "29.8",
         "33216",
         "33963",
         "17023",
         "3.94"
        ],
        [
         "22",
         "90023",
         "45903",
         "28.4",
         "23037",
         "22866",
         "10727",
         "4.26"
        ],
        [
         "23",
         "90024",
         "47452",
         "23.6",
         "22248",
         "25204",
         "17903",
         "2.03"
        ],
        [
         "24",
         "90025",
         "42147",
         "34.7",
         "20859",
         "21288",
         "21228",
         "1.97"
        ],
        [
         "25",
         "90026",
         "67869",
         "34.0",
         "34515",
         "33354",
         "24956",
         "2.68"
        ],
        [
         "26",
         "90027",
         "45151",
         "38.3",
         "22362",
         "22789",
         "21929",
         "1.99"
        ],
        [
         "27",
         "90028",
         "28714",
         "34.0",
         "16056",
         "12658",
         "14964",
         "1.78"
        ],
        [
         "28",
         "90029",
         "38617",
         "34.6",
         "19575",
         "19042",
         "13883",
         "2.7"
        ],
        [
         "29",
         "90031",
         "39316",
         "33.5",
         "19546",
         "19770",
         "11156",
         "3.49"
        ],
        [
         "30",
         "90032",
         "45786",
         "32.4",
         "22564",
         "23222",
         "12765",
         "3.52"
        ],
        [
         "31",
         "90033",
         "48852",
         "29.2",
         "24425",
         "24427",
         "12924",
         "3.66"
        ],
        [
         "32",
         "90034",
         "57964",
         "32.8",
         "28828",
         "29136",
         "25592",
         "2.23"
        ],
        [
         "33",
         "90035",
         "28418",
         "37.5",
         "13326",
         "15092",
         "12814",
         "2.19"
        ],
        [
         "34",
         "90036",
         "36865",
         "33.9",
         "17914",
         "18951",
         "18646",
         "1.96"
        ],
        [
         "35",
         "90037",
         "62276",
         "28.8",
         "31187",
         "31089",
         "15869",
         "3.85"
        ],
        [
         "36",
         "90038",
         "28917",
         "33.1",
         "15383",
         "13534",
         "11928",
         "2.41"
        ],
        [
         "37",
         "90039",
         "28514",
         "38.8",
         "14383",
         "14131",
         "11436",
         "2.47"
        ],
        [
         "38",
         "90040",
         "12520",
         "31.2",
         "6129",
         "6391",
         "3317",
         "3.75"
        ],
        [
         "39",
         "90041",
         "27425",
         "39.0",
         "13212",
         "14213",
         "9513",
         "2.71"
        ],
        [
         "40",
         "90042",
         "62430",
         "33.6",
         "30836",
         "31594",
         "19892",
         "3.11"
        ],
        [
         "41",
         "90043",
         "44789",
         "38.7",
         "20561",
         "24228",
         "16075",
         "2.76"
        ],
        [
         "42",
         "90044",
         "89779",
         "28.6",
         "43128",
         "46651",
         "25144",
         "3.55"
        ],
        [
         "43",
         "90045",
         "39480",
         "35.6",
         "18958",
         "20522",
         "15224",
         "2.37"
        ],
        [
         "44",
         "90046",
         "48581",
         "38.5",
         "25854",
         "22727",
         "28534",
         "1.69"
        ],
        [
         "45",
         "90047",
         "48606",
         "36.2",
         "22129",
         "26477",
         "16168",
         "2.99"
        ],
        [
         "46",
         "90048",
         "21397",
         "39.2",
         "10132",
         "11265",
         "11821",
         "1.77"
        ],
        [
         "47",
         "90049",
         "35482",
         "41.3",
         "16359",
         "19123",
         "16657",
         "2.09"
        ],
        [
         "48",
         "90056",
         "7827",
         "48.4",
         "3436",
         "4391",
         "3371",
         "2.32"
        ],
        [
         "49",
         "90057",
         "44998",
         "31.2",
         "24300",
         "20698",
         "15658",
         "2.81"
        ]
       ],
       "shape": {
        "columns": 7,
        "rows": 319
       }
      },
      "text/html": [
       "<div>\n",
       "<style scoped>\n",
       "    .dataframe tbody tr th:only-of-type {\n",
       "        vertical-align: middle;\n",
       "    }\n",
       "\n",
       "    .dataframe tbody tr th {\n",
       "        vertical-align: top;\n",
       "    }\n",
       "\n",
       "    .dataframe thead th {\n",
       "        text-align: right;\n",
       "    }\n",
       "</style>\n",
       "<table border=\"1\" class=\"dataframe\">\n",
       "  <thead>\n",
       "    <tr style=\"text-align: right;\">\n",
       "      <th></th>\n",
       "      <th>Zip Code</th>\n",
       "      <th>Total Population</th>\n",
       "      <th>Median Age</th>\n",
       "      <th>Total Males</th>\n",
       "      <th>Total Females</th>\n",
       "      <th>Total Households</th>\n",
       "      <th>Average Household Size</th>\n",
       "    </tr>\n",
       "  </thead>\n",
       "  <tbody>\n",
       "    <tr>\n",
       "      <th>0</th>\n",
       "      <td>91371</td>\n",
       "      <td>1</td>\n",
       "      <td>73.5</td>\n",
       "      <td>0</td>\n",
       "      <td>1</td>\n",
       "      <td>1</td>\n",
       "      <td>1.00</td>\n",
       "    </tr>\n",
       "    <tr>\n",
       "      <th>1</th>\n",
       "      <td>90001</td>\n",
       "      <td>57110</td>\n",
       "      <td>26.6</td>\n",
       "      <td>28468</td>\n",
       "      <td>28642</td>\n",
       "      <td>12971</td>\n",
       "      <td>4.40</td>\n",
       "    </tr>\n",
       "    <tr>\n",
       "      <th>2</th>\n",
       "      <td>90002</td>\n",
       "      <td>51223</td>\n",
       "      <td>25.5</td>\n",
       "      <td>24876</td>\n",
       "      <td>26347</td>\n",
       "      <td>11731</td>\n",
       "      <td>4.36</td>\n",
       "    </tr>\n",
       "    <tr>\n",
       "      <th>3</th>\n",
       "      <td>90003</td>\n",
       "      <td>66266</td>\n",
       "      <td>26.3</td>\n",
       "      <td>32631</td>\n",
       "      <td>33635</td>\n",
       "      <td>15642</td>\n",
       "      <td>4.22</td>\n",
       "    </tr>\n",
       "    <tr>\n",
       "      <th>4</th>\n",
       "      <td>90004</td>\n",
       "      <td>62180</td>\n",
       "      <td>34.8</td>\n",
       "      <td>31302</td>\n",
       "      <td>30878</td>\n",
       "      <td>22547</td>\n",
       "      <td>2.73</td>\n",
       "    </tr>\n",
       "    <tr>\n",
       "      <th>...</th>\n",
       "      <td>...</td>\n",
       "      <td>...</td>\n",
       "      <td>...</td>\n",
       "      <td>...</td>\n",
       "      <td>...</td>\n",
       "      <td>...</td>\n",
       "      <td>...</td>\n",
       "    </tr>\n",
       "    <tr>\n",
       "      <th>314</th>\n",
       "      <td>93552</td>\n",
       "      <td>38158</td>\n",
       "      <td>28.4</td>\n",
       "      <td>18711</td>\n",
       "      <td>19447</td>\n",
       "      <td>9690</td>\n",
       "      <td>3.93</td>\n",
       "    </tr>\n",
       "    <tr>\n",
       "      <th>315</th>\n",
       "      <td>93553</td>\n",
       "      <td>2138</td>\n",
       "      <td>43.3</td>\n",
       "      <td>1121</td>\n",
       "      <td>1017</td>\n",
       "      <td>816</td>\n",
       "      <td>2.62</td>\n",
       "    </tr>\n",
       "    <tr>\n",
       "      <th>316</th>\n",
       "      <td>93560</td>\n",
       "      <td>18910</td>\n",
       "      <td>32.4</td>\n",
       "      <td>9491</td>\n",
       "      <td>9419</td>\n",
       "      <td>6469</td>\n",
       "      <td>2.92</td>\n",
       "    </tr>\n",
       "    <tr>\n",
       "      <th>317</th>\n",
       "      <td>93563</td>\n",
       "      <td>388</td>\n",
       "      <td>44.5</td>\n",
       "      <td>263</td>\n",
       "      <td>125</td>\n",
       "      <td>103</td>\n",
       "      <td>2.53</td>\n",
       "    </tr>\n",
       "    <tr>\n",
       "      <th>318</th>\n",
       "      <td>93591</td>\n",
       "      <td>7285</td>\n",
       "      <td>30.9</td>\n",
       "      <td>3653</td>\n",
       "      <td>3632</td>\n",
       "      <td>1982</td>\n",
       "      <td>3.67</td>\n",
       "    </tr>\n",
       "  </tbody>\n",
       "</table>\n",
       "<p>319 rows × 7 columns</p>\n",
       "</div>"
      ],
      "text/plain": [
       "     Zip Code  Total Population  Median Age  Total Males  Total Females  \\\n",
       "0       91371                 1        73.5            0              1   \n",
       "1       90001             57110        26.6        28468          28642   \n",
       "2       90002             51223        25.5        24876          26347   \n",
       "3       90003             66266        26.3        32631          33635   \n",
       "4       90004             62180        34.8        31302          30878   \n",
       "..        ...               ...         ...          ...            ...   \n",
       "314     93552             38158        28.4        18711          19447   \n",
       "315     93553              2138        43.3         1121           1017   \n",
       "316     93560             18910        32.4         9491           9419   \n",
       "317     93563               388        44.5          263            125   \n",
       "318     93591              7285        30.9         3653           3632   \n",
       "\n",
       "     Total Households  Average Household Size  \n",
       "0                   1                    1.00  \n",
       "1               12971                    4.40  \n",
       "2               11731                    4.36  \n",
       "3               15642                    4.22  \n",
       "4               22547                    2.73  \n",
       "..                ...                     ...  \n",
       "314              9690                    3.93  \n",
       "315               816                    2.62  \n",
       "316              6469                    2.92  \n",
       "317               103                    2.53  \n",
       "318              1982                    3.67  \n",
       "\n",
       "[319 rows x 7 columns]"
      ]
     },
     "execution_count": 31,
     "metadata": {},
     "output_type": "execute_result"
    }
   ],
   "source": [
    "df.dropna()"
   ]
  },
  {
   "cell_type": "markdown",
   "metadata": {},
   "source": [
    "# 数据填充\n"
   ]
  },
  {
   "cell_type": "markdown",
   "metadata": {},
   "source": [
    "既然提到了数据删减，反之则可能会遇到数据填充的情况。而对于一个给定的数据集而言，我们一般不会乱填数据，而更多的是对缺失值进行填充。\n",
    "\n",
    "在真实的生产环境中，我们需要处理的数据文件往往没有想象中的那么美好。其中，很大几率会遇到的情况就是缺失值。缺失值主要是指数据丢失的现象，也就是数据集中的某一块数据不存在。除此之外、存在但明显不正确的数据也被归为缺失值一类。例如，在一个时间序列数据集中，某一段数据突然发生了时间流错乱，那么这一小块数据就是毫无意义的，可以被归为缺失值。"
   ]
  },
  {
   "cell_type": "markdown",
   "metadata": {},
   "source": [
    "**检查缺失值**"
   ]
  },
  {
   "cell_type": "markdown",
   "metadata": {},
   "source": [
    "Pandas 为了更方便地检测缺失值，将不同类型数据的缺失均采用 NaN 标记。这里的 NaN 代表 Not a Number，它仅仅是作为一个标记。例外是，在时间序列里，时间戳的丢失采用 NaT 标记。\n",
    "\n",
    "Pandas 中用于检测缺失值主要用到两个方法，分别是：isna() 和 notna()，故名思意就是「是缺失值」和「不是缺失值」。默认会返回布尔值用于判断。\n",
    "\n",
    "接下来，我们人为生成一组包含缺失值的示例数据。"
   ]
  },
  {
   "cell_type": "code",
   "execution_count": 42,
   "metadata": {},
   "outputs": [
    {
     "data": {
      "application/vnd.microsoft.datawrangler.viewer.v0+json": {
       "columns": [
        {
         "name": "index",
         "rawType": "int64",
         "type": "integer"
        },
        {
         "name": "A",
         "rawType": "float64",
         "type": "float"
        },
        {
         "name": "B",
         "rawType": "float64",
         "type": "float"
        },
        {
         "name": "C",
         "rawType": "float64",
         "type": "float"
        },
        {
         "name": "D",
         "rawType": "float64",
         "type": "float"
        },
        {
         "name": "E",
         "rawType": "float64",
         "type": "float"
        }
       ],
       "conversionMethod": "pd.DataFrame",
       "ref": "af09d87d-a20b-4c1a-9811-84d6299d698a",
       "rows": [
        [
         "0",
         "0.2840545560280485",
         "0.961153347970795",
         "0.598887019073801",
         "0.16579590434692648",
         "0.2041999856647505"
        ],
        [
         "1",
         "0.4468215643673853",
         "0.3991323671224847",
         "0.7377199642178188",
         "0.6782309227740773",
         "0.7776993857638065"
        ],
        [
         "2",
         "0.10034026033939003",
         "0.8558590400044039",
         "0.6248016135292538",
         "0.653065743998811",
         "0.5676257857028617"
        ],
        [
         "3",
         "0.7247692372342561",
         "0.6964014478458062",
         "0.5939045985701857",
         "0.046240837127806245",
         "0.5919261019288391"
        ],
        [
         "4",
         "0.5484528320065137",
         "0.7881077953483574",
         "0.04240700654902807",
         "0.18846791348748737",
         "0.3274928493994461"
        ],
        [
         "5",
         "0.9866597876815226",
         "0.8210961535601042",
         "0.11417536045132748",
         "0.9512003981187871",
         "0.1139155828491939"
        ],
        [
         "6",
         "0.551031721887318",
         "0.963282979471725",
         "0.31075083860963715",
         "0.781449252099396",
         "0.41280416247743257"
        ],
        [
         "7",
         "0.1440420888130205",
         "0.08431811660568123",
         "0.7196341362055215",
         "0.08483281134956944",
         "0.7360255712196079"
        ],
        [
         "8",
         "0.461400058197852",
         "0.7402217264804736",
         "0.8411199159361785",
         "0.4042001047716399",
         "0.39533705441197176"
        ]
       ],
       "shape": {
        "columns": 5,
        "rows": 9
       }
      },
      "text/html": [
       "<div>\n",
       "<style scoped>\n",
       "    .dataframe tbody tr th:only-of-type {\n",
       "        vertical-align: middle;\n",
       "    }\n",
       "\n",
       "    .dataframe tbody tr th {\n",
       "        vertical-align: top;\n",
       "    }\n",
       "\n",
       "    .dataframe thead th {\n",
       "        text-align: right;\n",
       "    }\n",
       "</style>\n",
       "<table border=\"1\" class=\"dataframe\">\n",
       "  <thead>\n",
       "    <tr style=\"text-align: right;\">\n",
       "      <th></th>\n",
       "      <th>A</th>\n",
       "      <th>B</th>\n",
       "      <th>C</th>\n",
       "      <th>D</th>\n",
       "      <th>E</th>\n",
       "    </tr>\n",
       "  </thead>\n",
       "  <tbody>\n",
       "    <tr>\n",
       "      <th>0</th>\n",
       "      <td>0.284055</td>\n",
       "      <td>0.961153</td>\n",
       "      <td>0.598887</td>\n",
       "      <td>0.165796</td>\n",
       "      <td>0.204200</td>\n",
       "    </tr>\n",
       "    <tr>\n",
       "      <th>1</th>\n",
       "      <td>0.446822</td>\n",
       "      <td>0.399132</td>\n",
       "      <td>0.737720</td>\n",
       "      <td>0.678231</td>\n",
       "      <td>0.777699</td>\n",
       "    </tr>\n",
       "    <tr>\n",
       "      <th>2</th>\n",
       "      <td>0.100340</td>\n",
       "      <td>0.855859</td>\n",
       "      <td>0.624802</td>\n",
       "      <td>0.653066</td>\n",
       "      <td>0.567626</td>\n",
       "    </tr>\n",
       "    <tr>\n",
       "      <th>3</th>\n",
       "      <td>0.724769</td>\n",
       "      <td>0.696401</td>\n",
       "      <td>0.593905</td>\n",
       "      <td>0.046241</td>\n",
       "      <td>0.591926</td>\n",
       "    </tr>\n",
       "    <tr>\n",
       "      <th>4</th>\n",
       "      <td>0.548453</td>\n",
       "      <td>0.788108</td>\n",
       "      <td>0.042407</td>\n",
       "      <td>0.188468</td>\n",
       "      <td>0.327493</td>\n",
       "    </tr>\n",
       "    <tr>\n",
       "      <th>5</th>\n",
       "      <td>0.986660</td>\n",
       "      <td>0.821096</td>\n",
       "      <td>0.114175</td>\n",
       "      <td>0.951200</td>\n",
       "      <td>0.113916</td>\n",
       "    </tr>\n",
       "    <tr>\n",
       "      <th>6</th>\n",
       "      <td>0.551032</td>\n",
       "      <td>0.963283</td>\n",
       "      <td>0.310751</td>\n",
       "      <td>0.781449</td>\n",
       "      <td>0.412804</td>\n",
       "    </tr>\n",
       "    <tr>\n",
       "      <th>7</th>\n",
       "      <td>0.144042</td>\n",
       "      <td>0.084318</td>\n",
       "      <td>0.719634</td>\n",
       "      <td>0.084833</td>\n",
       "      <td>0.736026</td>\n",
       "    </tr>\n",
       "    <tr>\n",
       "      <th>8</th>\n",
       "      <td>0.461400</td>\n",
       "      <td>0.740222</td>\n",
       "      <td>0.841120</td>\n",
       "      <td>0.404200</td>\n",
       "      <td>0.395337</td>\n",
       "    </tr>\n",
       "  </tbody>\n",
       "</table>\n",
       "</div>"
      ],
      "text/plain": [
       "          A         B         C         D         E\n",
       "0  0.284055  0.961153  0.598887  0.165796  0.204200\n",
       "1  0.446822  0.399132  0.737720  0.678231  0.777699\n",
       "2  0.100340  0.855859  0.624802  0.653066  0.567626\n",
       "3  0.724769  0.696401  0.593905  0.046241  0.591926\n",
       "4  0.548453  0.788108  0.042407  0.188468  0.327493\n",
       "5  0.986660  0.821096  0.114175  0.951200  0.113916\n",
       "6  0.551032  0.963283  0.310751  0.781449  0.412804\n",
       "7  0.144042  0.084318  0.719634  0.084833  0.736026\n",
       "8  0.461400  0.740222  0.841120  0.404200  0.395337"
      ]
     },
     "execution_count": 42,
     "metadata": {},
     "output_type": "execute_result"
    }
   ],
   "source": [
    "df = pd.DataFrame(np.random.rand(9,5),columns=list('ABCDE'))\n",
    "df"
   ]
  },
  {
   "cell_type": "code",
   "execution_count": 43,
   "metadata": {},
   "outputs": [
    {
     "data": {
      "application/vnd.microsoft.datawrangler.viewer.v0+json": {
       "columns": [
        {
         "name": "index",
         "rawType": "int64",
         "type": "integer"
        },
        {
         "name": "time",
         "rawType": "datetime64[ns]",
         "type": "datetime"
        },
        {
         "name": "A",
         "rawType": "float64",
         "type": "float"
        },
        {
         "name": "B",
         "rawType": "float64",
         "type": "float"
        },
        {
         "name": "C",
         "rawType": "float64",
         "type": "float"
        },
        {
         "name": "D",
         "rawType": "float64",
         "type": "float"
        },
        {
         "name": "E",
         "rawType": "float64",
         "type": "float"
        }
       ],
       "conversionMethod": "pd.DataFrame",
       "ref": "6bf634cb-d901-4bda-bd1b-eb8e03589100",
       "rows": [
        [
         "0",
         "2017-10-01 00:00:00",
         "0.2840545560280485",
         "0.961153347970795",
         "0.598887019073801",
         "0.16579590434692648",
         "0.2041999856647505"
        ],
        [
         "1",
         "2017-10-01 00:00:00",
         "0.4468215643673853",
         "0.3991323671224847",
         "0.7377199642178188",
         "0.6782309227740773",
         "0.7776993857638065"
        ],
        [
         "2",
         "2017-10-01 00:00:00",
         "0.10034026033939003",
         "0.8558590400044039",
         "0.6248016135292538",
         "0.653065743998811",
         "0.5676257857028617"
        ],
        [
         "3",
         "2017-10-01 00:00:00",
         "0.7247692372342561",
         "0.6964014478458062",
         "0.5939045985701857",
         "0.046240837127806245",
         "0.5919261019288391"
        ],
        [
         "4",
         "2017-10-01 00:00:00",
         "0.5484528320065137",
         "0.7881077953483574",
         "0.04240700654902807",
         "0.18846791348748737",
         "0.3274928493994461"
        ],
        [
         "5",
         "2017-10-01 00:00:00",
         "0.9866597876815226",
         "0.8210961535601042",
         "0.11417536045132748",
         "0.9512003981187871",
         "0.1139155828491939"
        ],
        [
         "6",
         "2017-10-01 00:00:00",
         "0.551031721887318",
         "0.963282979471725",
         "0.31075083860963715",
         "0.781449252099396",
         "0.41280416247743257"
        ],
        [
         "7",
         "2017-10-01 00:00:00",
         "0.1440420888130205",
         "0.08431811660568123",
         "0.7196341362055215",
         "0.08483281134956944",
         "0.7360255712196079"
        ],
        [
         "8",
         "2017-10-01 00:00:00",
         "0.461400058197852",
         "0.7402217264804736",
         "0.8411199159361785",
         "0.4042001047716399",
         "0.39533705441197176"
        ]
       ],
       "shape": {
        "columns": 6,
        "rows": 9
       }
      },
      "text/html": [
       "<div>\n",
       "<style scoped>\n",
       "    .dataframe tbody tr th:only-of-type {\n",
       "        vertical-align: middle;\n",
       "    }\n",
       "\n",
       "    .dataframe tbody tr th {\n",
       "        vertical-align: top;\n",
       "    }\n",
       "\n",
       "    .dataframe thead th {\n",
       "        text-align: right;\n",
       "    }\n",
       "</style>\n",
       "<table border=\"1\" class=\"dataframe\">\n",
       "  <thead>\n",
       "    <tr style=\"text-align: right;\">\n",
       "      <th></th>\n",
       "      <th>time</th>\n",
       "      <th>A</th>\n",
       "      <th>B</th>\n",
       "      <th>C</th>\n",
       "      <th>D</th>\n",
       "      <th>E</th>\n",
       "    </tr>\n",
       "  </thead>\n",
       "  <tbody>\n",
       "    <tr>\n",
       "      <th>0</th>\n",
       "      <td>2017-10-01</td>\n",
       "      <td>0.284055</td>\n",
       "      <td>0.961153</td>\n",
       "      <td>0.598887</td>\n",
       "      <td>0.165796</td>\n",
       "      <td>0.204200</td>\n",
       "    </tr>\n",
       "    <tr>\n",
       "      <th>1</th>\n",
       "      <td>2017-10-01</td>\n",
       "      <td>0.446822</td>\n",
       "      <td>0.399132</td>\n",
       "      <td>0.737720</td>\n",
       "      <td>0.678231</td>\n",
       "      <td>0.777699</td>\n",
       "    </tr>\n",
       "    <tr>\n",
       "      <th>2</th>\n",
       "      <td>2017-10-01</td>\n",
       "      <td>0.100340</td>\n",
       "      <td>0.855859</td>\n",
       "      <td>0.624802</td>\n",
       "      <td>0.653066</td>\n",
       "      <td>0.567626</td>\n",
       "    </tr>\n",
       "    <tr>\n",
       "      <th>3</th>\n",
       "      <td>2017-10-01</td>\n",
       "      <td>0.724769</td>\n",
       "      <td>0.696401</td>\n",
       "      <td>0.593905</td>\n",
       "      <td>0.046241</td>\n",
       "      <td>0.591926</td>\n",
       "    </tr>\n",
       "    <tr>\n",
       "      <th>4</th>\n",
       "      <td>2017-10-01</td>\n",
       "      <td>0.548453</td>\n",
       "      <td>0.788108</td>\n",
       "      <td>0.042407</td>\n",
       "      <td>0.188468</td>\n",
       "      <td>0.327493</td>\n",
       "    </tr>\n",
       "    <tr>\n",
       "      <th>5</th>\n",
       "      <td>2017-10-01</td>\n",
       "      <td>0.986660</td>\n",
       "      <td>0.821096</td>\n",
       "      <td>0.114175</td>\n",
       "      <td>0.951200</td>\n",
       "      <td>0.113916</td>\n",
       "    </tr>\n",
       "    <tr>\n",
       "      <th>6</th>\n",
       "      <td>2017-10-01</td>\n",
       "      <td>0.551032</td>\n",
       "      <td>0.963283</td>\n",
       "      <td>0.310751</td>\n",
       "      <td>0.781449</td>\n",
       "      <td>0.412804</td>\n",
       "    </tr>\n",
       "    <tr>\n",
       "      <th>7</th>\n",
       "      <td>2017-10-01</td>\n",
       "      <td>0.144042</td>\n",
       "      <td>0.084318</td>\n",
       "      <td>0.719634</td>\n",
       "      <td>0.084833</td>\n",
       "      <td>0.736026</td>\n",
       "    </tr>\n",
       "    <tr>\n",
       "      <th>8</th>\n",
       "      <td>2017-10-01</td>\n",
       "      <td>0.461400</td>\n",
       "      <td>0.740222</td>\n",
       "      <td>0.841120</td>\n",
       "      <td>0.404200</td>\n",
       "      <td>0.395337</td>\n",
       "    </tr>\n",
       "  </tbody>\n",
       "</table>\n",
       "</div>"
      ],
      "text/plain": [
       "        time         A         B         C         D         E\n",
       "0 2017-10-01  0.284055  0.961153  0.598887  0.165796  0.204200\n",
       "1 2017-10-01  0.446822  0.399132  0.737720  0.678231  0.777699\n",
       "2 2017-10-01  0.100340  0.855859  0.624802  0.653066  0.567626\n",
       "3 2017-10-01  0.724769  0.696401  0.593905  0.046241  0.591926\n",
       "4 2017-10-01  0.548453  0.788108  0.042407  0.188468  0.327493\n",
       "5 2017-10-01  0.986660  0.821096  0.114175  0.951200  0.113916\n",
       "6 2017-10-01  0.551032  0.963283  0.310751  0.781449  0.412804\n",
       "7 2017-10-01  0.144042  0.084318  0.719634  0.084833  0.736026\n",
       "8 2017-10-01  0.461400  0.740222  0.841120  0.404200  0.395337"
      ]
     },
     "execution_count": 43,
     "metadata": {},
     "output_type": "execute_result"
    }
   ],
   "source": [
    "df.insert(value=pd.Timestamp('2017-10-1'),loc = 0,column='time')\n",
    "df"
   ]
  },
  {
   "cell_type": "code",
   "execution_count": 44,
   "metadata": {},
   "outputs": [
    {
     "data": {
      "application/vnd.microsoft.datawrangler.viewer.v0+json": {
       "columns": [
        {
         "name": "index",
         "rawType": "int64",
         "type": "integer"
        },
        {
         "name": "time",
         "rawType": "datetime64[ns]",
         "type": "datetime"
        },
        {
         "name": "A",
         "rawType": "float64",
         "type": "float"
        },
        {
         "name": "B",
         "rawType": "float64",
         "type": "float"
        },
        {
         "name": "C",
         "rawType": "float64",
         "type": "float"
        },
        {
         "name": "D",
         "rawType": "float64",
         "type": "float"
        },
        {
         "name": "E",
         "rawType": "float64",
         "type": "float"
        }
       ],
       "conversionMethod": "pd.DataFrame",
       "ref": "96a91aa1-d0b5-4d67-89e0-f1d4341db9ce",
       "rows": [
        [
         "0",
         "2017-10-01 00:00:00",
         "0.2840545560280485",
         "0.961153347970795",
         "0.598887019073801",
         "0.16579590434692648",
         "0.2041999856647505"
        ],
        [
         "1",
         null,
         "0.4468215643673853",
         null,
         "0.7377199642178188",
         null,
         "0.7776993857638065"
        ],
        [
         "2",
         "2017-10-01 00:00:00",
         null,
         "0.8558590400044039",
         null,
         "0.653065743998811",
         null
        ],
        [
         "3",
         null,
         "0.7247692372342561",
         null,
         "0.5939045985701857",
         null,
         "0.5919261019288391"
        ],
        [
         "4",
         "2017-10-01 00:00:00",
         null,
         "0.7881077953483574",
         null,
         "0.18846791348748737",
         null
        ],
        [
         "5",
         null,
         "0.9866597876815226",
         null,
         "0.11417536045132748",
         null,
         "0.1139155828491939"
        ],
        [
         "6",
         "2017-10-01 00:00:00",
         null,
         "0.963282979471725",
         null,
         "0.781449252099396",
         null
        ],
        [
         "7",
         null,
         "0.1440420888130205",
         null,
         "0.7196341362055215",
         null,
         "0.7360255712196079"
        ],
        [
         "8",
         "2017-10-01 00:00:00",
         null,
         "0.7402217264804736",
         null,
         "0.4042001047716399",
         null
        ]
       ],
       "shape": {
        "columns": 6,
        "rows": 9
       }
      },
      "text/html": [
       "<div>\n",
       "<style scoped>\n",
       "    .dataframe tbody tr th:only-of-type {\n",
       "        vertical-align: middle;\n",
       "    }\n",
       "\n",
       "    .dataframe tbody tr th {\n",
       "        vertical-align: top;\n",
       "    }\n",
       "\n",
       "    .dataframe thead th {\n",
       "        text-align: right;\n",
       "    }\n",
       "</style>\n",
       "<table border=\"1\" class=\"dataframe\">\n",
       "  <thead>\n",
       "    <tr style=\"text-align: right;\">\n",
       "      <th></th>\n",
       "      <th>time</th>\n",
       "      <th>A</th>\n",
       "      <th>B</th>\n",
       "      <th>C</th>\n",
       "      <th>D</th>\n",
       "      <th>E</th>\n",
       "    </tr>\n",
       "  </thead>\n",
       "  <tbody>\n",
       "    <tr>\n",
       "      <th>0</th>\n",
       "      <td>2017-10-01</td>\n",
       "      <td>0.284055</td>\n",
       "      <td>0.961153</td>\n",
       "      <td>0.598887</td>\n",
       "      <td>0.165796</td>\n",
       "      <td>0.204200</td>\n",
       "    </tr>\n",
       "    <tr>\n",
       "      <th>1</th>\n",
       "      <td>NaT</td>\n",
       "      <td>0.446822</td>\n",
       "      <td>NaN</td>\n",
       "      <td>0.737720</td>\n",
       "      <td>NaN</td>\n",
       "      <td>0.777699</td>\n",
       "    </tr>\n",
       "    <tr>\n",
       "      <th>2</th>\n",
       "      <td>2017-10-01</td>\n",
       "      <td>NaN</td>\n",
       "      <td>0.855859</td>\n",
       "      <td>NaN</td>\n",
       "      <td>0.653066</td>\n",
       "      <td>NaN</td>\n",
       "    </tr>\n",
       "    <tr>\n",
       "      <th>3</th>\n",
       "      <td>NaT</td>\n",
       "      <td>0.724769</td>\n",
       "      <td>NaN</td>\n",
       "      <td>0.593905</td>\n",
       "      <td>NaN</td>\n",
       "      <td>0.591926</td>\n",
       "    </tr>\n",
       "    <tr>\n",
       "      <th>4</th>\n",
       "      <td>2017-10-01</td>\n",
       "      <td>NaN</td>\n",
       "      <td>0.788108</td>\n",
       "      <td>NaN</td>\n",
       "      <td>0.188468</td>\n",
       "      <td>NaN</td>\n",
       "    </tr>\n",
       "    <tr>\n",
       "      <th>5</th>\n",
       "      <td>NaT</td>\n",
       "      <td>0.986660</td>\n",
       "      <td>NaN</td>\n",
       "      <td>0.114175</td>\n",
       "      <td>NaN</td>\n",
       "      <td>0.113916</td>\n",
       "    </tr>\n",
       "    <tr>\n",
       "      <th>6</th>\n",
       "      <td>2017-10-01</td>\n",
       "      <td>NaN</td>\n",
       "      <td>0.963283</td>\n",
       "      <td>NaN</td>\n",
       "      <td>0.781449</td>\n",
       "      <td>NaN</td>\n",
       "    </tr>\n",
       "    <tr>\n",
       "      <th>7</th>\n",
       "      <td>NaT</td>\n",
       "      <td>0.144042</td>\n",
       "      <td>NaN</td>\n",
       "      <td>0.719634</td>\n",
       "      <td>NaN</td>\n",
       "      <td>0.736026</td>\n",
       "    </tr>\n",
       "    <tr>\n",
       "      <th>8</th>\n",
       "      <td>2017-10-01</td>\n",
       "      <td>NaN</td>\n",
       "      <td>0.740222</td>\n",
       "      <td>NaN</td>\n",
       "      <td>0.404200</td>\n",
       "      <td>NaN</td>\n",
       "    </tr>\n",
       "  </tbody>\n",
       "</table>\n",
       "</div>"
      ],
      "text/plain": [
       "        time         A         B         C         D         E\n",
       "0 2017-10-01  0.284055  0.961153  0.598887  0.165796  0.204200\n",
       "1        NaT  0.446822       NaN  0.737720       NaN  0.777699\n",
       "2 2017-10-01       NaN  0.855859       NaN  0.653066       NaN\n",
       "3        NaT  0.724769       NaN  0.593905       NaN  0.591926\n",
       "4 2017-10-01       NaN  0.788108       NaN  0.188468       NaN\n",
       "5        NaT  0.986660       NaN  0.114175       NaN  0.113916\n",
       "6 2017-10-01       NaN  0.963283       NaN  0.781449       NaN\n",
       "7        NaT  0.144042       NaN  0.719634       NaN  0.736026\n",
       "8 2017-10-01       NaN  0.740222       NaN  0.404200       NaN"
      ]
     },
     "execution_count": 44,
     "metadata": {},
     "output_type": "execute_result"
    }
   ],
   "source": [
    "df.iloc[[1, 3, 5, 7], [0, 2, 4]] = np.nan\n",
    "# 将 2, 4, 6 列的 3，5，7，9 行置为缺失值\n",
    "df.iloc[[2, 4, 6, 8], [1, 3, 5]] = np.nan\n",
    "df"
   ]
  },
  {
   "cell_type": "code",
   "execution_count": 45,
   "metadata": {},
   "outputs": [
    {
     "data": {
      "application/vnd.microsoft.datawrangler.viewer.v0+json": {
       "columns": [
        {
         "name": "index",
         "rawType": "int64",
         "type": "integer"
        },
        {
         "name": "time",
         "rawType": "bool",
         "type": "boolean"
        },
        {
         "name": "A",
         "rawType": "bool",
         "type": "boolean"
        },
        {
         "name": "B",
         "rawType": "bool",
         "type": "boolean"
        },
        {
         "name": "C",
         "rawType": "bool",
         "type": "boolean"
        },
        {
         "name": "D",
         "rawType": "bool",
         "type": "boolean"
        },
        {
         "name": "E",
         "rawType": "bool",
         "type": "boolean"
        }
       ],
       "conversionMethod": "pd.DataFrame",
       "ref": "895695fb-8ba6-4e72-b8c6-748e65c486a3",
       "rows": [
        [
         "0",
         "False",
         "False",
         "False",
         "False",
         "False",
         "False"
        ],
        [
         "1",
         "True",
         "False",
         "True",
         "False",
         "True",
         "False"
        ],
        [
         "2",
         "False",
         "True",
         "False",
         "True",
         "False",
         "True"
        ],
        [
         "3",
         "True",
         "False",
         "True",
         "False",
         "True",
         "False"
        ],
        [
         "4",
         "False",
         "True",
         "False",
         "True",
         "False",
         "True"
        ],
        [
         "5",
         "True",
         "False",
         "True",
         "False",
         "True",
         "False"
        ],
        [
         "6",
         "False",
         "True",
         "False",
         "True",
         "False",
         "True"
        ],
        [
         "7",
         "True",
         "False",
         "True",
         "False",
         "True",
         "False"
        ],
        [
         "8",
         "False",
         "True",
         "False",
         "True",
         "False",
         "True"
        ]
       ],
       "shape": {
        "columns": 6,
        "rows": 9
       }
      },
      "text/html": [
       "<div>\n",
       "<style scoped>\n",
       "    .dataframe tbody tr th:only-of-type {\n",
       "        vertical-align: middle;\n",
       "    }\n",
       "\n",
       "    .dataframe tbody tr th {\n",
       "        vertical-align: top;\n",
       "    }\n",
       "\n",
       "    .dataframe thead th {\n",
       "        text-align: right;\n",
       "    }\n",
       "</style>\n",
       "<table border=\"1\" class=\"dataframe\">\n",
       "  <thead>\n",
       "    <tr style=\"text-align: right;\">\n",
       "      <th></th>\n",
       "      <th>time</th>\n",
       "      <th>A</th>\n",
       "      <th>B</th>\n",
       "      <th>C</th>\n",
       "      <th>D</th>\n",
       "      <th>E</th>\n",
       "    </tr>\n",
       "  </thead>\n",
       "  <tbody>\n",
       "    <tr>\n",
       "      <th>0</th>\n",
       "      <td>False</td>\n",
       "      <td>False</td>\n",
       "      <td>False</td>\n",
       "      <td>False</td>\n",
       "      <td>False</td>\n",
       "      <td>False</td>\n",
       "    </tr>\n",
       "    <tr>\n",
       "      <th>1</th>\n",
       "      <td>True</td>\n",
       "      <td>False</td>\n",
       "      <td>True</td>\n",
       "      <td>False</td>\n",
       "      <td>True</td>\n",
       "      <td>False</td>\n",
       "    </tr>\n",
       "    <tr>\n",
       "      <th>2</th>\n",
       "      <td>False</td>\n",
       "      <td>True</td>\n",
       "      <td>False</td>\n",
       "      <td>True</td>\n",
       "      <td>False</td>\n",
       "      <td>True</td>\n",
       "    </tr>\n",
       "    <tr>\n",
       "      <th>3</th>\n",
       "      <td>True</td>\n",
       "      <td>False</td>\n",
       "      <td>True</td>\n",
       "      <td>False</td>\n",
       "      <td>True</td>\n",
       "      <td>False</td>\n",
       "    </tr>\n",
       "    <tr>\n",
       "      <th>4</th>\n",
       "      <td>False</td>\n",
       "      <td>True</td>\n",
       "      <td>False</td>\n",
       "      <td>True</td>\n",
       "      <td>False</td>\n",
       "      <td>True</td>\n",
       "    </tr>\n",
       "    <tr>\n",
       "      <th>5</th>\n",
       "      <td>True</td>\n",
       "      <td>False</td>\n",
       "      <td>True</td>\n",
       "      <td>False</td>\n",
       "      <td>True</td>\n",
       "      <td>False</td>\n",
       "    </tr>\n",
       "    <tr>\n",
       "      <th>6</th>\n",
       "      <td>False</td>\n",
       "      <td>True</td>\n",
       "      <td>False</td>\n",
       "      <td>True</td>\n",
       "      <td>False</td>\n",
       "      <td>True</td>\n",
       "    </tr>\n",
       "    <tr>\n",
       "      <th>7</th>\n",
       "      <td>True</td>\n",
       "      <td>False</td>\n",
       "      <td>True</td>\n",
       "      <td>False</td>\n",
       "      <td>True</td>\n",
       "      <td>False</td>\n",
       "    </tr>\n",
       "    <tr>\n",
       "      <th>8</th>\n",
       "      <td>False</td>\n",
       "      <td>True</td>\n",
       "      <td>False</td>\n",
       "      <td>True</td>\n",
       "      <td>False</td>\n",
       "      <td>True</td>\n",
       "    </tr>\n",
       "  </tbody>\n",
       "</table>\n",
       "</div>"
      ],
      "text/plain": [
       "    time      A      B      C      D      E\n",
       "0  False  False  False  False  False  False\n",
       "1   True  False   True  False   True  False\n",
       "2  False   True  False   True  False   True\n",
       "3   True  False   True  False   True  False\n",
       "4  False   True  False   True  False   True\n",
       "5   True  False   True  False   True  False\n",
       "6  False   True  False   True  False   True\n",
       "7   True  False   True  False   True  False\n",
       "8  False   True  False   True  False   True"
      ]
     },
     "execution_count": 45,
     "metadata": {},
     "output_type": "execute_result"
    }
   ],
   "source": [
    "df.isna()"
   ]
  },
  {
   "cell_type": "code",
   "execution_count": null,
   "metadata": {},
   "outputs": [
    {
     "data": {
      "application/vnd.microsoft.datawrangler.viewer.v0+json": {
       "columns": [
        {
         "name": "index",
         "rawType": "int64",
         "type": "integer"
        },
        {
         "name": "time",
         "rawType": "object",
         "type": "string"
        },
        {
         "name": "A",
         "rawType": "float64",
         "type": "float"
        },
        {
         "name": "B",
         "rawType": "float64",
         "type": "float"
        },
        {
         "name": "C",
         "rawType": "float64",
         "type": "float"
        },
        {
         "name": "D",
         "rawType": "float64",
         "type": "float"
        },
        {
         "name": "E",
         "rawType": "float64",
         "type": "float"
        }
       ],
       "conversionMethod": "pd.DataFrame",
       "ref": "d30e070e-3fba-4886-9312-acb32a3d4a23",
       "rows": [
        [
         "0",
         "2017-10-01 00:00:00",
         "0.2840545560280485",
         "0.961153347970795",
         "0.598887019073801",
         "0.16579590434692648",
         "0.2041999856647505"
        ],
        [
         "1",
         "0",
         "0.4468215643673853",
         "0.0",
         "0.7377199642178188",
         "0.0",
         "0.7776993857638065"
        ],
        [
         "2",
         "2017-10-01 00:00:00",
         "0.0",
         "0.8558590400044039",
         "0.0",
         "0.653065743998811",
         "0.0"
        ],
        [
         "3",
         "0",
         "0.7247692372342561",
         "0.0",
         "0.5939045985701857",
         "0.0",
         "0.5919261019288391"
        ],
        [
         "4",
         "2017-10-01 00:00:00",
         "0.0",
         "0.7881077953483574",
         "0.0",
         "0.18846791348748737",
         "0.0"
        ],
        [
         "5",
         "0",
         "0.9866597876815226",
         "0.0",
         "0.11417536045132748",
         "0.0",
         "0.1139155828491939"
        ],
        [
         "6",
         "2017-10-01 00:00:00",
         "0.0",
         "0.963282979471725",
         "0.0",
         "0.781449252099396",
         "0.0"
        ],
        [
         "7",
         "0",
         "0.1440420888130205",
         "0.0",
         "0.7196341362055215",
         "0.0",
         "0.7360255712196079"
        ],
        [
         "8",
         "2017-10-01 00:00:00",
         "0.0",
         "0.7402217264804736",
         "0.0",
         "0.4042001047716399",
         "0.0"
        ]
       ],
       "shape": {
        "columns": 6,
        "rows": 9
       }
      },
      "text/html": [
       "<div>\n",
       "<style scoped>\n",
       "    .dataframe tbody tr th:only-of-type {\n",
       "        vertical-align: middle;\n",
       "    }\n",
       "\n",
       "    .dataframe tbody tr th {\n",
       "        vertical-align: top;\n",
       "    }\n",
       "\n",
       "    .dataframe thead th {\n",
       "        text-align: right;\n",
       "    }\n",
       "</style>\n",
       "<table border=\"1\" class=\"dataframe\">\n",
       "  <thead>\n",
       "    <tr style=\"text-align: right;\">\n",
       "      <th></th>\n",
       "      <th>time</th>\n",
       "      <th>A</th>\n",
       "      <th>B</th>\n",
       "      <th>C</th>\n",
       "      <th>D</th>\n",
       "      <th>E</th>\n",
       "    </tr>\n",
       "  </thead>\n",
       "  <tbody>\n",
       "    <tr>\n",
       "      <th>0</th>\n",
       "      <td>2017-10-01 00:00:00</td>\n",
       "      <td>0.284055</td>\n",
       "      <td>0.961153</td>\n",
       "      <td>0.598887</td>\n",
       "      <td>0.165796</td>\n",
       "      <td>0.204200</td>\n",
       "    </tr>\n",
       "    <tr>\n",
       "      <th>1</th>\n",
       "      <td>0</td>\n",
       "      <td>0.446822</td>\n",
       "      <td>0.000000</td>\n",
       "      <td>0.737720</td>\n",
       "      <td>0.000000</td>\n",
       "      <td>0.777699</td>\n",
       "    </tr>\n",
       "    <tr>\n",
       "      <th>2</th>\n",
       "      <td>2017-10-01 00:00:00</td>\n",
       "      <td>0.000000</td>\n",
       "      <td>0.855859</td>\n",
       "      <td>0.000000</td>\n",
       "      <td>0.653066</td>\n",
       "      <td>0.000000</td>\n",
       "    </tr>\n",
       "    <tr>\n",
       "      <th>3</th>\n",
       "      <td>0</td>\n",
       "      <td>0.724769</td>\n",
       "      <td>0.000000</td>\n",
       "      <td>0.593905</td>\n",
       "      <td>0.000000</td>\n",
       "      <td>0.591926</td>\n",
       "    </tr>\n",
       "    <tr>\n",
       "      <th>4</th>\n",
       "      <td>2017-10-01 00:00:00</td>\n",
       "      <td>0.000000</td>\n",
       "      <td>0.788108</td>\n",
       "      <td>0.000000</td>\n",
       "      <td>0.188468</td>\n",
       "      <td>0.000000</td>\n",
       "    </tr>\n",
       "    <tr>\n",
       "      <th>5</th>\n",
       "      <td>0</td>\n",
       "      <td>0.986660</td>\n",
       "      <td>0.000000</td>\n",
       "      <td>0.114175</td>\n",
       "      <td>0.000000</td>\n",
       "      <td>0.113916</td>\n",
       "    </tr>\n",
       "    <tr>\n",
       "      <th>6</th>\n",
       "      <td>2017-10-01 00:00:00</td>\n",
       "      <td>0.000000</td>\n",
       "      <td>0.963283</td>\n",
       "      <td>0.000000</td>\n",
       "      <td>0.781449</td>\n",
       "      <td>0.000000</td>\n",
       "    </tr>\n",
       "    <tr>\n",
       "      <th>7</th>\n",
       "      <td>0</td>\n",
       "      <td>0.144042</td>\n",
       "      <td>0.000000</td>\n",
       "      <td>0.719634</td>\n",
       "      <td>0.000000</td>\n",
       "      <td>0.736026</td>\n",
       "    </tr>\n",
       "    <tr>\n",
       "      <th>8</th>\n",
       "      <td>2017-10-01 00:00:00</td>\n",
       "      <td>0.000000</td>\n",
       "      <td>0.740222</td>\n",
       "      <td>0.000000</td>\n",
       "      <td>0.404200</td>\n",
       "      <td>0.000000</td>\n",
       "    </tr>\n",
       "  </tbody>\n",
       "</table>\n",
       "</div>"
      ],
      "text/plain": [
       "                  time         A         B         C         D         E\n",
       "0  2017-10-01 00:00:00  0.284055  0.961153  0.598887  0.165796  0.204200\n",
       "1                    0  0.446822  0.000000  0.737720  0.000000  0.777699\n",
       "2  2017-10-01 00:00:00  0.000000  0.855859  0.000000  0.653066  0.000000\n",
       "3                    0  0.724769  0.000000  0.593905  0.000000  0.591926\n",
       "4  2017-10-01 00:00:00  0.000000  0.788108  0.000000  0.188468  0.000000\n",
       "5                    0  0.986660  0.000000  0.114175  0.000000  0.113916\n",
       "6  2017-10-01 00:00:00  0.000000  0.963283  0.000000  0.781449  0.000000\n",
       "7                    0  0.144042  0.000000  0.719634  0.000000  0.736026\n",
       "8  2017-10-01 00:00:00  0.000000  0.740222  0.000000  0.404200  0.000000"
      ]
     },
     "execution_count": 46,
     "metadata": {},
     "output_type": "execute_result"
    }
   ],
   "source": [
    "df.fillna(0)\n",
    "df.fillna(method='pad')  # 前面的值填充\n",
    "df.fillna(method='bfill') # 后面的值填充"
   ]
  },
  {
   "cell_type": "code",
   "execution_count": 52,
   "metadata": {},
   "outputs": [
    {
     "data": {
      "application/vnd.microsoft.datawrangler.viewer.v0+json": {
       "columns": [
        {
         "name": "index",
         "rawType": "int64",
         "type": "integer"
        },
        {
         "name": "time",
         "rawType": "datetime64[ns]",
         "type": "datetime"
        },
        {
         "name": "A",
         "rawType": "float64",
         "type": "float"
        },
        {
         "name": "B",
         "rawType": "float64",
         "type": "float"
        },
        {
         "name": "C",
         "rawType": "float64",
         "type": "float"
        },
        {
         "name": "D",
         "rawType": "float64",
         "type": "float"
        },
        {
         "name": "E",
         "rawType": "float64",
         "type": "float"
        }
       ],
       "conversionMethod": "pd.DataFrame",
       "ref": "c7f30a26-c32e-4a77-b5c9-6379b6aa710b",
       "rows": [
        [
         "0",
         "2017-10-01 00:00:00",
         "0.2840545560280485",
         "0.961153347970795",
         "0.598887019073801",
         "0.16579590434692648",
         "0.2041999856647505"
        ],
        [
         "1",
         null,
         "0.4468215643673853",
         null,
         "0.7377199642178188",
         null,
         "0.7776993857638065"
        ],
        [
         "2",
         "2017-10-01 00:00:00",
         null,
         "0.8558590400044039",
         null,
         "0.653065743998811",
         null
        ],
        [
         "3",
         null,
         null,
         null,
         null,
         null,
         null
        ],
        [
         "4",
         "2017-10-01 00:00:00",
         null,
         "0.7881077953483574",
         null,
         "0.18846791348748737",
         null
        ],
        [
         "5",
         null,
         null,
         null,
         null,
         null,
         null
        ],
        [
         "6",
         "2017-10-01 00:00:00",
         null,
         "0.963282979471725",
         null,
         "0.781449252099396",
         null
        ],
        [
         "7",
         null,
         "0.1440420888130205",
         null,
         "0.7196341362055215",
         null,
         "0.7360255712196079"
        ],
        [
         "8",
         "2017-10-01 00:00:00",
         null,
         "0.7402217264804736",
         null,
         "0.4042001047716399",
         null
        ]
       ],
       "shape": {
        "columns": 6,
        "rows": 9
       }
      },
      "text/html": [
       "<div>\n",
       "<style scoped>\n",
       "    .dataframe tbody tr th:only-of-type {\n",
       "        vertical-align: middle;\n",
       "    }\n",
       "\n",
       "    .dataframe tbody tr th {\n",
       "        vertical-align: top;\n",
       "    }\n",
       "\n",
       "    .dataframe thead th {\n",
       "        text-align: right;\n",
       "    }\n",
       "</style>\n",
       "<table border=\"1\" class=\"dataframe\">\n",
       "  <thead>\n",
       "    <tr style=\"text-align: right;\">\n",
       "      <th></th>\n",
       "      <th>time</th>\n",
       "      <th>A</th>\n",
       "      <th>B</th>\n",
       "      <th>C</th>\n",
       "      <th>D</th>\n",
       "      <th>E</th>\n",
       "    </tr>\n",
       "  </thead>\n",
       "  <tbody>\n",
       "    <tr>\n",
       "      <th>0</th>\n",
       "      <td>2017-10-01</td>\n",
       "      <td>0.284055</td>\n",
       "      <td>0.961153</td>\n",
       "      <td>0.598887</td>\n",
       "      <td>0.165796</td>\n",
       "      <td>0.204200</td>\n",
       "    </tr>\n",
       "    <tr>\n",
       "      <th>1</th>\n",
       "      <td>NaT</td>\n",
       "      <td>0.446822</td>\n",
       "      <td>NaN</td>\n",
       "      <td>0.737720</td>\n",
       "      <td>NaN</td>\n",
       "      <td>0.777699</td>\n",
       "    </tr>\n",
       "    <tr>\n",
       "      <th>2</th>\n",
       "      <td>2017-10-01</td>\n",
       "      <td>NaN</td>\n",
       "      <td>0.855859</td>\n",
       "      <td>NaN</td>\n",
       "      <td>0.653066</td>\n",
       "      <td>NaN</td>\n",
       "    </tr>\n",
       "    <tr>\n",
       "      <th>3</th>\n",
       "      <td>NaT</td>\n",
       "      <td>NaN</td>\n",
       "      <td>NaN</td>\n",
       "      <td>NaN</td>\n",
       "      <td>NaN</td>\n",
       "      <td>NaN</td>\n",
       "    </tr>\n",
       "    <tr>\n",
       "      <th>4</th>\n",
       "      <td>2017-10-01</td>\n",
       "      <td>NaN</td>\n",
       "      <td>0.788108</td>\n",
       "      <td>NaN</td>\n",
       "      <td>0.188468</td>\n",
       "      <td>NaN</td>\n",
       "    </tr>\n",
       "    <tr>\n",
       "      <th>5</th>\n",
       "      <td>NaT</td>\n",
       "      <td>NaN</td>\n",
       "      <td>NaN</td>\n",
       "      <td>NaN</td>\n",
       "      <td>NaN</td>\n",
       "      <td>NaN</td>\n",
       "    </tr>\n",
       "    <tr>\n",
       "      <th>6</th>\n",
       "      <td>2017-10-01</td>\n",
       "      <td>NaN</td>\n",
       "      <td>0.963283</td>\n",
       "      <td>NaN</td>\n",
       "      <td>0.781449</td>\n",
       "      <td>NaN</td>\n",
       "    </tr>\n",
       "    <tr>\n",
       "      <th>7</th>\n",
       "      <td>NaT</td>\n",
       "      <td>0.144042</td>\n",
       "      <td>NaN</td>\n",
       "      <td>0.719634</td>\n",
       "      <td>NaN</td>\n",
       "      <td>0.736026</td>\n",
       "    </tr>\n",
       "    <tr>\n",
       "      <th>8</th>\n",
       "      <td>2017-10-01</td>\n",
       "      <td>NaN</td>\n",
       "      <td>0.740222</td>\n",
       "      <td>NaN</td>\n",
       "      <td>0.404200</td>\n",
       "      <td>NaN</td>\n",
       "    </tr>\n",
       "  </tbody>\n",
       "</table>\n",
       "</div>"
      ],
      "text/plain": [
       "        time         A         B         C         D         E\n",
       "0 2017-10-01  0.284055  0.961153  0.598887  0.165796  0.204200\n",
       "1        NaT  0.446822       NaN  0.737720       NaN  0.777699\n",
       "2 2017-10-01       NaN  0.855859       NaN  0.653066       NaN\n",
       "3        NaT       NaN       NaN       NaN       NaN       NaN\n",
       "4 2017-10-01       NaN  0.788108       NaN  0.188468       NaN\n",
       "5        NaT       NaN       NaN       NaN       NaN       NaN\n",
       "6 2017-10-01       NaN  0.963283       NaN  0.781449       NaN\n",
       "7        NaT  0.144042       NaN  0.719634       NaN  0.736026\n",
       "8 2017-10-01       NaN  0.740222       NaN  0.404200       NaN"
      ]
     },
     "execution_count": 52,
     "metadata": {},
     "output_type": "execute_result"
    }
   ],
   "source": [
    "df.iloc[[3, 5], [1, 3, 5]] = np.nan\n",
    "df"
   ]
  },
  {
   "cell_type": "code",
   "execution_count": 53,
   "metadata": {},
   "outputs": [
    {
     "data": {
      "application/vnd.microsoft.datawrangler.viewer.v0+json": {
       "columns": [
        {
         "name": "index",
         "rawType": "int64",
         "type": "integer"
        },
        {
         "name": "time",
         "rawType": "datetime64[ns]",
         "type": "datetime"
        },
        {
         "name": "A",
         "rawType": "float64",
         "type": "float"
        },
        {
         "name": "B",
         "rawType": "float64",
         "type": "float"
        },
        {
         "name": "C",
         "rawType": "float64",
         "type": "float"
        },
        {
         "name": "D",
         "rawType": "float64",
         "type": "float"
        },
        {
         "name": "E",
         "rawType": "float64",
         "type": "float"
        }
       ],
       "conversionMethod": "pd.DataFrame",
       "ref": "78e8009f-5467-4e3a-ab99-cca2f859cef8",
       "rows": [
        [
         "0",
         "2017-10-01 00:00:00",
         "0.2840545560280485",
         "0.961153347970795",
         "0.598887019073801",
         "0.16579590434692648",
         "0.2041999856647505"
        ],
        [
         "1",
         "2017-10-01 00:00:00",
         "0.4468215643673853",
         "0.961153347970795",
         "0.7377199642178188",
         "0.16579590434692648",
         "0.7776993857638065"
        ],
        [
         "2",
         "2017-10-01 00:00:00",
         "0.4468215643673853",
         "0.8558590400044039",
         "0.7377199642178188",
         "0.653065743998811",
         "0.7776993857638065"
        ],
        [
         "3",
         "2017-10-01 00:00:00",
         "0.4468215643673853",
         "0.8558590400044039",
         "0.7377199642178188",
         "0.653065743998811",
         "0.7776993857638065"
        ],
        [
         "4",
         "2017-10-01 00:00:00",
         "0.4468215643673853",
         "0.7881077953483574",
         "0.7377199642178188",
         "0.18846791348748737",
         "0.7776993857638065"
        ],
        [
         "5",
         "2017-10-01 00:00:00",
         "0.4468215643673853",
         "0.7881077953483574",
         "0.7377199642178188",
         "0.18846791348748737",
         "0.7776993857638065"
        ],
        [
         "6",
         "2017-10-01 00:00:00",
         "0.4468215643673853",
         "0.963282979471725",
         "0.7377199642178188",
         "0.781449252099396",
         "0.7776993857638065"
        ],
        [
         "7",
         "2017-10-01 00:00:00",
         "0.1440420888130205",
         "0.963282979471725",
         "0.7196341362055215",
         "0.781449252099396",
         "0.7360255712196079"
        ],
        [
         "8",
         "2017-10-01 00:00:00",
         "0.1440420888130205",
         "0.7402217264804736",
         "0.7196341362055215",
         "0.4042001047716399",
         "0.7360255712196079"
        ]
       ],
       "shape": {
        "columns": 6,
        "rows": 9
       }
      },
      "text/html": [
       "<div>\n",
       "<style scoped>\n",
       "    .dataframe tbody tr th:only-of-type {\n",
       "        vertical-align: middle;\n",
       "    }\n",
       "\n",
       "    .dataframe tbody tr th {\n",
       "        vertical-align: top;\n",
       "    }\n",
       "\n",
       "    .dataframe thead th {\n",
       "        text-align: right;\n",
       "    }\n",
       "</style>\n",
       "<table border=\"1\" class=\"dataframe\">\n",
       "  <thead>\n",
       "    <tr style=\"text-align: right;\">\n",
       "      <th></th>\n",
       "      <th>time</th>\n",
       "      <th>A</th>\n",
       "      <th>B</th>\n",
       "      <th>C</th>\n",
       "      <th>D</th>\n",
       "      <th>E</th>\n",
       "    </tr>\n",
       "  </thead>\n",
       "  <tbody>\n",
       "    <tr>\n",
       "      <th>0</th>\n",
       "      <td>2017-10-01</td>\n",
       "      <td>0.284055</td>\n",
       "      <td>0.961153</td>\n",
       "      <td>0.598887</td>\n",
       "      <td>0.165796</td>\n",
       "      <td>0.204200</td>\n",
       "    </tr>\n",
       "    <tr>\n",
       "      <th>1</th>\n",
       "      <td>2017-10-01</td>\n",
       "      <td>0.446822</td>\n",
       "      <td>0.961153</td>\n",
       "      <td>0.737720</td>\n",
       "      <td>0.165796</td>\n",
       "      <td>0.777699</td>\n",
       "    </tr>\n",
       "    <tr>\n",
       "      <th>2</th>\n",
       "      <td>2017-10-01</td>\n",
       "      <td>0.446822</td>\n",
       "      <td>0.855859</td>\n",
       "      <td>0.737720</td>\n",
       "      <td>0.653066</td>\n",
       "      <td>0.777699</td>\n",
       "    </tr>\n",
       "    <tr>\n",
       "      <th>3</th>\n",
       "      <td>2017-10-01</td>\n",
       "      <td>0.446822</td>\n",
       "      <td>0.855859</td>\n",
       "      <td>0.737720</td>\n",
       "      <td>0.653066</td>\n",
       "      <td>0.777699</td>\n",
       "    </tr>\n",
       "    <tr>\n",
       "      <th>4</th>\n",
       "      <td>2017-10-01</td>\n",
       "      <td>0.446822</td>\n",
       "      <td>0.788108</td>\n",
       "      <td>0.737720</td>\n",
       "      <td>0.188468</td>\n",
       "      <td>0.777699</td>\n",
       "    </tr>\n",
       "    <tr>\n",
       "      <th>5</th>\n",
       "      <td>2017-10-01</td>\n",
       "      <td>0.446822</td>\n",
       "      <td>0.788108</td>\n",
       "      <td>0.737720</td>\n",
       "      <td>0.188468</td>\n",
       "      <td>0.777699</td>\n",
       "    </tr>\n",
       "    <tr>\n",
       "      <th>6</th>\n",
       "      <td>2017-10-01</td>\n",
       "      <td>0.446822</td>\n",
       "      <td>0.963283</td>\n",
       "      <td>0.737720</td>\n",
       "      <td>0.781449</td>\n",
       "      <td>0.777699</td>\n",
       "    </tr>\n",
       "    <tr>\n",
       "      <th>7</th>\n",
       "      <td>2017-10-01</td>\n",
       "      <td>0.144042</td>\n",
       "      <td>0.963283</td>\n",
       "      <td>0.719634</td>\n",
       "      <td>0.781449</td>\n",
       "      <td>0.736026</td>\n",
       "    </tr>\n",
       "    <tr>\n",
       "      <th>8</th>\n",
       "      <td>2017-10-01</td>\n",
       "      <td>0.144042</td>\n",
       "      <td>0.740222</td>\n",
       "      <td>0.719634</td>\n",
       "      <td>0.404200</td>\n",
       "      <td>0.736026</td>\n",
       "    </tr>\n",
       "  </tbody>\n",
       "</table>\n",
       "</div>"
      ],
      "text/plain": [
       "        time         A         B         C         D         E\n",
       "0 2017-10-01  0.284055  0.961153  0.598887  0.165796  0.204200\n",
       "1 2017-10-01  0.446822  0.961153  0.737720  0.165796  0.777699\n",
       "2 2017-10-01  0.446822  0.855859  0.737720  0.653066  0.777699\n",
       "3 2017-10-01  0.446822  0.855859  0.737720  0.653066  0.777699\n",
       "4 2017-10-01  0.446822  0.788108  0.737720  0.188468  0.777699\n",
       "5 2017-10-01  0.446822  0.788108  0.737720  0.188468  0.777699\n",
       "6 2017-10-01  0.446822  0.963283  0.737720  0.781449  0.777699\n",
       "7 2017-10-01  0.144042  0.963283  0.719634  0.781449  0.736026\n",
       "8 2017-10-01  0.144042  0.740222  0.719634  0.404200  0.736026"
      ]
     },
     "execution_count": 53,
     "metadata": {},
     "output_type": "execute_result"
    }
   ],
   "source": [
    "df.fillna(method='pad')\n",
    "# df.fillna(method='pad', limit=1)  # 最多填充一项"
   ]
  },
  {
   "cell_type": "code",
   "execution_count": 54,
   "metadata": {},
   "outputs": [
    {
     "name": "stderr",
     "output_type": "stream",
     "text": [
      "C:\\Users\\change longer\\AppData\\Local\\Temp\\ipykernel_25100\\2865332798.py:1: FutureWarning: DataFrame.mean and DataFrame.median with numeric_only=None will include datetime64 and datetime64tz columns in a future version.\n",
      "  df.fillna(df.mean()['C':'E']) # 对 C 列到 E 列用平均值填充\n"
     ]
    },
    {
     "data": {
      "application/vnd.microsoft.datawrangler.viewer.v0+json": {
       "columns": [
        {
         "name": "index",
         "rawType": "int64",
         "type": "integer"
        },
        {
         "name": "time",
         "rawType": "datetime64[ns]",
         "type": "datetime"
        },
        {
         "name": "A",
         "rawType": "float64",
         "type": "float"
        },
        {
         "name": "B",
         "rawType": "float64",
         "type": "float"
        },
        {
         "name": "C",
         "rawType": "float64",
         "type": "float"
        },
        {
         "name": "D",
         "rawType": "float64",
         "type": "float"
        },
        {
         "name": "E",
         "rawType": "float64",
         "type": "float"
        }
       ],
       "conversionMethod": "pd.DataFrame",
       "ref": "33da3c5d-27ec-4a07-9687-d27a60bb73b2",
       "rows": [
        [
         "0",
         "2017-10-01 00:00:00",
         "0.2840545560280485",
         "0.961153347970795",
         "0.598887019073801",
         "0.16579590434692648",
         "0.2041999856647505"
        ],
        [
         "1",
         null,
         "0.4468215643673853",
         null,
         "0.7377199642178188",
         "0.4385957837408522",
         "0.7776993857638065"
        ],
        [
         "2",
         "2017-10-01 00:00:00",
         null,
         "0.8558590400044039",
         "0.6854137064990472",
         "0.653065743998811",
         "0.5726416475493883"
        ],
        [
         "3",
         null,
         null,
         null,
         "0.6854137064990472",
         "0.4385957837408522",
         "0.5726416475493883"
        ],
        [
         "4",
         "2017-10-01 00:00:00",
         null,
         "0.7881077953483574",
         "0.6854137064990472",
         "0.18846791348748737",
         "0.5726416475493883"
        ],
        [
         "5",
         null,
         null,
         null,
         "0.6854137064990472",
         "0.4385957837408522",
         "0.5726416475493883"
        ],
        [
         "6",
         "2017-10-01 00:00:00",
         null,
         "0.963282979471725",
         "0.6854137064990472",
         "0.781449252099396",
         "0.5726416475493883"
        ],
        [
         "7",
         null,
         "0.1440420888130205",
         null,
         "0.7196341362055215",
         "0.4385957837408522",
         "0.7360255712196079"
        ],
        [
         "8",
         "2017-10-01 00:00:00",
         null,
         "0.7402217264804736",
         "0.6854137064990472",
         "0.4042001047716399",
         "0.5726416475493883"
        ]
       ],
       "shape": {
        "columns": 6,
        "rows": 9
       }
      },
      "text/html": [
       "<div>\n",
       "<style scoped>\n",
       "    .dataframe tbody tr th:only-of-type {\n",
       "        vertical-align: middle;\n",
       "    }\n",
       "\n",
       "    .dataframe tbody tr th {\n",
       "        vertical-align: top;\n",
       "    }\n",
       "\n",
       "    .dataframe thead th {\n",
       "        text-align: right;\n",
       "    }\n",
       "</style>\n",
       "<table border=\"1\" class=\"dataframe\">\n",
       "  <thead>\n",
       "    <tr style=\"text-align: right;\">\n",
       "      <th></th>\n",
       "      <th>time</th>\n",
       "      <th>A</th>\n",
       "      <th>B</th>\n",
       "      <th>C</th>\n",
       "      <th>D</th>\n",
       "      <th>E</th>\n",
       "    </tr>\n",
       "  </thead>\n",
       "  <tbody>\n",
       "    <tr>\n",
       "      <th>0</th>\n",
       "      <td>2017-10-01</td>\n",
       "      <td>0.284055</td>\n",
       "      <td>0.961153</td>\n",
       "      <td>0.598887</td>\n",
       "      <td>0.165796</td>\n",
       "      <td>0.204200</td>\n",
       "    </tr>\n",
       "    <tr>\n",
       "      <th>1</th>\n",
       "      <td>NaT</td>\n",
       "      <td>0.446822</td>\n",
       "      <td>NaN</td>\n",
       "      <td>0.737720</td>\n",
       "      <td>0.438596</td>\n",
       "      <td>0.777699</td>\n",
       "    </tr>\n",
       "    <tr>\n",
       "      <th>2</th>\n",
       "      <td>2017-10-01</td>\n",
       "      <td>NaN</td>\n",
       "      <td>0.855859</td>\n",
       "      <td>0.685414</td>\n",
       "      <td>0.653066</td>\n",
       "      <td>0.572642</td>\n",
       "    </tr>\n",
       "    <tr>\n",
       "      <th>3</th>\n",
       "      <td>NaT</td>\n",
       "      <td>NaN</td>\n",
       "      <td>NaN</td>\n",
       "      <td>0.685414</td>\n",
       "      <td>0.438596</td>\n",
       "      <td>0.572642</td>\n",
       "    </tr>\n",
       "    <tr>\n",
       "      <th>4</th>\n",
       "      <td>2017-10-01</td>\n",
       "      <td>NaN</td>\n",
       "      <td>0.788108</td>\n",
       "      <td>0.685414</td>\n",
       "      <td>0.188468</td>\n",
       "      <td>0.572642</td>\n",
       "    </tr>\n",
       "    <tr>\n",
       "      <th>5</th>\n",
       "      <td>NaT</td>\n",
       "      <td>NaN</td>\n",
       "      <td>NaN</td>\n",
       "      <td>0.685414</td>\n",
       "      <td>0.438596</td>\n",
       "      <td>0.572642</td>\n",
       "    </tr>\n",
       "    <tr>\n",
       "      <th>6</th>\n",
       "      <td>2017-10-01</td>\n",
       "      <td>NaN</td>\n",
       "      <td>0.963283</td>\n",
       "      <td>0.685414</td>\n",
       "      <td>0.781449</td>\n",
       "      <td>0.572642</td>\n",
       "    </tr>\n",
       "    <tr>\n",
       "      <th>7</th>\n",
       "      <td>NaT</td>\n",
       "      <td>0.144042</td>\n",
       "      <td>NaN</td>\n",
       "      <td>0.719634</td>\n",
       "      <td>0.438596</td>\n",
       "      <td>0.736026</td>\n",
       "    </tr>\n",
       "    <tr>\n",
       "      <th>8</th>\n",
       "      <td>2017-10-01</td>\n",
       "      <td>NaN</td>\n",
       "      <td>0.740222</td>\n",
       "      <td>0.685414</td>\n",
       "      <td>0.404200</td>\n",
       "      <td>0.572642</td>\n",
       "    </tr>\n",
       "  </tbody>\n",
       "</table>\n",
       "</div>"
      ],
      "text/plain": [
       "        time         A         B         C         D         E\n",
       "0 2017-10-01  0.284055  0.961153  0.598887  0.165796  0.204200\n",
       "1        NaT  0.446822       NaN  0.737720  0.438596  0.777699\n",
       "2 2017-10-01       NaN  0.855859  0.685414  0.653066  0.572642\n",
       "3        NaT       NaN       NaN  0.685414  0.438596  0.572642\n",
       "4 2017-10-01       NaN  0.788108  0.685414  0.188468  0.572642\n",
       "5        NaT       NaN       NaN  0.685414  0.438596  0.572642\n",
       "6 2017-10-01       NaN  0.963283  0.685414  0.781449  0.572642\n",
       "7        NaT  0.144042       NaN  0.719634  0.438596  0.736026\n",
       "8 2017-10-01       NaN  0.740222  0.685414  0.404200  0.572642"
      ]
     },
     "execution_count": 54,
     "metadata": {},
     "output_type": "execute_result"
    }
   ],
   "source": [
    "df.fillna(df.mean()['C':'E']) # 对 C 列到 E 列用平均值填充"
   ]
  },
  {
   "cell_type": "markdown",
   "metadata": {},
   "source": [
    "**插入填充**"
   ]
  },
  {
   "cell_type": "code",
   "execution_count": 55,
   "metadata": {},
   "outputs": [
    {
     "data": {
      "application/vnd.microsoft.datawrangler.viewer.v0+json": {
       "columns": [
        {
         "name": "index",
         "rawType": "int64",
         "type": "integer"
        },
        {
         "name": "A",
         "rawType": "float64",
         "type": "float"
        },
        {
         "name": "B",
         "rawType": "float64",
         "type": "float"
        }
       ],
       "conversionMethod": "pd.DataFrame",
       "ref": "9c49ae5d-1fc1-49e0-9d47-79bcd1eb178f",
       "rows": [
        [
         "0",
         "1.1",
         "0.21"
        ],
        [
         "1",
         "2.2",
         null
        ],
        [
         "2",
         null,
         null
        ],
        [
         "3",
         "4.5",
         "3.1"
        ],
        [
         "4",
         "5.7",
         "11.7"
        ],
        [
         "5",
         "6.9",
         "13.2"
        ]
       ],
       "shape": {
        "columns": 2,
        "rows": 6
       }
      },
      "text/html": [
       "<div>\n",
       "<style scoped>\n",
       "    .dataframe tbody tr th:only-of-type {\n",
       "        vertical-align: middle;\n",
       "    }\n",
       "\n",
       "    .dataframe tbody tr th {\n",
       "        vertical-align: top;\n",
       "    }\n",
       "\n",
       "    .dataframe thead th {\n",
       "        text-align: right;\n",
       "    }\n",
       "</style>\n",
       "<table border=\"1\" class=\"dataframe\">\n",
       "  <thead>\n",
       "    <tr style=\"text-align: right;\">\n",
       "      <th></th>\n",
       "      <th>A</th>\n",
       "      <th>B</th>\n",
       "    </tr>\n",
       "  </thead>\n",
       "  <tbody>\n",
       "    <tr>\n",
       "      <th>0</th>\n",
       "      <td>1.1</td>\n",
       "      <td>0.21</td>\n",
       "    </tr>\n",
       "    <tr>\n",
       "      <th>1</th>\n",
       "      <td>2.2</td>\n",
       "      <td>NaN</td>\n",
       "    </tr>\n",
       "    <tr>\n",
       "      <th>2</th>\n",
       "      <td>NaN</td>\n",
       "      <td>NaN</td>\n",
       "    </tr>\n",
       "    <tr>\n",
       "      <th>3</th>\n",
       "      <td>4.5</td>\n",
       "      <td>3.10</td>\n",
       "    </tr>\n",
       "    <tr>\n",
       "      <th>4</th>\n",
       "      <td>5.7</td>\n",
       "      <td>11.70</td>\n",
       "    </tr>\n",
       "    <tr>\n",
       "      <th>5</th>\n",
       "      <td>6.9</td>\n",
       "      <td>13.20</td>\n",
       "    </tr>\n",
       "  </tbody>\n",
       "</table>\n",
       "</div>"
      ],
      "text/plain": [
       "     A      B\n",
       "0  1.1   0.21\n",
       "1  2.2    NaN\n",
       "2  NaN    NaN\n",
       "3  4.5   3.10\n",
       "4  5.7  11.70\n",
       "5  6.9  13.20"
      ]
     },
     "execution_count": 55,
     "metadata": {},
     "output_type": "execute_result"
    }
   ],
   "source": [
    "# 生成一个 DataFrame\n",
    "df = pd.DataFrame({'A': [1.1, 2.2, np.nan, 4.5, 5.7, 6.9],\n",
    "                   'B': [.21, np.nan, np.nan, 3.1, 11.7, 13.2]})\n",
    "df"
   ]
  },
  {
   "cell_type": "code",
   "execution_count": 56,
   "metadata": {},
   "outputs": [
    {
     "data": {
      "application/vnd.microsoft.datawrangler.viewer.v0+json": {
       "columns": [
        {
         "name": "index",
         "rawType": "int64",
         "type": "integer"
        },
        {
         "name": "A",
         "rawType": "float64",
         "type": "float"
        },
        {
         "name": "B",
         "rawType": "float64",
         "type": "float"
        }
       ],
       "conversionMethod": "pd.DataFrame",
       "ref": "8b2b0762-c4c2-40c0-a329-d22389722df5",
       "rows": [
        [
         "0",
         "1.1",
         "0.21"
        ],
        [
         "1",
         "2.2",
         "1.1733333333333333"
        ],
        [
         "2",
         "3.35",
         "2.1366666666666667"
        ],
        [
         "3",
         "4.5",
         "3.1"
        ],
        [
         "4",
         "5.7",
         "11.7"
        ],
        [
         "5",
         "6.9",
         "13.2"
        ]
       ],
       "shape": {
        "columns": 2,
        "rows": 6
       }
      },
      "text/html": [
       "<div>\n",
       "<style scoped>\n",
       "    .dataframe tbody tr th:only-of-type {\n",
       "        vertical-align: middle;\n",
       "    }\n",
       "\n",
       "    .dataframe tbody tr th {\n",
       "        vertical-align: top;\n",
       "    }\n",
       "\n",
       "    .dataframe thead th {\n",
       "        text-align: right;\n",
       "    }\n",
       "</style>\n",
       "<table border=\"1\" class=\"dataframe\">\n",
       "  <thead>\n",
       "    <tr style=\"text-align: right;\">\n",
       "      <th></th>\n",
       "      <th>A</th>\n",
       "      <th>B</th>\n",
       "    </tr>\n",
       "  </thead>\n",
       "  <tbody>\n",
       "    <tr>\n",
       "      <th>0</th>\n",
       "      <td>1.10</td>\n",
       "      <td>0.210000</td>\n",
       "    </tr>\n",
       "    <tr>\n",
       "      <th>1</th>\n",
       "      <td>2.20</td>\n",
       "      <td>1.173333</td>\n",
       "    </tr>\n",
       "    <tr>\n",
       "      <th>2</th>\n",
       "      <td>3.35</td>\n",
       "      <td>2.136667</td>\n",
       "    </tr>\n",
       "    <tr>\n",
       "      <th>3</th>\n",
       "      <td>4.50</td>\n",
       "      <td>3.100000</td>\n",
       "    </tr>\n",
       "    <tr>\n",
       "      <th>4</th>\n",
       "      <td>5.70</td>\n",
       "      <td>11.700000</td>\n",
       "    </tr>\n",
       "    <tr>\n",
       "      <th>5</th>\n",
       "      <td>6.90</td>\n",
       "      <td>13.200000</td>\n",
       "    </tr>\n",
       "  </tbody>\n",
       "</table>\n",
       "</div>"
      ],
      "text/plain": [
       "      A          B\n",
       "0  1.10   0.210000\n",
       "1  2.20   1.173333\n",
       "2  3.35   2.136667\n",
       "3  4.50   3.100000\n",
       "4  5.70  11.700000\n",
       "5  6.90  13.200000"
      ]
     },
     "execution_count": 56,
     "metadata": {},
     "output_type": "execute_result"
    }
   ],
   "source": [
    "df_interpolate = df.interpolate()\n",
    "df_interpolate"
   ]
  },
  {
   "cell_type": "markdown",
   "metadata": {},
   "source": [
    "对于 interpolate() 支持的插值算法，也就是 method=。下面给出几条选择的建议：\n",
    "\n",
    "1. 如果你的数据增长速率越来越快，可以选择 method='quadratic'二次插值。\n",
    "2. 如果数据集呈现出累计分布的样子，推荐选择 method='pchip'。\n",
    "3. 如果需要填补缺省值，以平滑绘图为目标，推荐选择 method='akima'。   \n",
    "\n",
    "当然，最后提到的 method='akima'，需要你的环境中安装了 Scipy 库。除此之外，method='barycentric' 和 method='pchip' 同样也需要 Scipy 才能使用。"
   ]
  },
  {
   "cell_type": "code",
   "execution_count": 57,
   "metadata": {},
   "outputs": [
    {
     "data": {
      "text/plain": [
       "<AxesSubplot:>"
      ]
     },
     "execution_count": 57,
     "metadata": {},
     "output_type": "execute_result"
    },
    {
     "data": {
      "image/png": "[encoded data removed]",
      "text/plain": [
       "<Figure size 640x480 with 1 Axes>"
      ]
     },
     "metadata": {},
     "output_type": "display_data"
    }
   ],
   "source": [
    "df_interpolate.plot()"
   ]
  },
  {
   "cell_type": "code",
   "execution_count": 58,
   "metadata": {},
   "outputs": [
    {
     "data": {
      "text/plain": [
       "<AxesSubplot:>"
      ]
     },
     "execution_count": 58,
     "metadata": {},
     "output_type": "execute_result"
    },
    {
     "data": {
      "image/png": "[encoded data removed]",
      "text/plain": [
       "<Figure size 640x480 with 1 Axes>"
      ]
     },
     "metadata": {},
     "output_type": "display_data"
    }
   ],
   "source": [
    "df_interpolate.plot(kind='bar')"
   ]
  },
  {
   "cell_type": "code",
   "execution_count": null,
   "metadata": {},
   "outputs": [],
   "source": []
  }
 ],
 "metadata": {
  "kernelspec": {
   "display_name": "lanqiao",
   "language": "python",
   "name": "python3"
  },
  "language_info": {
   "codemirror_mode": {
    "name": "ipython",
    "version": 3
   },
   "file_extension": ".py",
   "mimetype": "text/x-python",
   "name": "python",
   "nbconvert_exporter": "python",
   "pygments_lexer": "ipython3",
   "version": "3.8.20"
  }
 },
 "nbformat": 4,
 "nbformat_minor": 2
}
